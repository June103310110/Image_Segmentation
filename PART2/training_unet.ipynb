{
 "cells": [
  {
   "cell_type": "markdown",
   "id": "390cb269",
   "metadata": {},
   "source": [
    "## Unet\n",
    "<img src=\"https://i.imgur.com/LQORH9i.png\" alt=\"drawing\" width=\"400\"/>"
   ]
  },
  {
   "cell_type": "code",
   "execution_count": 4,
   "id": "85e96919",
   "metadata": {},
   "outputs": [],
   "source": [
    "!pip install -q --user albumentations"
   ]
  },
  {
   "cell_type": "code",
   "execution_count": 6,
   "id": "caecea48",
   "metadata": {},
   "outputs": [],
   "source": [
    "import cv2\n",
    "import numpy as np\n",
    "import torch # 1.9\n",
    "import torch.nn as nn\n",
    "from torch.utils.data import Dataset\n",
    "import numpy as np\n",
    "import matplotlib.pyplot as plt\n",
    "import albumentations as A\n",
    "import os\n",
    "import torch.optim as optim\n",
    "from utils import *\n",
    "from unet import UNet"
   ]
  },
  {
   "cell_type": "code",
   "execution_count": 9,
   "id": "417366bc",
   "metadata": {},
   "outputs": [],
   "source": [
    "import warnings\n",
    "warnings.filterwarnings(\"ignore\")"
   ]
  },
  {
   "cell_type": "code",
   "execution_count": 7,
   "id": "e8466d38",
   "metadata": {},
   "outputs": [],
   "source": [
    "BATCH_SIZE = 32\n",
    "NUM_LABELS = 1\n",
    "WIDTH = 512\n",
    "HEIGHT = 512"
   ]
  },
  {
   "cell_type": "code",
   "execution_count": 8,
   "id": "6591ae2f",
   "metadata": {},
   "outputs": [
    {
     "data": {
      "text/plain": [
       "torch.Size([1, 1, 512, 512])"
      ]
     },
     "execution_count": 8,
     "metadata": {},
     "output_type": "execute_result"
    }
   ],
   "source": [
    "unet = UNet(num_class=1, padding = 'same', out_sz=(WIDTH,HEIGHT), retain_dim=False)\n",
    "unet#.to(device)\n",
    "x    = torch.randn(1, 3, WIDTH, HEIGHT)#.to(device)\n",
    "y_pred = unet(x)\n",
    "y_pred.shape"
   ]
  },
  {
   "cell_type": "markdown",
   "id": "4792a8f8",
   "metadata": {},
   "source": [
    "### 下載資料集 (MVtech)\n",
    "THE MVTEC ANOMALY DETECTION DATASET (MVTEC AD)\n",
    "\n",
    "\n",
    "<img src=\"https://www.mvtec.com/fileadmin/Redaktion/mvtec.com/company/research/datasets/dataset_overview_large.png\" alt=\"drawing\" width=\"400\"/>"
   ]
  },
  {
   "cell_type": "code",
   "execution_count": 10,
   "id": "916cd2fb",
   "metadata": {},
   "outputs": [],
   "source": [
    "import os   \n",
    "cmd = '''mkdir ./data\n",
    "wget -q https://www.mydrive.ch/shares/38536/3830184030e49fe74747669442f0f282/download/420937454-1629951595/capsule.tar.xz -O data/MVtech-capsule.tar.xz\n",
    "tar -Jxf data/MVtech-capsule.tar.xz --overwrite --directory ./data\n",
    "'''\n",
    "if not os.path.isdir('./data/capsule'):\n",
    "    for i in cmd.split('\\n'):\n",
    "        os.system(i)"
   ]
  },
  {
   "cell_type": "code",
   "execution_count": null,
   "id": "3560995a",
   "metadata": {},
   "outputs": [],
   "source": []
  }
 ],
 "metadata": {
  "kernelspec": {
   "display_name": "Python 3 (ipykernel)",
   "language": "python",
   "name": "python3"
  },
  "language_info": {
   "codemirror_mode": {
    "name": "ipython",
    "version": 3
   },
   "file_extension": ".py",
   "mimetype": "text/x-python",
   "name": "python",
   "nbconvert_exporter": "python",
   "pygments_lexer": "ipython3",
   "version": "3.7.10"
  }
 },
 "nbformat": 4,
 "nbformat_minor": 5
}
