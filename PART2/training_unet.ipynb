{
 "cells": [
  {
   "cell_type": "markdown",
   "id": "3483862d",
   "metadata": {},
   "source": [
    "### 在資料集上測試 (MVtech)\n",
    "資料集: \n",
    "> THE MVTEC ANOMALY DETECTION DATASET (MVTEC AD)\n",
    "> https://www.mvtec.com/company/research/datasets/mvtec-ad\n",
    "\n",
    "\n",
    "<img src=\"https://www.mvtec.com/fileadmin/Redaktion/mvtec.com/company/research/datasets/dataset_overview_large.png\" alt=\"drawing\" width=\"400\"/>"
   ]
  },
  {
   "cell_type": "code",
   "execution_count": 1,
   "id": "afbdea37",
   "metadata": {},
   "outputs": [],
   "source": [
    "!pip install -q --user albumentations"
   ]
  },
  {
   "cell_type": "code",
   "execution_count": 2,
   "id": "2a541a33",
   "metadata": {},
   "outputs": [],
   "source": [
    "import cv2\n",
    "import numpy as np\n",
    "import torch # 1.9\n",
    "import torch.nn as nn\n",
    "from torch.utils.data import Dataset\n",
    "import numpy as np\n",
    "import matplotlib.pyplot as plt\n",
    "import albumentations as A\n",
    "import os\n",
    "import torch.optim as optim\n",
    "from utils import show_image_mask, mask_CutMix, patience\n",
    "from unet import UNet\n",
    "import time"
   ]
  },
  {
   "cell_type": "code",
   "execution_count": 3,
   "id": "2d6a1f68",
   "metadata": {},
   "outputs": [],
   "source": [
    "import warnings\n",
    "warnings.filterwarnings(\"ignore\")"
   ]
  },
  {
   "cell_type": "code",
   "execution_count": 4,
   "id": "114a4191",
   "metadata": {},
   "outputs": [
    {
     "data": {
      "text/plain": [
       "device(type='cuda')"
      ]
     },
     "execution_count": 4,
     "metadata": {},
     "output_type": "execute_result"
    }
   ],
   "source": [
    "device = torch.device('cuda' if torch.cuda.is_available() else 'cpu')\n",
    "# device = 'cpu' # for debug建議使用cpu作為torch的運行背景\n",
    "device"
   ]
  },
  {
   "cell_type": "code",
   "execution_count": 5,
   "id": "bde3b970",
   "metadata": {},
   "outputs": [],
   "source": [
    "BATCH_SIZE = 16\n",
    "NUM_LABELS = 1\n",
    "WIDTH = 128\n",
    "HEIGHT = 128\n",
    "MULTI_CHANNELS = False"
   ]
  },
  {
   "cell_type": "code",
   "execution_count": 6,
   "id": "12d78dce",
   "metadata": {},
   "outputs": [],
   "source": [
    "unet = UNet(num_class=1, padding = 'same', out_sz=(WIDTH,HEIGHT), retain_dim=False)\n",
    "unet#.to(device)\n",
    "x    = torch.randn(1, 3, WIDTH, HEIGHT)#.to(device)\n",
    "y_pred = unet(x)\n",
    "y_pred.shape\n",
    "\n",
    "del unet"
   ]
  },
  {
   "cell_type": "code",
   "execution_count": 7,
   "id": "3595cee7",
   "metadata": {},
   "outputs": [],
   "source": [
    "# import os   \n",
    "cmd = '''mkdir ./data\n",
    "wget -q https://www.mydrive.ch/shares/38536/3830184030e49fe74747669442f0f282/download/420937454-1629951595/capsule.tar.xz -O data/MVtech-capsule.tar.xz\n",
    "tar -Jxf data/MVtech-capsule.tar.xz --overwrite --directory ./data\n",
    "'''\n",
    "if not os.path.isdir('./data/capsule'):\n",
    "    for i in cmd.split('\\n'):\n",
    "        os.system(i)"
   ]
  },
  {
   "cell_type": "code",
   "execution_count": 8,
   "id": "82b07c9f",
   "metadata": {},
   "outputs": [
    {
     "name": "stdout",
     "output_type": "stream",
     "text": [
      "23\n"
     ]
    }
   ],
   "source": [
    "item = 'capsule'\n",
    "path = os.getcwd()\n",
    "img_dir = f'{path}/data/{item}/test/scratch/'\n",
    "print(len(os.listdir(img_dir)))\n",
    "anno_dir = f'{path}/data/{item}/ground_truth/scratch/'\n",
    "\n",
    "defective_number = [i.split('.')[0] for i in os.listdir(img_dir)]"
   ]
  },
  {
   "cell_type": "markdown",
   "id": "d9ed4ac5",
   "metadata": {},
   "source": [
    "### 取得image list\n",
    "輸出: data_dic (字典)\n",
    "- key: X_train, X_test, y_train, y_test"
   ]
  },
  {
   "cell_type": "code",
   "execution_count": 9,
   "id": "79012eba",
   "metadata": {},
   "outputs": [
    {
     "data": {
      "text/plain": [
       "['/home/jovyan/git/Image_Segmentation/PART2/data/capsule/test/scratch/002.png',\n",
       " '/home/jovyan/git/Image_Segmentation/PART2/data/capsule/test/scratch/013.png']"
      ]
     },
     "execution_count": 9,
     "metadata": {},
     "output_type": "execute_result"
    }
   ],
   "source": [
    "from sklearn.model_selection import train_test_split\n",
    "mask_dir = lambda anno_dir, X_lis:[anno_dir+i.split('.')[0]+'_mask.png' for i in X_lis]\n",
    "\n",
    "imgs_path_list = sorted(os.listdir(img_dir))\n",
    "\n",
    "size = 1/len(imgs_path_list)\n",
    "size = 0.1\n",
    "train, test = train_test_split(imgs_path_list, train_size = size)\n",
    "\n",
    "key = 'X_train, X_test, y_train, y_test'.split(', ')\n",
    "\n",
    "lis = []\n",
    "for number in [train, test]:\n",
    "    lis.append([img_dir+i for i in number]) # X\n",
    "for number in [train, test]:\n",
    "    lis.append(mask_dir(anno_dir, number)) # y\n",
    "data_dic = dict(zip(key, lis))\n",
    "data_dic['X_train']"
   ]
  },
  {
   "cell_type": "markdown",
   "id": "1f804fb3",
   "metadata": {},
   "source": [
    "### Build torch dataset"
   ]
  },
  {
   "cell_type": "code",
   "execution_count": 10,
   "id": "526de698",
   "metadata": {},
   "outputs": [],
   "source": [
    "#  https://pytorch.org/tutorials/beginner/basics/data_tutorial.html\n",
    "\n",
    "class CustomImageDataset(Dataset):\n",
    "    def __init__(self, imgs_path_list, anno_path_list, transform=None, multi_channel=False):\n",
    "        self.imgs_path_list = imgs_path_list\n",
    "        self.anno_path_list = anno_path_list\n",
    "        if type(imgs_path_list) != list:\n",
    "            raise ValueError('Need Input a list')\n",
    "        if type(anno_path_list) != list:\n",
    "            raise anno_path_list('Need Input a list')\n",
    "        self.transform = transform\n",
    "        self.multi_channel = multi_channel\n",
    "#   \n",
    "    def __len__(self):\n",
    "        return len(self.imgs_path_list)\n",
    "#         return 32\n",
    "\n",
    "    def __getitem__(self, idx):\n",
    "        img_path = self.imgs_path_list[idx]\n",
    "        file_name = img_path.split('/')[-1].split('.')[0]\n",
    "        mask_path = [i for i in self.anno_path_list if i.__contains__(file_name)][0]\n",
    "        \n",
    "        # cv2\n",
    "        image = cv2.imread(img_path)\n",
    "        image = cv2.cvtColor(image, cv2.COLOR_BGR2RGB) # (1000, 1000, 3)\n",
    "#       \n",
    "        # cv2\n",
    "        mask = cv2.imread(mask_path,  cv2.IMREAD_GRAYSCALE) # (1000, 1000) \n",
    "        \n",
    "         \n",
    "        if self.transform:\n",
    "            transformed = self.transform(image=image, mask=mask)\n",
    "            image = transformed['image']\n",
    "            mask = transformed['mask']\n",
    "        \n",
    "#         if self.target_transform:\n",
    "#             transformed = target_transform(image=image, mask=mask)\n",
    "#             image = transformed['image']\n",
    "#             mask = transformed['mask']\n",
    "        \n",
    "        image = torch.Tensor(image)\n",
    "        image = image.permute(2,0,1)\n",
    "        \n",
    "        mask = torch.Tensor(mask) \n",
    "        mask = mask.unsqueeze(0)\n",
    "        mask = mask.float()/255.\n",
    "#         print('here', mask.dtype, mask.shape)\n",
    "        if self.multi_channel:\n",
    "            '''\n",
    "            cross entropy needed data type for multi-class predicted.\n",
    "            '''\n",
    "            \n",
    "            mask = mask.squeeze(0)\n",
    "            mask = mask.long()\n",
    "#             print('here', mask.dtype, mask.shape)\n",
    "            \n",
    "#             print('here', mask.dtype, mask.shape)\n",
    "        #print('here is the shape of return image and mask ', image.shape, mask.shape)\n",
    "            \n",
    "        return image, mask\n",
    "    "
   ]
  },
  {
   "cell_type": "markdown",
   "id": "eeef7f6b",
   "metadata": {},
   "source": [
    "#### 補充: 如何從dataset抽image, mask出來"
   ]
  },
  {
   "cell_type": "code",
   "execution_count": 11,
   "id": "79d4f5c0",
   "metadata": {},
   "outputs": [],
   "source": [
    "# a = CustomImageDataset(data_dic['X_train'], data_dic['y_train']\n",
    "#                        #, transform=transform\n",
    "#                       )\n",
    "# for idx in range(a.__len__()):\n",
    "# #     print(idx)\n",
    "\n",
    "#     test_image = a.__getitem__(idx)[0]\n",
    "#     test_mask = a.__getitem__(idx)[1]\n",
    "#     print(test_image.shape)\n",
    "#     print(test_mask.shape)\n",
    "    \n",
    "#     test_image = test_image.squeeze(0).permute(1,2,0).float().numpy()\n",
    "# #     print(test_image)\n",
    "#     test_mask = test_mask.squeeze(0).int().numpy()\n",
    "#     print(test_image.shape)\n",
    "#     print(test_mask.shape)\n",
    "#     show_image_mask(test_image, test_mask)"
   ]
  },
  {
   "cell_type": "markdown",
   "id": "53f13b98",
   "metadata": {},
   "source": [
    "#### 補充: 取得指定影像的瑕疵位置(x_min, y_min, x_max, y_max)"
   ]
  },
  {
   "cell_type": "code",
   "execution_count": 12,
   "id": "2acc6270",
   "metadata": {},
   "outputs": [],
   "source": [
    "# '''\n",
    "# 可以針對某一張影像計算mask中包含瑕疵的位置在哪裡，用來對該影像作croping(裁切)，實現放大(rescale)的效果，幫助模型學習該影像對應的特徵。\n",
    "# '''\n",
    "# from utils import find_objects_contours, center_to_4point\n",
    "# arr = find_objects_contours(test_mask)\n",
    "# print(arr)\n",
    "# points = center_to_4point(test_mask, arr, WIDTH, pad=50)\n",
    "# print('4 POINTS , WIDTH + pad', points, points[2]-points[0])\n",
    "# x_min, y_min, x_max, y_max = points\n",
    "\n",
    "# show_image_mask(test_mask, test_mask[y_min:y_max, x_min:x_max])\n",
    "\n",
    "\n",
    "# '''\n",
    "# 根據上面獲得的x_min, y_min, x_max, y_max 座標，對一些訓練資料做裁切，並將裁切到的區塊存進list，並在之後用來傳入mask_CutMix參數。\n",
    "# '''\n",
    "# print('')"
   ]
  },
  {
   "cell_type": "code",
   "execution_count": 13,
   "id": "03a41704",
   "metadata": {},
   "outputs": [],
   "source": [
    "# https://albumentations.ai/docs/getting_started/mask_augmentation/\n",
    "from utils import mask_CutMix\n",
    "transform = A.Compose([\n",
    "#     mask_CutMix(img_mask_list, p=0.5),\n",
    "#     A.Crop(x_min=x_min, y_min=y_min, x_max=x_max, y_max=y_max, p=0.5),\n",
    "    \n",
    "    A.CenterCrop(300, 900, p=0.5),\n",
    "    A.HorizontalFlip(p=0.5),\n",
    "    A.RandomBrightnessContrast(brightness_limit=[-0.05, 0.05], p=0.2),\n",
    "    A.Rotate((-30, 30), interpolation=0),  \n",
    "\n",
    "    A.ToFloat(always_apply=True),\n",
    "    A.Resize(WIDTH, HEIGHT),\n",
    "])\n",
    "\n",
    "target_transform = A.Compose([\n",
    "    A.ToFloat(always_apply=True),\n",
    "    A.Resize(WIDTH, HEIGHT),\n",
    "])"
   ]
  },
  {
   "cell_type": "code",
   "execution_count": 14,
   "id": "cabd0cc2",
   "metadata": {},
   "outputs": [],
   "source": [
    "# 建議同時間只有16個(128,128)的sample進行計算 (Total = BATCH_SIZE*MULTIPLE_BATCH)\n",
    "BATCH_SIZE = 16\n",
    "MULTI_CHANNELS = True\n",
    "\n",
    "# 在這邊會強制對所有不滿BATCH_SIZE的訓練資料做數量上的匹配，接著透過CustomImageDataset的transform做資料擴增\n",
    "if len(data_dic['X_train']) < 16: \n",
    "    lis = data_dic['X_train']\n",
    "    lis = [lis[i%len(lis)] for i in range(BATCH_SIZE)]\n",
    "    data_dic['X_train'] = lis\n",
    "# print(data_dic['X_train'])\n",
    "\n",
    "dataset_train = CustomImageDataset(data_dic['X_train'], data_dic['y_train'], transform=transform, multi_channel=MULTI_CHANNELS)\n",
    "dataloader_train = torch.utils.data.DataLoader(dataset_train, batch_size=BATCH_SIZE, shuffle=True, drop_last=True,\n",
    "                                               pin_memory=True,\n",
    "                                              )\n",
    "# dataloader_train = iter(dataloader_train)\n",
    "dataset_test = CustomImageDataset(data_dic['X_train'], data_dic['y_train'], transform=target_transform, multi_channel=MULTI_CHANNELS) # **如果要正式使用要記得把這裡換成X_test\n",
    "# dataset_test = CustomImageDataset(data_dic['X_test'], data_dic['y_test'], transform=target_transform, multi_channel=MULTI_CHANNELS)\n",
    "dataloader_test = torch.utils.data.DataLoader(dataset_test, batch_size=len(data_dic['X_test']), shuffle=False, pin_memory=True)\n"
   ]
  },
  {
   "cell_type": "code",
   "execution_count": 15,
   "id": "081808e4",
   "metadata": {},
   "outputs": [
    {
     "name": "stdout",
     "output_type": "stream",
     "text": [
      "2\n",
      "torch.Size([3, 128, 128])\n",
      "torch.Size([128, 128])\n"
     ]
    },
    {
     "data": {
      "image/png": "[encoded data removed]",
      "text/plain": [
       "<Figure size 720x216 with 2 Axes>"
      ]
     },
     "metadata": {
      "needs_background": "light"
     },
     "output_type": "display_data"
    }
   ],
   "source": [
    "'''test transform on dataloader_train'''\n",
    "for data in dataloader_train:\n",
    "    print(len(data))\n",
    "    for x, y in zip(*data):\n",
    "        \n",
    "        print(x.shape)\n",
    "        print(y.shape)\n",
    "        show_image_mask(x.permute(1,2,0).numpy(), y.int())\n",
    "        break"
   ]
  },
  {
   "cell_type": "code",
   "execution_count": 16,
   "id": "ec865213",
   "metadata": {},
   "outputs": [],
   "source": [
    "# class DiceLoss(nn.Module):\n",
    "#     def __init__(self, weight=None, size_average=True):\n",
    "#         super(DiceLoss, self).__init__()\n",
    "\n",
    "#     def forward(self, inputs, targets, smooth=1):\n",
    "        \n",
    "#         #comment out if your model contains a sigmoid or equivalent activation layer\n",
    "# #         inputs = F.sigmoid(inputs)       \n",
    "        \n",
    "#         #flatten label and prediction tensors\n",
    "#         inputs = inputs.view(-1)\n",
    "        \n",
    "#         targets = self.split_mask(targets)\n",
    "#         targets = targets.view(-1)\n",
    "        \n",
    "#         intersection = (inputs * targets).sum()                            \n",
    "#         dice = (2.*intersection + smooth)/(inputs.sum() + targets.sum() + smooth)  \n",
    "        \n",
    "#         return 1 - dice\n",
    "    \n",
    "#     def split_mask(self, targets):\n",
    "#         num_labels = targets.shape[0]\n",
    "#         labels = targets.unique()\n",
    "#         new = torch.Tensor([])\n",
    "#         new = new.to(targets.device.type)\n",
    "#         for i in list(labels):\n",
    "#             tmp = targets.clone()\n",
    "#             tmp[targets==i] = 1\n",
    "#             tmp[targets!=i] = 0\n",
    "#             new = torch.cat([new, tmp], dim=0)\n",
    "#         return new.long()"
   ]
  },
  {
   "cell_type": "markdown",
   "id": "05e8aba4",
   "metadata": {},
   "source": [
    "### BCE_with_logit\n",
    "二元分類，只有一個channel的輸出的場合。"
   ]
  },
  {
   "cell_type": "code",
   "execution_count": 17,
   "id": "41b03955",
   "metadata": {},
   "outputs": [],
   "source": [
    "# NUM_LABELS = 1\n",
    "# activation = nn.ReLU()\n",
    "# model = UNet(num_class=NUM_LABELS, out_sz=(WIDTH,HEIGHT), activation=activation)\n",
    "# model.to(device) \n",
    "# '''\n",
    "# 要在建立optimizer之前就把model的參數移到gpu裡面 \n",
    "# ref: https://pytorch.org/docs/stable/optim.html \n",
    "# '''\n",
    "\n",
    "# criterion = nn.BCEWithLogitsLoss(pos_weight = torch.Tensor([100]).to(device))\n",
    "# optimizer = optim.Adam(model.parameters(), lr = 1e-3)"
   ]
  },
  {
   "cell_type": "markdown",
   "id": "f32d33d9",
   "metadata": {},
   "source": [
    "### CE\n",
    "交叉熵誤差，用於有多個channel的輸出的場合。"
   ]
  },
  {
   "cell_type": "code",
   "execution_count": 19,
   "id": "fe7fea77",
   "metadata": {},
   "outputs": [],
   "source": [
    "NUM_LABELS = 1\n",
    "activation = nn.Sigmoid()\n",
    "model = UNet(num_class=NUM_LABELS, out_sz=(WIDTH,HEIGHT), activation=activation)\n",
    "model.to(device) \n",
    "'''\n",
    "要在建立optimizer之前就把model的參數移到gpu裡面  \n",
    "ref: https://pytorch.org/docs/stable/optim.html \n",
    "'''\n",
    "\n",
    "criterion = nn.CrossEntropyLoss().to(device)\n",
    "# criterion = DiceLoss()\n",
    "optimizer = optim.Adam(model.parameters(), lr = 1e-3)"
   ]
  },
  {
   "cell_type": "markdown",
   "id": "236b211b",
   "metadata": {},
   "source": [
    "## 訓練模型"
   ]
  },
  {
   "cell_type": "code",
   "execution_count": 20,
   "id": "a61ea20b",
   "metadata": {},
   "outputs": [
    {
     "name": "stdout",
     "output_type": "stream",
     "text": [
      "0 epochs passed, ptime monitor every 50 epoch ['0.000']\n"
     ]
    },
    {
     "name": "stderr",
     "output_type": "stream",
     "text": [
      "/pytorch/aten/src/THCUNN/SpatialClassNLLCriterion.cu:105: cunn_SpatialClassNLLCriterion_updateOutput_kernel: block: [6,0,0], thread: [48,0,0] Assertion `t >= 0 && t < n_classes` failed.\n",
      "/pytorch/aten/src/THCUNN/SpatialClassNLLCriterion.cu:105: cunn_SpatialClassNLLCriterion_updateOutput_kernel: block: [6,0,0], thread: [49,0,0] Assertion `t >= 0 && t < n_classes` failed.\n",
      "/pytorch/aten/src/THCUNN/SpatialClassNLLCriterion.cu:105: cunn_SpatialClassNLLCriterion_updateOutput_kernel: block: [6,0,0], thread: [53,0,0] Assertion `t >= 0 && t < n_classes` failed.\n",
      "/pytorch/aten/src/THCUNN/SpatialClassNLLCriterion.cu:105: cunn_SpatialClassNLLCriterion_updateOutput_kernel: block: [6,0,0], thread: [54,0,0] Assertion `t >= 0 && t < n_classes` failed.\n",
      "/pytorch/aten/src/THCUNN/SpatialClassNLLCriterion.cu:105: cunn_SpatialClassNLLCriterion_updateOutput_kernel: block: [6,0,0], thread: [177,0,0] Assertion `t >= 0 && t < n_classes` failed.\n",
      "/pytorch/aten/src/THCUNN/SpatialClassNLLCriterion.cu:105: cunn_SpatialClassNLLCriterion_updateOutput_kernel: block: [6,0,0], thread: [181,0,0] Assertion `t >= 0 && t < n_classes` failed.\n",
      "/pytorch/aten/src/THCUNN/SpatialClassNLLCriterion.cu:105: cunn_SpatialClassNLLCriterion_updateOutput_kernel: block: [6,0,0], thread: [182,0,0] Assertion `t >= 0 && t < n_classes` failed.\n",
      "/pytorch/aten/src/THCUNN/SpatialClassNLLCriterion.cu:105: cunn_SpatialClassNLLCriterion_updateOutput_kernel: block: [6,0,0], thread: [305,0,0] Assertion `t >= 0 && t < n_classes` failed.\n",
      "/pytorch/aten/src/THCUNN/SpatialClassNLLCriterion.cu:105: cunn_SpatialClassNLLCriterion_updateOutput_kernel: block: [6,0,0], thread: [310,0,0] Assertion `t >= 0 && t < n_classes` failed.\n",
      "/pytorch/aten/src/THCUNN/SpatialClassNLLCriterion.cu:105: cunn_SpatialClassNLLCriterion_updateOutput_kernel: block: [11,0,0], thread: [920,0,0] Assertion `t >= 0 && t < n_classes` failed.\n",
      "/pytorch/aten/src/THCUNN/SpatialClassNLLCriterion.cu:105: cunn_SpatialClassNLLCriterion_updateOutput_kernel: block: [11,0,0], thread: [921,0,0] Assertion `t >= 0 && t < n_classes` failed.\n",
      "/pytorch/aten/src/THCUNN/SpatialClassNLLCriterion.cu:105: cunn_SpatialClassNLLCriterion_updateOutput_kernel: block: [11,0,0], thread: [924,0,0] Assertion `t >= 0 && t < n_classes` failed.\n",
      "/pytorch/aten/src/THCUNN/SpatialClassNLLCriterion.cu:105: cunn_SpatialClassNLLCriterion_updateOutput_kernel: block: [11,0,0], thread: [925,0,0] Assertion `t >= 0 && t < n_classes` failed.\n",
      "/pytorch/aten/src/THCUNN/SpatialClassNLLCriterion.cu:105: cunn_SpatialClassNLLCriterion_updateOutput_kernel: block: [11,0,0], thread: [25,0,0] Assertion `t >= 0 && t < n_classes` failed.\n",
      "/pytorch/aten/src/THCUNN/SpatialClassNLLCriterion.cu:105: cunn_SpatialClassNLLCriterion_updateOutput_kernel: block: [11,0,0], thread: [26,0,0] Assertion `t >= 0 && t < n_classes` failed.\n",
      "/pytorch/aten/src/THCUNN/SpatialClassNLLCriterion.cu:105: cunn_SpatialClassNLLCriterion_updateOutput_kernel: block: [11,0,0], thread: [27,0,0] Assertion `t >= 0 && t < n_classes` failed.\n",
      "/pytorch/aten/src/THCUNN/SpatialClassNLLCriterion.cu:105: cunn_SpatialClassNLLCriterion_updateOutput_kernel: block: [11,0,0], thread: [28,0,0] Assertion `t >= 0 && t < n_classes` failed.\n",
      "/pytorch/aten/src/THCUNN/SpatialClassNLLCriterion.cu:105: cunn_SpatialClassNLLCriterion_updateOutput_kernel: block: [11,0,0], thread: [29,0,0] Assertion `t >= 0 && t < n_classes` failed.\n",
      "/pytorch/aten/src/THCUNN/SpatialClassNLLCriterion.cu:105: cunn_SpatialClassNLLCriterion_updateOutput_kernel: block: [11,0,0], thread: [30,0,0] Assertion `t >= 0 && t < n_classes` failed.\n",
      "/pytorch/aten/src/THCUNN/SpatialClassNLLCriterion.cu:105: cunn_SpatialClassNLLCriterion_updateOutput_kernel: block: [11,0,0], thread: [157,0,0] Assertion `t >= 0 && t < n_classes` failed.\n",
      "/pytorch/aten/src/THCUNN/SpatialClassNLLCriterion.cu:105: cunn_SpatialClassNLLCriterion_updateOutput_kernel: block: [11,0,0], thread: [158,0,0] Assertion `t >= 0 && t < n_classes` failed.\n",
      "/pytorch/aten/src/THCUNN/SpatialClassNLLCriterion.cu:105: cunn_SpatialClassNLLCriterion_updateOutput_kernel: block: [11,0,0], thread: [159,0,0] Assertion `t >= 0 && t < n_classes` failed.\n"
     ]
    },
    {
     "ename": "RuntimeError",
     "evalue": "cuDNN error: CUDNN_STATUS_NOT_INITIALIZED",
     "output_type": "error",
     "traceback": [
      "\u001b[0;31m---------------------------------------------------------------------------\u001b[0m",
      "\u001b[0;31mRuntimeError\u001b[0m                              Traceback (most recent call last)",
      "\u001b[0;32m/tmp/ipykernel_25797/979719014.py\u001b[0m in \u001b[0;36m<module>\u001b[0;34m\u001b[0m\n\u001b[1;32m     32\u001b[0m \u001b[0;31m#         print(outputs.shape)\u001b[0m\u001b[0;34m\u001b[0m\u001b[0;34m\u001b[0m\u001b[0;34m\u001b[0m\u001b[0m\n\u001b[1;32m     33\u001b[0m         \u001b[0mloss\u001b[0m \u001b[0;34m=\u001b[0m \u001b[0mcriterion\u001b[0m\u001b[0;34m(\u001b[0m\u001b[0moutputs\u001b[0m\u001b[0;34m,\u001b[0m \u001b[0mmask\u001b[0m\u001b[0;34m)\u001b[0m\u001b[0;34m\u001b[0m\u001b[0;34m\u001b[0m\u001b[0m\n\u001b[0;32m---> 34\u001b[0;31m         \u001b[0mloss\u001b[0m\u001b[0;34m.\u001b[0m\u001b[0mbackward\u001b[0m\u001b[0;34m(\u001b[0m\u001b[0;34m)\u001b[0m\u001b[0;34m\u001b[0m\u001b[0;34m\u001b[0m\u001b[0m\n\u001b[0m\u001b[1;32m     35\u001b[0m         \u001b[0moptimizer\u001b[0m\u001b[0;34m.\u001b[0m\u001b[0mstep\u001b[0m\u001b[0;34m(\u001b[0m\u001b[0;34m)\u001b[0m\u001b[0;34m\u001b[0m\u001b[0;34m\u001b[0m\u001b[0m\n\u001b[1;32m     36\u001b[0m \u001b[0;34m\u001b[0m\u001b[0m\n",
      "\u001b[0;32m/opt/conda/lib/python3.7/site-packages/torch/_tensor.py\u001b[0m in \u001b[0;36mbackward\u001b[0;34m(self, gradient, retain_graph, create_graph, inputs)\u001b[0m\n\u001b[1;32m    253\u001b[0m                 \u001b[0mcreate_graph\u001b[0m\u001b[0;34m=\u001b[0m\u001b[0mcreate_graph\u001b[0m\u001b[0;34m,\u001b[0m\u001b[0;34m\u001b[0m\u001b[0;34m\u001b[0m\u001b[0m\n\u001b[1;32m    254\u001b[0m                 inputs=inputs)\n\u001b[0;32m--> 255\u001b[0;31m         \u001b[0mtorch\u001b[0m\u001b[0;34m.\u001b[0m\u001b[0mautograd\u001b[0m\u001b[0;34m.\u001b[0m\u001b[0mbackward\u001b[0m\u001b[0;34m(\u001b[0m\u001b[0mself\u001b[0m\u001b[0;34m,\u001b[0m \u001b[0mgradient\u001b[0m\u001b[0;34m,\u001b[0m \u001b[0mretain_graph\u001b[0m\u001b[0;34m,\u001b[0m \u001b[0mcreate_graph\u001b[0m\u001b[0;34m,\u001b[0m \u001b[0minputs\u001b[0m\u001b[0;34m=\u001b[0m\u001b[0minputs\u001b[0m\u001b[0;34m)\u001b[0m\u001b[0;34m\u001b[0m\u001b[0;34m\u001b[0m\u001b[0m\n\u001b[0m\u001b[1;32m    256\u001b[0m \u001b[0;34m\u001b[0m\u001b[0m\n\u001b[1;32m    257\u001b[0m     \u001b[0;32mdef\u001b[0m \u001b[0mregister_hook\u001b[0m\u001b[0;34m(\u001b[0m\u001b[0mself\u001b[0m\u001b[0;34m,\u001b[0m \u001b[0mhook\u001b[0m\u001b[0;34m)\u001b[0m\u001b[0;34m:\u001b[0m\u001b[0;34m\u001b[0m\u001b[0;34m\u001b[0m\u001b[0m\n",
      "\u001b[0;32m/opt/conda/lib/python3.7/site-packages/torch/autograd/__init__.py\u001b[0m in \u001b[0;36mbackward\u001b[0;34m(tensors, grad_tensors, retain_graph, create_graph, grad_variables, inputs)\u001b[0m\n\u001b[1;32m    147\u001b[0m     Variable._execution_engine.run_backward(\n\u001b[1;32m    148\u001b[0m         \u001b[0mtensors\u001b[0m\u001b[0;34m,\u001b[0m \u001b[0mgrad_tensors_\u001b[0m\u001b[0;34m,\u001b[0m \u001b[0mretain_graph\u001b[0m\u001b[0;34m,\u001b[0m \u001b[0mcreate_graph\u001b[0m\u001b[0;34m,\u001b[0m \u001b[0minputs\u001b[0m\u001b[0;34m,\u001b[0m\u001b[0;34m\u001b[0m\u001b[0;34m\u001b[0m\u001b[0m\n\u001b[0;32m--> 149\u001b[0;31m         allow_unreachable=True, accumulate_grad=True)  # allow_unreachable flag\n\u001b[0m\u001b[1;32m    150\u001b[0m \u001b[0;34m\u001b[0m\u001b[0m\n\u001b[1;32m    151\u001b[0m \u001b[0;34m\u001b[0m\u001b[0m\n",
      "\u001b[0;31mRuntimeError\u001b[0m: cuDNN error: CUDNN_STATUS_NOT_INITIALIZED"
     ]
    }
   ],
   "source": [
    "best_loss = None\n",
    "monitor = patience(None)\n",
    "times_to_show = 50\n",
    "\n",
    "for epoch in range(501):  # loop over the dataset multiple times\n",
    "    torch.cuda.empty_cache()\n",
    "    running_loss = 0.0\n",
    "    \n",
    "    if monitor.early_stop:\n",
    "        break\n",
    "        \n",
    "    monitor.time(times_to_show=50, show=True)\n",
    "        \n",
    "    for i, data in enumerate(dataloader_train, 1): # get each batch, setting drop_last\n",
    "        inputs, mask = data\n",
    "        inputs = inputs.to(device)\n",
    "        mask = mask.to(device)\n",
    "#         print('mask',mask.shape, mask.dtype)\n",
    "#         print('inputs', inputs.shape)\n",
    "\n",
    "        \n",
    "        # zero the parameter gradients\n",
    "        for param in model.parameters():\n",
    "            param.grad = None\n",
    "#         optimizer.zero_grad()\n",
    "\n",
    "        # forward + backward + optimize\n",
    "        outputs = model(inputs)\n",
    "#         outputs = outputs.long()\n",
    "#         print('outputs',outputs.shape, outputs.dtype)\n",
    "#         print(mask.shape, mask.unique())\n",
    "#         print(outputs.shape)\n",
    "        loss = criterion(outputs, mask)\n",
    "        loss.backward()\n",
    "        optimizer.step()\n",
    "\n",
    "        # print statistics\n",
    "        running_loss += loss.item()\n",
    "\n",
    "        running_loss = running_loss/len(inputs)\n",
    "        print(f'epochs: {epoch}, average sample loss: {running_loss:.8f}')\n",
    "\n",
    "        if not best_loss:\n",
    "            best_loss = running_loss\n",
    "        elif running_loss < 0.9*best_loss:\n",
    "            best_loss = running_loss\n",
    "            torch.save(model, 'saved/best_save.pt')\n",
    "            monitor.reset()\n",
    "            print('save torch model [best_save.pt]')\n",
    "\n",
    "        monitor.record()\n",
    "        running_loss = 0.0\n",
    "\n",
    "torch.save(model, 'saved/last_save.pt')\n",
    "        \n",
    "# print('Finished Training')"
   ]
  },
  {
   "cell_type": "markdown",
   "id": "1badb723",
   "metadata": {},
   "source": [
    "### 觀察訓練結果\n",
    "由於時間有限，我們在這裡只觀察對「訓練資料集」進行訓練後的結果，預期狀態模型應該實現over-fit在訓練資料上。"
   ]
  },
  {
   "cell_type": "code",
   "execution_count": null,
   "id": "192a3ac6",
   "metadata": {},
   "outputs": [],
   "source": [
    "model = torch.load('./saved/best_save.pt') "
   ]
  },
  {
   "cell_type": "code",
   "execution_count": null,
   "id": "b773ecc3",
   "metadata": {
    "scrolled": true
   },
   "outputs": [],
   "source": [
    "for i, data in enumerate(dataloader_test, 1):\n",
    "    image, mask = data\n",
    "    print(len(image))\n",
    "    \n",
    "    image = image.to(device)\n",
    "    mask = mask.to(device)\n",
    "    \n",
    "#     print(image.shape)\n",
    "    outputs = model(image)\n",
    "    loss = criterion(outputs, mask)\n",
    "    print(loss)\n",
    "    \n",
    "    if MULTI_CHANNELS:\n",
    "        outputs = outputs[:,1,...]\n",
    "    print(mask.min(), mask.max())\n",
    "    outputs[outputs>=0.8] = 1\n",
    "    outputs[outputs<0.8] = 0\n",
    "    outputs = outputs.long()\n",
    "    print(outputs.max())\n",
    "    \n",
    "    img_process = lambda image:image.cpu().permute(0,2,3,1)\n",
    "    mask_process = lambda mask:mask.cpu().squeeze(1).permute(0,1,2)\n",
    "    \n",
    "    print(outputs.shape)\n",
    "    for x, m, p in zip(image.cpu().permute(0,2,3,1), mask_process(mask), mask_process(outputs)):\n",
    "        show_image_mask(x, m, p)\n"
   ]
  },
  {
   "cell_type": "code",
   "execution_count": null,
   "id": "8b51f61b",
   "metadata": {},
   "outputs": [],
   "source": []
  },
  {
   "cell_type": "code",
   "execution_count": null,
   "id": "742937f8",
   "metadata": {},
   "outputs": [],
   "source": []
  }
 ],
 "metadata": {
  "kernelspec": {
   "display_name": "Python 3 (ipykernel)",
   "language": "python",
   "name": "python3"
  },
  "language_info": {
   "codemirror_mode": {
    "name": "ipython",
    "version": 3
   },
   "file_extension": ".py",
   "mimetype": "text/x-python",
   "name": "python",
   "nbconvert_exporter": "python",
   "pygments_lexer": "ipython3",
   "version": "3.7.10"
  }
 },
 "nbformat": 4,
 "nbformat_minor": 5
}
