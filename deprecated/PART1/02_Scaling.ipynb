{
  "cells": [
    {
      "cell_type": "markdown",
      "metadata": {
        "id": "view-in-github",
        "colab_type": "text"
      },
      "source": [
        "<a href=\"https://colab.research.google.com/github/June103310110/Image_Segmentation/blob/main/PART1/02_Scaling.ipynb\" target=\"_parent\"><img src=\"https://colab.research.google.com/assets/colab-badge.svg\" alt=\"Open In Colab\"/></a>"
      ]
    },
    {
      "cell_type": "markdown",
      "id": "5bb47f86",
      "metadata": {
        "id": "5bb47f86"
      },
      "source": [
        "# Scaling的目的\n",
        "- Multi-scale learning，更robust、學習不同大小和距離的特徵\n",
        "- 減少計算量"
      ]
    },
    {
      "cell_type": "markdown",
      "id": "7f3a2c23",
      "metadata": {
        "id": "7f3a2c23"
      },
      "source": [
        "<img src=\"https://i.imgur.com/QngR3Qh.png\" alt=\"drawing\" width=\"300\"/>"
      ]
    },
    {
      "cell_type": "code",
      "source": [
        "import gdown\n",
        "\n",
        "!wget https://raw.githubusercontent.com/June103310110/Image_Segmentation/main/PART1/utils.py -O utils.py\n",
        "\n",
        "gdown.download('https://drive.google.com/u/1/uc?id=1TJ6Ya4oc7PwiLu6t5seZYdD6APMNKl-h&export=download',\n",
        "               'capsule.zip')\n",
        "\n",
        "!unzip -o capsule.zip -d ./data"
      ],
      "metadata": {
        "colab": {
          "base_uri": "https://localhost:8080/"
        },
        "id": "YENnxHl_k38i",
        "outputId": "bcfb840d-db74-4fa3-aa06-059c05d517f4"
      },
      "id": "YENnxHl_k38i",
      "execution_count": null,
      "outputs": [
        {
          "output_type": "stream",
          "name": "stdout",
          "text": [
            "--2022-03-11 06:19:39--  https://raw.githubusercontent.com/June103310110/Image_Segmentation/main/PART1/utils.py\n",
            "Resolving raw.githubusercontent.com (raw.githubusercontent.com)... 185.199.109.133, 185.199.108.133, 185.199.111.133, ...\n",
            "Connecting to raw.githubusercontent.com (raw.githubusercontent.com)|185.199.109.133|:443... connected.\n",
            "HTTP request sent, awaiting response... 200 OK\n",
            "Length: 5039 (4.9K) [text/plain]\n",
            "Saving to: ‘utils.py’\n",
            "\n",
            "\rutils.py              0%[                    ]       0  --.-KB/s               \rutils.py            100%[===================>]   4.92K  --.-KB/s    in 0s      \n",
            "\n",
            "2022-03-11 06:19:39 (36.7 MB/s) - ‘utils.py’ saved [5039/5039]\n",
            "\n"
          ]
        },
        {
          "output_type": "stream",
          "name": "stderr",
          "text": [
            "Downloading...\n",
            "From: https://drive.google.com/u/1/uc?id=1TJ6Ya4oc7PwiLu6t5seZYdD6APMNKl-h&export=download\n",
            "To: /content/capsule.zip\n",
            "100%|██████████| 11.7M/11.7M [00:00<00:00, 35.1MB/s]"
          ]
        },
        {
          "output_type": "stream",
          "name": "stdout",
          "text": [
            "Archive:  capsule.zip\n",
            "  inflating: ./data/capsule/ground_truth/scratch/000_mask.png  \n",
            "  inflating: ./data/capsule/ground_truth/scratch/001_mask.png  \n",
            "  inflating: ./data/capsule/ground_truth/scratch/002_mask.png  \n",
            "  inflating: ./data/capsule/ground_truth/scratch/003_mask.png  \n",
            "  inflating: ./data/capsule/ground_truth/scratch/004_mask.png  \n",
            "  inflating: ./data/capsule/ground_truth/scratch/005_mask.png  \n",
            "  inflating: ./data/capsule/ground_truth/scratch/006_mask.png  \n",
            "  inflating: ./data/capsule/ground_truth/scratch/007_mask.png  \n",
            "  inflating: ./data/capsule/ground_truth/scratch/008_mask.png  \n",
            "  inflating: ./data/capsule/ground_truth/scratch/009_mask.png  \n",
            "  inflating: ./data/capsule/test/scratch/000.png  \n",
            "  inflating: ./data/capsule/test/scratch/001.png  \n",
            "  inflating: ./data/capsule/test/scratch/002.png  \n",
            "  inflating: ./data/capsule/test/scratch/003.png  \n",
            "  inflating: ./data/capsule/test/scratch/004.png  \n",
            "  inflating: ./data/capsule/test/scratch/005.png  \n",
            "  inflating: ./data/capsule/test/scratch/006.png  \n",
            "  inflating: ./data/capsule/test/scratch/007.png  \n",
            "  inflating: ./data/capsule/test/scratch/008.png  \n",
            "  inflating: ./data/capsule/test/scratch/009.png  \n"
          ]
        },
        {
          "output_type": "stream",
          "name": "stderr",
          "text": [
            "\n"
          ]
        }
      ]
    },
    {
      "cell_type": "code",
      "execution_count": null,
      "id": "f5aeb810",
      "metadata": {
        "id": "f5aeb810"
      },
      "outputs": [],
      "source": [
        "import torch.nn as nn\n",
        "import os\n",
        "import numpy as np\n",
        "import cv2\n",
        "import torch\n",
        "import matplotlib.pyplot as plt\n",
        "import torch\n",
        "from utils import show_image_mask"
      ]
    },
    {
      "cell_type": "code",
      "execution_count": null,
      "id": "2bd858a5",
      "metadata": {
        "colab": {
          "base_uri": "https://localhost:8080/"
        },
        "id": "2bd858a5",
        "outputId": "f7e5ace0-bfe5-49b5-e78a-2a2b1cef1c97"
      },
      "outputs": [
        {
          "output_type": "execute_result",
          "data": {
            "text/plain": [
              "['008']"
            ]
          },
          "metadata": {},
          "execution_count": 9
        }
      ],
      "source": [
        "file = os.listdir(f'{os.getcwd()}/data/capsule/test/scratch/')\n",
        "file = np.random.choice(file,size=1, replace=False)\n",
        "file = [i.split('.')[0] for i in file]\n",
        "file"
      ]
    },
    {
      "cell_type": "code",
      "execution_count": null,
      "id": "224defdc",
      "metadata": {
        "colab": {
          "base_uri": "https://localhost:8080/",
          "height": 215
        },
        "id": "224defdc",
        "outputId": "85134693-6434-4a97-f960-6880d14ed894"
      },
      "outputs": [
        {
          "output_type": "display_data",
          "data": {
            "image/png": "[encoded data removed]",
            "text/plain": [
              "<Figure size 720x216 with 2 Axes>"
            ]
          },
          "metadata": {
            "needs_background": "light"
          }
        }
      ],
      "source": [
        "img_mask_list = []\n",
        "for i in file:\n",
        "    image = cv2.imread(f'{os.getcwd()}/data/capsule/test/scratch/{i}.png')\n",
        "    image = cv2.cvtColor(image, cv2.COLOR_BGR2RGB)\n",
        "    mask = cv2.imread(f'{os.getcwd()}/data/capsule/ground_truth/scratch/{i}_mask.png', cv2.IMREAD_GRAYSCALE)\n",
        "#     image = cv2.resize(image, (256, 256), interpolation=cv2.INTER_AREA)\n",
        "#     mask = cv2.resize(mask, (256, 256), interpolation=cv2.INTER_AREA)\n",
        "    img_mask_list.append((image, mask))\n",
        "    show_image_mask(image, mask)"
      ]
    },
    {
      "cell_type": "code",
      "execution_count": null,
      "id": "4349f05d",
      "metadata": {
        "colab": {
          "base_uri": "https://localhost:8080/",
          "height": 215
        },
        "id": "4349f05d",
        "outputId": "9b2c4914-ec14-4596-880d-8cb8c39b7f38"
      },
      "outputs": [
        {
          "output_type": "display_data",
          "data": {
            "image/png": "[encoded data removed]",
            "text/plain": [
              "<Figure size 720x216 with 2 Axes>"
            ]
          },
          "metadata": {
            "needs_background": "light"
          }
        }
      ],
      "source": [
        "image = cv2.resize(image, (256,256))\n",
        "mask = cv2.resize(mask, (256,256))\n",
        "show_image_mask(image, mask)"
      ]
    },
    {
      "cell_type": "markdown",
      "id": "9862586c",
      "metadata": {
        "id": "9862586c"
      },
      "source": [
        "## 上採樣\n",
        "- 把影像的解析度放大\n",
        "- resize到更大的解析度\n",
        "- 最好是可以學的\n",
        "- 不能學習的情況通常用通常用雙線性插值"
      ]
    },
    {
      "cell_type": "code",
      "execution_count": null,
      "id": "3598ad39",
      "metadata": {
        "colab": {
          "base_uri": "https://localhost:8080/"
        },
        "id": "3598ad39",
        "outputId": "88965c80-e7a1-44d6-bcfd-4f7975d9895b"
      },
      "outputs": [
        {
          "output_type": "stream",
          "name": "stdout",
          "text": [
            "torch.Size([1, 3, 28, 28])\n",
            "torch.Size([1, 9, 56, 56])\n"
          ]
        }
      ],
      "source": [
        "x = torch.randn(1, 3, 28, 28)\n",
        "# x = torch.Tensor(image)\n",
        "# x = x.unsqueeze(0).permute(0,3,1,2)\n",
        "print(x.shape)\n",
        "x = nn.Upsample(scale_factor=2)(x)\n",
        "x = nn.Conv2d(3, 9, kernel_size=3, padding='same')(x)\n",
        "print(x.shape)"
      ]
    },
    {
      "cell_type": "code",
      "execution_count": null,
      "id": "b6e7dc3e",
      "metadata": {
        "colab": {
          "base_uri": "https://localhost:8080/"
        },
        "id": "b6e7dc3e",
        "outputId": "5ba20c80-6b48-4953-d33c-7d32b7caf7bc"
      },
      "outputs": [
        {
          "output_type": "stream",
          "name": "stdout",
          "text": [
            "torch.Size([1, 3, 28, 28])\n",
            "torch.Size([1, 9, 56, 56])\n"
          ]
        }
      ],
      "source": [
        "x = torch.randn(1, 3, 56, 56)\n",
        "x, indice = nn.MaxPool2d(kernel_size=2, return_indices=True)(x)\n",
        "print(x.shape)\n",
        "x = nn.MaxUnpool2d(2)(x, indice)\n",
        "x = nn.Conv2d(3, 9, kernel_size=3, padding='same')(x)\n",
        "print(x.shape)"
      ]
    },
    {
      "cell_type": "markdown",
      "id": "19f725ec",
      "metadata": {
        "id": "19f725ec"
      },
      "source": [
        "### Transposed Conv and UpsampleConv\n",
        "<img src=\"https://i.imgur.com/eIIJxre.png\" alt=\"drawing\" width=\"300\"/>\n",
        "<img src=\"https://i.imgur.com/uLo7icF.png\" alt=\"drawing\" width=\"300\"/>\n",
        "\n",
        "Transposed Conv \n",
        "- 透過上面的操作做轉置卷積，feature-map上的數值會作為常數與kernel相乘，產出輸出的feature-map\n",
        "\n",
        "UpsampleConv\n",
        "- 先做上採樣(Upsample/ Unpooling)\n",
        "- 然後作卷積(padding = same)\n",
        "<!-- #### 替代方案 UpSampling(Unpooling)+Convolution -->\n"
      ]
    },
    {
      "cell_type": "code",
      "execution_count": null,
      "id": "83e9b06f",
      "metadata": {
        "colab": {
          "base_uri": "https://localhost:8080/"
        },
        "id": "83e9b06f",
        "outputId": "5c981a9c-64c1-4e00-fa56-f8607b13400d"
      },
      "outputs": [
        {
          "output_type": "stream",
          "name": "stdout",
          "text": [
            "torch.Size([1, 3, 28, 28])\n",
            "torch.Size([1, 9, 56, 56])\n"
          ]
        }
      ],
      "source": [
        "# ConvTranspose2d透過設定k=2, s=2, output_padding=0可以讓影像從28x28變成56x56\n",
        "x = torch.randn(1, 3, 28, 28)\n",
        "print(x.shape)\n",
        "x = nn.ConvTranspose2d(3, 3, kernel_size=2, stride=2, output_padding=0)(x)\n",
        "x = nn.Conv2d(3, 9, kernel_size=3, padding='same')(x)\n",
        "print(x.shape)"
      ]
    },
    {
      "cell_type": "markdown",
      "id": "9a772bb7",
      "metadata": {
        "id": "9a772bb7"
      },
      "source": [
        "## 下採樣\n",
        "- Pooling\n",
        "- Dilated Conv"
      ]
    },
    {
      "cell_type": "markdown",
      "id": "a3613732",
      "metadata": {
        "id": "a3613732"
      },
      "source": [
        "### 1. Pooling"
      ]
    },
    {
      "cell_type": "markdown",
      "id": "fe446833",
      "metadata": {
        "id": "fe446833"
      },
      "source": [
        "max pool，用max filter快速計算進行池化減少後續計算量，一般沒有特別考慮時可以使用的下採樣選擇"
      ]
    },
    {
      "cell_type": "code",
      "execution_count": null,
      "id": "ad7ed9d0",
      "metadata": {
        "colab": {
          "base_uri": "https://localhost:8080/"
        },
        "id": "ad7ed9d0",
        "outputId": "28583c68-523d-439f-9a59-c7ea4ac68423"
      },
      "outputs": [
        {
          "output_type": "stream",
          "name": "stdout",
          "text": [
            "torch.Size([1, 3, 56, 56])\n",
            "torch.Size([1, 3, 28, 28])\n"
          ]
        }
      ],
      "source": [
        "x = torch.randn(1, 3, 56, 56)\n",
        "print(x.shape)\n",
        "x= nn.MaxPool2d(kernel_size=2,)(x)\n",
        "print(x.shape)"
      ]
    },
    {
      "cell_type": "markdown",
      "id": "54acdb28",
      "metadata": {
        "id": "54acdb28"
      },
      "source": [
        "average pool，一種sum pooling，由於梯度會通過filter的每一個indice(max pooling的情況只會通過max indice)，所以DenseNet等論文特別採用他"
      ]
    },
    {
      "cell_type": "code",
      "execution_count": null,
      "id": "47f62602",
      "metadata": {
        "colab": {
          "base_uri": "https://localhost:8080/"
        },
        "id": "47f62602",
        "outputId": "6210e19d-b720-4eac-9fc0-9c7b49185a4d"
      },
      "outputs": [
        {
          "output_type": "stream",
          "name": "stdout",
          "text": [
            "torch.Size([1, 3, 56, 56])\n",
            "torch.Size([1, 3, 28, 28])\n"
          ]
        }
      ],
      "source": [
        "x = torch.randn(1, 3, 56, 56)\n",
        "print(x.shape)\n",
        "x= nn.AvgPool2d(kernel_size=2,)(x)\n",
        "print(x.shape)"
      ]
    },
    {
      "cell_type": "markdown",
      "id": "5cd1c904",
      "metadata": {
        "id": "5cd1c904"
      },
      "source": [
        "### 2. PatchMerging \n",
        "> from swim-transform"
      ]
    },
    {
      "cell_type": "code",
      "execution_count": null,
      "id": "42de1b22",
      "metadata": {
        "id": "42de1b22"
      },
      "outputs": [],
      "source": [
        "class PatchMerging(nn.Module): !\n",
        "    def __init__(self, out_dim=0, input_resolution=None, norm_layer=nn.LayerNorm):\n",
        "        super().__init__()\n",
        "        self.input_resolution = input_resolution\n",
        "        self.out_dim = out_dim\n",
        "\n",
        "    def forward(self, x):\n",
        "        \"\"\"\n",
        "        x: B, H*W, C\n",
        "        \"\"\"\n",
        "        B, C, H, W = x.shape\n",
        "        assert H % 2 == 0 and W % 2 == 0, f\"x size ({H}*{W}) are not even.\"\n",
        "        x = x.view(B, C, H, W)\n",
        "        \n",
        "        x0 = x[:, :, 0::2, 0::2]  # B H/2 W/2 C\n",
        "        x1 = x[:, :, 1::2, 0::2]  # B H/2 W/2 C\n",
        "        x2 = x[:, :, 0::2, 1::2]  # B H/2 W/2 C\n",
        "        x3 = x[:, :, 1::2, 1::2]  # B H/2 W/2 C\n",
        "        \n",
        "        x = torch.cat([x0, x1, x2, x3], 1)  # B H/2 W/2 4*C\n",
        "        x = nn.LayerNorm([4*C, H//2, W//2])(x)\n",
        "        if self.out_dim==0 or self.out_dim=='same':\n",
        "            pass\n",
        "        else:\n",
        "            x = torch.nn.Conv2d(4*C, self.out_dim, 1)(x)\n",
        "        \n",
        "        return x"
      ]
    },
    {
      "cell_type": "code",
      "execution_count": null,
      "id": "a4f407d4",
      "metadata": {
        "colab": {
          "base_uri": "https://localhost:8080/"
        },
        "id": "a4f407d4",
        "outputId": "0dd19bbf-36ef-4f9e-c504-2cef1c2c35d1"
      },
      "outputs": [
        {
          "output_type": "stream",
          "name": "stdout",
          "text": [
            "torch.Size([1, 10, 56, 56])\n",
            "torch.Size([1, 4, 28, 28])\n"
          ]
        }
      ],
      "source": [
        "x = torch.randn(1, 10, 56, 56)\n",
        "print(x.shape)\n",
        "x = PatchMerging(out_dim=4)(x)\n",
        "print(x.shape)"
      ]
    },
    {
      "cell_type": "markdown",
      "id": "b433004d",
      "metadata": {
        "id": "b433004d"
      },
      "source": [
        "### 3. Dilated Conv. instead of pooling"
      ]
    },
    {
      "cell_type": "code",
      "execution_count": null,
      "id": "1c2d0c68",
      "metadata": {
        "colab": {
          "base_uri": "https://localhost:8080/"
        },
        "id": "1c2d0c68",
        "outputId": "47494de3-87cf-4bf8-ee56-1623dc7df91f"
      },
      "outputs": [
        {
          "output_type": "execute_result",
          "data": {
            "text/plain": [
              "torch.Size([1, 9, 28, 28])"
            ]
          },
          "metadata": {},
          "execution_count": 19
        }
      ],
      "source": [
        "x = torch.randn(1, 3, 56, 56)\n",
        "x = nn.Conv2d(3, 9, kernel_size=3, stride=2, padding=1, dilation=(1,1))(x)\n",
        "x.shape"
      ]
    },
    {
      "cell_type": "code",
      "execution_count": null,
      "id": "7e212a09",
      "metadata": {
        "colab": {
          "base_uri": "https://localhost:8080/"
        },
        "id": "7e212a09",
        "outputId": "4af36841-0696-4ea6-9755-499f4504c14f"
      },
      "outputs": [
        {
          "output_type": "execute_result",
          "data": {
            "text/plain": [
              "torch.Size([1, 9, 28, 28])"
            ]
          },
          "metadata": {},
          "execution_count": 20
        }
      ],
      "source": [
        "x = torch.randn(1, 3, 56, 56)\n",
        "x = nn.Conv2d(3, 9, kernel_size=3, stride=2, padding=3, dilation=(3,3))(x)\n",
        "x.shape"
      ]
    },
    {
      "cell_type": "code",
      "execution_count": null,
      "id": "f220e7c4",
      "metadata": {
        "colab": {
          "base_uri": "https://localhost:8080/"
        },
        "id": "f220e7c4",
        "outputId": "c142aca5-ef39-4928-abf8-66eaff3bc237"
      },
      "outputs": [
        {
          "output_type": "execute_result",
          "data": {
            "text/plain": [
              "torch.Size([1, 9, 28, 28])"
            ]
          },
          "metadata": {},
          "execution_count": 21
        }
      ],
      "source": [
        "x = torch.randn(1, 3, 56, 56)\n",
        "x = nn.Conv2d(3, 9, kernel_size=3, stride=2, padding=5, dilation=(5,5))(x)\n",
        "x.shape"
      ]
    },
    {
      "cell_type": "code",
      "execution_count": null,
      "id": "99e82eb1",
      "metadata": {
        "colab": {
          "base_uri": "https://localhost:8080/"
        },
        "id": "99e82eb1",
        "outputId": "2b7ab2da-06c8-4db7-d2ad-5799169bbdea"
      },
      "outputs": [
        {
          "output_type": "stream",
          "name": "stdout",
          "text": [
            "padding = 1, dilation=(1,1)\n",
            "torch.Size([1, 9, 28, 28])\n",
            "padding = 2, dilation=(2,2)\n",
            "torch.Size([1, 9, 28, 28])\n",
            "padding = 3, dilation=(3,3)\n",
            "torch.Size([1, 9, 28, 28])\n"
          ]
        }
      ],
      "source": [
        "dilated_rate = [1,2,3] \n",
        "dilatedConv = lambda rate:nn.Conv2d(3, 9, kernel_size=3, stride=2, padding=rate, dilation=(rate,rate))\n",
        "for idx in range(3):\n",
        "    x = torch.randn(1, 3, 56, 56)\n",
        "    print(f'padding = {dilated_rate[idx]}, dilation=({dilated_rate[idx]},{dilated_rate[idx]})')\n",
        "    x = dilatedConv(dilated_rate[idx%3])(x)\n",
        "    print(x.shape)"
      ]
    },
    {
      "cell_type": "code",
      "execution_count": null,
      "id": "4dc413e8",
      "metadata": {
        "colab": {
          "base_uri": "https://localhost:8080/"
        },
        "id": "4dc413e8",
        "outputId": "4bc459b8-672b-4499-b2fa-963c3cc1100c"
      },
      "outputs": [
        {
          "output_type": "stream",
          "name": "stdout",
          "text": [
            "torch.Size([1, 1, 56, 56])\n",
            "torch.Size([1, 1, 28, 28])\n",
            "torch.Size([1, 1, 14, 14])\n",
            "torch.Size([1, 1, 7, 7])\n"
          ]
        }
      ],
      "source": [
        "dilated_rate = [1,2,3]\n",
        "dilatedConv = lambda rate:nn.Conv2d(1, 1, kernel_size=3, stride=2, padding=rate, dilation=(rate,rate))\n",
        "dilated_convBlock = nn.ModuleList([dilatedConv(i) for i in dilated_rate])\n",
        "\n",
        "# x = torch.Tensor(mask)\n",
        "# x = x[...,None,None].permute(2,3,0,1)\n",
        "x = torch.randn(1, 1, 56, 56)\n",
        "print(x.shape)\n",
        "for i in dilated_convBlock:\n",
        "    x = i(x)\n",
        "    print(x.shape)\n",
        "# x = dilated_convBlock(x)\n",
        "# x.shape"
      ]
    },
    {
      "cell_type": "code",
      "execution_count": null,
      "id": "0b8b5588",
      "metadata": {
        "id": "0b8b5588"
      },
      "outputs": [],
      "source": [
        ""
      ]
    }
  ],
  "metadata": {
    "kernelspec": {
      "display_name": "Python 3 (ipykernel)",
      "language": "python",
      "name": "python3"
    },
    "language_info": {
      "codemirror_mode": {
        "name": "ipython",
        "version": 3
      },
      "file_extension": ".py",
      "mimetype": "text/x-python",
      "name": "python",
      "nbconvert_exporter": "python",
      "pygments_lexer": "ipython3",
      "version": "3.7.10"
    },
    "colab": {
      "name": "02_Scaling.ipynb",
      "provenance": [],
      "collapsed_sections": [],
      "toc_visible": true,
      "include_colab_link": true
    }
  },
  "nbformat": 4,
  "nbformat_minor": 5
}