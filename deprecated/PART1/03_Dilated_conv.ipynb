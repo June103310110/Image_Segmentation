{
  "cells": [
    {
      "cell_type": "markdown",
      "metadata": {
        "id": "view-in-github",
        "colab_type": "text"
      },
      "source": [
        "<a href=\"https://colab.research.google.com/github/June103310110/Image_Segmentation/blob/main/PART1/03_Dilated_conv.ipynb\" target=\"_parent\"><img src=\"https://colab.research.google.com/assets/colab-badge.svg\" alt=\"Open In Colab\"/></a>"
      ]
    },
    {
      "cell_type": "markdown",
      "id": "b2b15441",
      "metadata": {
        "id": "b2b15441"
      },
      "source": [
        "# Dilated Convolution 空洞卷積\n",
        "ref\n",
        "https://github.com/vdumoulin/conv_arithmetic/blob/master/README.md\n",
        "\n"
      ]
    },
    {
      "cell_type": "code",
      "source": [
        "import gdown\n",
        "\n",
        "gdown.download('https://drive.google.com/u/1/uc?id=10F2RJdLdOrxZt2sjJj748hpNU0Iz8hwU&export=download',\n",
        "               'utils.py')\n",
        "\n",
        "gdown.download('https://drive.google.com/u/1/uc?id=1TJ6Ya4oc7PwiLu6t5seZYdD6APMNKl-h&export=download',\n",
        "               'capsule.zip')\n",
        "\n",
        "!unzip -o capsule.zip -d ./data"
      ],
      "metadata": {
        "colab": {
          "base_uri": "https://localhost:8080/"
        },
        "id": "y5OCXxK2gfB1",
        "outputId": "96dbd59c-cec1-4df5-8c56-8c8faeca2e63"
      },
      "id": "y5OCXxK2gfB1",
      "execution_count": null,
      "outputs": [
        {
          "output_type": "stream",
          "name": "stdout",
          "text": [
            "Access denied with the following error:\n"
          ]
        },
        {
          "output_type": "stream",
          "name": "stderr",
          "text": [
            "\n",
            " \tCannot retrieve the public link of the file. You may need to change\n",
            "\tthe permission to 'Anyone with the link', or have had many accesses. \n",
            "\n",
            "You may still be able to access the file from the browser:\n",
            "\n",
            "\t https://drive.google.com/u/1/uc?id=10F2RJdLdOrxZt2sjJj748hpNU0Iz8hwU&export=download \n",
            "\n",
            "Downloading...\n",
            "From: https://drive.google.com/u/1/uc?id=1TJ6Ya4oc7PwiLu6t5seZYdD6APMNKl-h&export=download\n",
            "To: /content/capsule.zip\n",
            "100%|██████████| 11.7M/11.7M [00:00<00:00, 129MB/s]\n"
          ]
        },
        {
          "output_type": "stream",
          "name": "stdout",
          "text": [
            "Archive:  capsule.zip\n",
            "  inflating: ./data/capsule/ground_truth/scratch/000_mask.png  \n",
            "  inflating: ./data/capsule/ground_truth/scratch/001_mask.png  \n",
            "  inflating: ./data/capsule/ground_truth/scratch/002_mask.png  \n",
            "  inflating: ./data/capsule/ground_truth/scratch/003_mask.png  \n",
            "  inflating: ./data/capsule/ground_truth/scratch/004_mask.png  \n",
            "  inflating: ./data/capsule/ground_truth/scratch/005_mask.png  \n",
            "  inflating: ./data/capsule/ground_truth/scratch/006_mask.png  \n",
            "  inflating: ./data/capsule/ground_truth/scratch/007_mask.png  \n",
            "  inflating: ./data/capsule/ground_truth/scratch/008_mask.png  \n",
            "  inflating: ./data/capsule/ground_truth/scratch/009_mask.png  \n",
            "  inflating: ./data/capsule/test/scratch/000.png  \n",
            "  inflating: ./data/capsule/test/scratch/001.png  \n",
            "  inflating: ./data/capsule/test/scratch/002.png  \n",
            "  inflating: ./data/capsule/test/scratch/003.png  \n",
            "  inflating: ./data/capsule/test/scratch/004.png  \n",
            "  inflating: ./data/capsule/test/scratch/005.png  \n",
            "  inflating: ./data/capsule/test/scratch/006.png  \n",
            "  inflating: ./data/capsule/test/scratch/007.png  \n",
            "  inflating: ./data/capsule/test/scratch/008.png  \n",
            "  inflating: ./data/capsule/test/scratch/009.png  \n"
          ]
        }
      ]
    },
    {
      "cell_type": "code",
      "execution_count": null,
      "id": "cc08bd30",
      "metadata": {
        "id": "cc08bd30"
      },
      "outputs": [],
      "source": [
        "import torch\n",
        "import torch.nn as nn\n",
        "import matplotlib.pyplot as plt\n",
        "import os   \n",
        "import cv2\n",
        "import numpy as np\n",
        "import torch.optim as optim\n",
        "from utils import show_image_mask"
      ]
    },
    {
      "cell_type": "code",
      "execution_count": null,
      "id": "f89a9ab5",
      "metadata": {
        "colab": {
          "base_uri": "https://localhost:8080/",
          "height": 214
        },
        "id": "f89a9ab5",
        "outputId": "fca79aac-5b2f-4098-f69e-1275c0925080"
      },
      "outputs": [
        {
          "output_type": "display_data",
          "data": {
            "image/png": "[encoded data removed]",
            "text/plain": [
              "<Figure size 720x216 with 2 Axes>"
            ]
          },
          "metadata": {
            "needs_background": "light"
          }
        }
      ],
      "source": [
        "i = '001'\n",
        "image_ = cv2.imread(f'{os.getcwd()}/data/capsule/test/scratch/{i}.png')\n",
        "image_ = cv2.cvtColor(image_, cv2.COLOR_BGR2RGB)\n",
        "\n",
        "mask_ = cv2.imread(f'{os.getcwd()}/data/capsule/ground_truth/scratch/{i}_mask.png', cv2.IMREAD_GRAYSCALE)\n",
        "\n",
        "image_ = cv2.resize(image_, (56, 56), interpolation=cv2.INTER_AREA)\n",
        "mask_ = cv2.resize(mask_, (56, 56), interpolation=cv2.INTER_AREA)\n",
        "show_image_mask(image_, mask_)"
      ]
    },
    {
      "cell_type": "code",
      "execution_count": null,
      "id": "e50a3d27",
      "metadata": {
        "colab": {
          "base_uri": "https://localhost:8080/",
          "height": 249
        },
        "id": "e50a3d27",
        "outputId": "2b2c3a97-33f2-4fa2-ac43-03c370f366fe"
      },
      "outputs": [
        {
          "output_type": "stream",
          "name": "stdout",
          "text": [
            "torch.Size([1, 3, 56, 56])\n",
            "torch.Size([1, 1, 56, 56])\n"
          ]
        },
        {
          "output_type": "display_data",
          "data": {
            "image/png": "[encoded data removed]",
            "text/plain": [
              "<Figure size 720x216 with 2 Axes>"
            ]
          },
          "metadata": {
            "needs_background": "light"
          }
        }
      ],
      "source": [
        "image = torch.Tensor(image_).unsqueeze(0).permute(0,3,1,2)\n",
        "mask = torch.Tensor(mask_)[...,None,None].permute(2,3,0,1)\n",
        "\n",
        "print(image.shape)\n",
        "print(mask.shape)\n",
        "show_image_mask(image, mask)"
      ]
    },
    {
      "cell_type": "markdown",
      "source": [
        "### dilated conv. block layer "
      ],
      "metadata": {
        "id": "mTICeoAU8Ejv"
      },
      "id": "mTICeoAU8Ejv"
    },
    {
      "cell_type": "code",
      "execution_count": null,
      "id": "c10d8831",
      "metadata": {
        "id": "c10d8831"
      },
      "outputs": [],
      "source": [
        "class dilated_conv(nn.Module):\n",
        "    def __init__(self, in_ch, out_ch, dilated_rate, kernel_size=3, stride=1, padding='same'):\n",
        "      super().__init__()\n",
        "      self.dilated_rate= dilated_rate\n",
        "        # 如果需要同時多重空洞卷積，可以對dilated_rate輸入list. e.g. [1,2,3]\n",
        "\n",
        "      if padding=='same':\n",
        "        padding = dilated_rate\n",
        "\n",
        "      self.dilatedConv       = nn.Conv2d(in_ch, out_ch, kernel_size=3,\n",
        "                              stride=stride, dilation=dilated_rate, padding=padding)\n",
        "      self.relu           = nn.ReLU()\n",
        "      self.INorm          = torch.nn.InstanceNorm2d(out_ch)\n",
        "\n",
        "    def forward(self, x):\n",
        "      tmp = x\n",
        "      x = self.dilatedConv(x)\n",
        "      if x.shape[2]==1 & x.shape[3]==1: #torch不能對1x1的feature-map做Batch-norm或Instance-norm\n",
        "        pass  \n",
        "      else:\n",
        "        x = self.INorm(x)\n",
        "      x = self.relu(x)\n",
        "\n",
        "      return x"
      ]
    },
    {
      "cell_type": "code",
      "source": [
        "x = torch.randn(1, 3, 13, 13)\n",
        "x = dilated_conv(3, 3, dilated_rate=2, padding=0)(x)\n",
        "print(x.shape)"
      ],
      "metadata": {
        "colab": {
          "base_uri": "https://localhost:8080/"
        },
        "id": "QmcY6PfPrfxu",
        "outputId": "c75a3089-b9f5-4b49-b9d2-0b311901186d"
      },
      "id": "QmcY6PfPrfxu",
      "execution_count": null,
      "outputs": [
        {
          "output_type": "stream",
          "name": "stdout",
          "text": [
            "torch.Size([1, 3, 9, 9])\n"
          ]
        }
      ]
    },
    {
      "cell_type": "markdown",
      "source": [
        "## deepLab method (空洞卷積, dilated conv.的進階應用)\n",
        "> - SPP\n",
        "> - ASPP"
      ],
      "metadata": {
        "id": "4O8YMNrDhryZ"
      },
      "id": "4O8YMNrDhryZ"
    },
    {
      "cell_type": "markdown",
      "source": [
        "### SPP layer"
      ],
      "metadata": {
        "id": "wpJLWfxA7uAw"
      },
      "id": "wpJLWfxA7uAw"
    },
    {
      "cell_type": "code",
      "source": [
        "import math\n",
        "import torch\n",
        "import torch.nn.functional as F\n",
        "\n",
        "class SPPLayer(torch.nn.Module):\n",
        "\n",
        "  def __init__(self, num_levels, pool_type='max_pool'):\n",
        "    super(SPPLayer, self).__init__()\n",
        "\n",
        "    self.num_levels = num_levels\n",
        "    self.pool_type = pool_type\n",
        "\n",
        "  def forward(self, x):\n",
        "    num, c, h, w = x.size() # num: 樣本數, c: 通道數, h: 影像的高(rows), w: 影像的寬(cols)\n",
        "    out = torch.Tensor([])\n",
        "    for i in range(self.num_levels):\n",
        "      level = i+1\n",
        "      kernel_size = (math.ceil(h / level), math.ceil(w / level))\n",
        "      stride = (math.ceil(h / level), math.ceil(w / level))\n",
        "      pooling = (math.floor((kernel_size[0]*level-h+1)/2), math.floor((kernel_size[1]*level-w+1)/2))\n",
        "\n",
        "      # 选择池化方式 \n",
        "      if self.pool_type == 'max_pool':\n",
        "        tensor = F.max_pool2d(x, kernel_size=kernel_size, stride=stride, padding=pooling).view(num, -1)\n",
        "      else:\n",
        "        tensor = F.avg_pool2d(x, kernel_size=kernel_size, stride=stride, padding=pooling).view(num, -1)\n",
        "          \n",
        "      print(tensor.shape)\n",
        "      out = torch.cat((out, tensor), 1)\n",
        "\n",
        "      return out.flatten()"
      ],
      "metadata": {
        "id": "iJ7d0Mcs36V2"
      },
      "id": "iJ7d0Mcs36V2",
      "execution_count": null,
      "outputs": []
    },
    {
      "cell_type": "code",
      "source": [
        "x = torch.randn(1, 16, 13, 13)\n",
        "x = SPPLayer(num_levels=3, pool_type='max_pool')(x)\n",
        "print(x.shape)"
      ],
      "metadata": {
        "colab": {
          "base_uri": "https://localhost:8080/"
        },
        "id": "pvAvBJ8dif1q",
        "outputId": "ff3e8298-6451-478b-dee6-de811f5fd317"
      },
      "id": "pvAvBJ8dif1q",
      "execution_count": null,
      "outputs": [
        {
          "output_type": "stream",
          "name": "stdout",
          "text": [
            "torch.Size([1, 16])\n",
            "torch.Size([16])\n"
          ]
        }
      ]
    },
    {
      "cell_type": "markdown",
      "source": [
        "### ASPP AdaptiveAvg2D pooling"
      ],
      "metadata": {
        "id": "p8iswM8v7xNS"
      },
      "id": "p8iswM8v7xNS"
    },
    {
      "cell_type": "code",
      "source": [
        "from torch import nn\n",
        "import torch\n",
        "import torch.nn.functional as F\n",
        "\n",
        "class ASPPPooling(nn.Sequential):\n",
        "    def __init__(self, in_channels, out_channels):\n",
        "      super().__init__()\n",
        "      self.aspp_pooling = nn.Sequential(\n",
        "          nn.AdaptiveAvgPool2d(1),\n",
        "          nn.Conv2d(in_channels, out_channels, 1, bias=False))\n",
        "      self.BatchNorm2d = nn.BatchNorm2d(out_channels)\n",
        "      self.relu = nn.ReLU()\n",
        "\n",
        "      \n",
        "    def forward(self, x):\n",
        "      size = x.shape[-2:]\n",
        "      x = self.aspp_pooling(x)\n",
        "      if x.shape[0]>1:\n",
        "        x = self.BatchNorm2d(x)\n",
        "      x = self.relu(x)\n",
        "      return F.interpolate(x, size=size, mode='bilinear', align_corners=False)\n"
      ],
      "metadata": {
        "id": "N0353i4Wmr3_"
      },
      "id": "N0353i4Wmr3_",
      "execution_count": null,
      "outputs": []
    },
    {
      "cell_type": "code",
      "source": [
        "x = torch.randn(1, 16, 56, 56)\n",
        "x = ASPPPooling(16, 10)(x)\n",
        "print(x.shape)"
      ],
      "metadata": {
        "colab": {
          "base_uri": "https://localhost:8080/"
        },
        "id": "f8f_QuJF0KQ2",
        "outputId": "3a7138b1-fe61-45b3-e7e2-e0d388081b39"
      },
      "id": "f8f_QuJF0KQ2",
      "execution_count": null,
      "outputs": [
        {
          "output_type": "stream",
          "name": "stdout",
          "text": [
            "torch.Size([1, 10, 56, 56])\n"
          ]
        }
      ]
    },
    {
      "cell_type": "markdown",
      "source": [
        "### ASPP layer"
      ],
      "metadata": {
        "id": "lv8vzuAN71PK"
      },
      "id": "lv8vzuAN71PK"
    },
    {
      "cell_type": "code",
      "source": [
        "class ASPP(nn.Module):\n",
        "    def __init__(self, in_channels, dilated_rate):\n",
        "        super(ASPP, self).__init__()\n",
        "        out_channels = 256\n",
        "        modules = []\n",
        "        # 並行的5個小分支\n",
        "        ## 1號: 1x1 conv\n",
        "        modules.append(nn.Sequential( # 1x1 conv\n",
        "            nn.Conv2d(in_channels, out_channels, 1, bias=False),\n",
        "            nn.BatchNorm2d(out_channels),\n",
        "            nn.ReLU()))\n",
        "        ## 2,3,4號: 3個不同dilated rate的分支，padding=same\n",
        "        dilated_rate = tuple(dilated_rate)\n",
        "        modules += [dilated_conv(in_channels, out_channels, i) for i in dilated_rate] # dilated conv with instance norm.\n",
        "        ## 5號: ASPP pooling\n",
        "        modules.append(ASPPPooling(in_channels, out_channels)) # ASPP pooling\n",
        "\n",
        "        # 把5個小分支合併在一起\n",
        "        self.convs = nn.ModuleList(modules)\n",
        "\n",
        "        # ASPP層的輸出，做了一些norm.和dropout\n",
        "        self.project = nn.Sequential(\n",
        "            nn.Conv2d(5 * out_channels, out_channels, 1, bias=False),\n",
        "            nn.BatchNorm2d(out_channels),\n",
        "            nn.ReLU(),\n",
        "            nn.Dropout(0.5))\n",
        "\n",
        "    def forward(self, x):\n",
        "        res = []\n",
        "        for conv in self.convs:\n",
        "            res.append(conv(x))\n",
        "        res = torch.cat(res, dim=1)\n",
        "        return self.project(res)\n",
        "aspp = ASPP(256,[6,12,18])\n",
        "x = torch.rand(2,256,13,13)\n",
        "print(aspp(x).shape)\n"
      ],
      "metadata": {
        "colab": {
          "base_uri": "https://localhost:8080/"
        },
        "id": "PI7J5KGqynKk",
        "outputId": "e8a866fc-4df6-43aa-b466-f1681e7e31ff"
      },
      "id": "PI7J5KGqynKk",
      "execution_count": null,
      "outputs": [
        {
          "output_type": "stream",
          "name": "stdout",
          "text": [
            "torch.Size([2, 256, 13, 13])\n"
          ]
        }
      ]
    },
    {
      "cell_type": "markdown",
      "source": [
        "## 補充: 空洞卷積另一個方向的改進 HDC method\n",
        "> Panqu Wang,Pengfei Chen, et al.Understanding Convolution for Semantic Segmentation.//WACV 2018\n",
        "![](https://i.imgur.com/dWbQgOv.png)\n",
        "\n",
        "空洞卷積可以擴大感受野，這也是pooling的目的之一(感受野、參數量)。\n",
        "- 兩個3x3的卷積可以獲得5x5的感受野，但兩個3x3，dilated-rate=2的空洞卷積可以獲得13x13的感受野。\n",
        "- 缺點如下圖(a)，當使用連續使用3層dilated-rate=2的空洞卷積，空洞的操作會讓原始影像的部分資訊永遠缺失。\n",
        "- 改良方法包括HDC，混合式的空洞卷積，透過鋸齒狀的dilated-rate設計(e.g. [1,2,3]，最大公因數為1的組合)，可以在擴大感受野的同時將原始影像資訊保留。\n",
        "  - 嚴謹公式如下: $$M_i=max[M_i+1−2r_i, M_i+1−2(M_i+1−r_i), r_i]$$\n",
        "  - 3個連續卷積中的第2個表示為: $$M_2$$\n",
        "  - kernel_size表示為: $$K*K$$\n",
        "  - 第i層卷積的dilated rate表示為 $$r_i$$\n",
        "  - 目標是$$M_2 <= K$$\n",
        "\n"
      ],
      "metadata": {
        "id": "VjdLeHitw7dh"
      },
      "id": "VjdLeHitw7dh"
    },
    {
      "cell_type": "code",
      "source": [
        "K = 3\n",
        "rate = [1,2,3]\n",
        "def valid_HDC(K, rate):\n",
        "  M2 = rate[1]\n",
        "  M3 = rate[2]\n",
        "  r2 = M2\n",
        "  M2 = max([M3+1-2*r2, M3+1-2*(M3-r2), r2])\n",
        "  assert M2<= K,'HDC not valid'\n",
        "\n",
        "valid_HDC(3, [1,3,4])"
      ],
      "metadata": {
        "id": "fyfwiectxMTw"
      },
      "id": "fyfwiectxMTw",
      "execution_count": null,
      "outputs": []
    },
    {
      "cell_type": "code",
      "source": [
        ""
      ],
      "metadata": {
        "id": "IjOV8v766F5y"
      },
      "id": "IjOV8v766F5y",
      "execution_count": null,
      "outputs": []
    }
  ],
  "metadata": {
    "kernelspec": {
      "display_name": "Python 3 (ipykernel)",
      "language": "python",
      "name": "python3"
    },
    "language_info": {
      "codemirror_mode": {
        "name": "ipython",
        "version": 3
      },
      "file_extension": ".py",
      "mimetype": "text/x-python",
      "name": "python",
      "nbconvert_exporter": "python",
      "pygments_lexer": "ipython3",
      "version": "3.7.10"
    },
    "colab": {
      "name": "03_Dilated_conv.ipynb",
      "provenance": [],
      "collapsed_sections": [],
      "toc_visible": true,
      "include_colab_link": true
    }
  },
  "nbformat": 4,
  "nbformat_minor": 5
}