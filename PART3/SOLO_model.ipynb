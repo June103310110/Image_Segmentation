{
 "cells": [
  {
   "cell_type": "code",
   "execution_count": 1,
   "id": "9181336a",
   "metadata": {},
   "outputs": [],
   "source": [
    "import sys \n",
    "import os\n"
   ]
  },
  {
   "cell_type": "code",
   "execution_count": 2,
   "id": "93e58aa0",
   "metadata": {
    "scrolled": true
   },
   "outputs": [
    {
     "name": "stdout",
     "output_type": "stream",
     "text": [
      "Looking in links: https://download.openmmlab.com/mmcv/dist/cu111/torch1.10.0/index.html\n",
      "Requirement already satisfied: mmcv-full in /opt/conda/lib/python3.7/site-packages (1.4.5)\n",
      "Requirement already satisfied: opencv-python>=3 in /opt/conda/lib/python3.7/site-packages (from mmcv-full) (4.5.3.56)\n",
      "Requirement already satisfied: yapf in /opt/conda/lib/python3.7/site-packages (from mmcv-full) (0.32.0)\n",
      "Requirement already satisfied: numpy in /opt/conda/lib/python3.7/site-packages (from mmcv-full) (1.21.2)\n",
      "Requirement already satisfied: Pillow in /opt/conda/lib/python3.7/site-packages (from mmcv-full) (7.2.0)\n",
      "Requirement already satisfied: addict in /opt/conda/lib/python3.7/site-packages (from mmcv-full) (2.4.0)\n",
      "Requirement already satisfied: pyyaml in /opt/conda/lib/python3.7/site-packages (from mmcv-full) (5.4.1)\n",
      "Requirement already satisfied: packaging in /opt/conda/lib/python3.7/site-packages (from mmcv-full) (21.0)\n",
      "Requirement already satisfied: pyparsing>=2.0.2 in /opt/conda/lib/python3.7/site-packages (from packaging->mmcv-full) (2.4.7)\n",
      "Requirement already satisfied: mmdet==2.20.0. in /opt/conda/lib/python3.7/site-packages (2.20.0)\n",
      "Requirement already satisfied: numpy in /opt/conda/lib/python3.7/site-packages (from mmdet==2.20.0.) (1.21.2)\n",
      "Requirement already satisfied: terminaltables in /opt/conda/lib/python3.7/site-packages (from mmdet==2.20.0.) (3.1.10)\n",
      "Requirement already satisfied: six in /opt/conda/lib/python3.7/site-packages (from mmdet==2.20.0.) (1.16.0)\n",
      "Requirement already satisfied: pycocotools in /opt/conda/lib/python3.7/site-packages (from mmdet==2.20.0.) (2.0.4)\n",
      "Requirement already satisfied: matplotlib in /opt/conda/lib/python3.7/site-packages (from mmdet==2.20.0.) (3.2.2)\n",
      "Requirement already satisfied: python-dateutil>=2.1 in /opt/conda/lib/python3.7/site-packages (from matplotlib->mmdet==2.20.0.) (2.8.2)\n",
      "Requirement already satisfied: cycler>=0.10 in /opt/conda/lib/python3.7/site-packages (from matplotlib->mmdet==2.20.0.) (0.10.0)\n",
      "Requirement already satisfied: kiwisolver>=1.0.1 in /opt/conda/lib/python3.7/site-packages (from matplotlib->mmdet==2.20.0.) (1.3.2)\n",
      "Requirement already satisfied: pyparsing!=2.0.4,!=2.1.2,!=2.1.6,>=2.0.1 in /opt/conda/lib/python3.7/site-packages (from matplotlib->mmdet==2.20.0.) (2.4.7)\n",
      "Requirement already satisfied: mmcls==0.19.0. in /opt/conda/lib/python3.7/site-packages (0.19.0)\n",
      "Requirement already satisfied: matplotlib in /opt/conda/lib/python3.7/site-packages (from mmcls==0.19.0.) (3.2.2)\n",
      "Requirement already satisfied: packaging in /opt/conda/lib/python3.7/site-packages (from mmcls==0.19.0.) (21.0)\n",
      "Requirement already satisfied: numpy in /opt/conda/lib/python3.7/site-packages (from mmcls==0.19.0.) (1.21.2)\n",
      "Requirement already satisfied: kiwisolver>=1.0.1 in /opt/conda/lib/python3.7/site-packages (from matplotlib->mmcls==0.19.0.) (1.3.2)\n",
      "Requirement already satisfied: cycler>=0.10 in /opt/conda/lib/python3.7/site-packages (from matplotlib->mmcls==0.19.0.) (0.10.0)\n",
      "Requirement already satisfied: pyparsing!=2.0.4,!=2.1.2,!=2.1.6,>=2.0.1 in /opt/conda/lib/python3.7/site-packages (from matplotlib->mmcls==0.19.0.) (2.4.7)\n",
      "Requirement already satisfied: python-dateutil>=2.1 in /opt/conda/lib/python3.7/site-packages (from matplotlib->mmcls==0.19.0.) (2.8.2)\n",
      "Requirement already satisfied: six in /opt/conda/lib/python3.7/site-packages (from cycler>=0.10->matplotlib->mmcls==0.19.0.) (1.16.0)\n"
     ]
    }
   ],
   "source": [
    "!pip install mmcv-full -f https://download.openmmlab.com/mmcv/dist/cu111/torch1.10.0/index.html\n",
    "!pip install mmdet==2.20.0.\n",
    "!pip install mmcls==0.19.0."
   ]
  },
  {
   "cell_type": "code",
   "execution_count": 5,
   "id": "4d5ddc4e",
   "metadata": {},
   "outputs": [
    {
     "data": {
      "text/plain": [
       "{'type': '123'}"
      ]
     },
     "execution_count": 5,
     "metadata": {},
     "output_type": "execute_result"
    }
   ],
   "source": [
    "dict(type='123')"
   ]
  },
  {
   "cell_type": "code",
   "execution_count": 3,
   "id": "c4d4215c",
   "metadata": {},
   "outputs": [
    {
     "data": {
      "text/plain": [
       "'/home/jovyan/git/Image_Segmentation/PART3/SOLO/mmdet/models/detectors/'"
      ]
     },
     "execution_count": 3,
     "metadata": {},
     "output_type": "execute_result"
    }
   ],
   "source": [
    "os.getcwd()\n",
    "path = os.getcwd()+'/SOLO/mmdet/models/detectors/'\n",
    "path"
   ]
  },
  {
   "cell_type": "code",
   "execution_count": 4,
   "id": "209d7261",
   "metadata": {},
   "outputs": [
    {
     "ename": "ImportError",
     "evalue": "/opt/conda/lib/python3.7/site-packages/mmcv/_ext.cpython-37m-x86_64-linux-gnu.so: undefined symbol: _ZNK2at10TensorBase8data_ptrIdEEPT_v",
     "output_type": "error",
     "traceback": [
      "\u001b[0;31m---------------------------------------------------------------------------\u001b[0m",
      "\u001b[0;31mImportError\u001b[0m                               Traceback (most recent call last)",
      "\u001b[0;32m/tmp/ipykernel_9915/2456929209.py\u001b[0m in \u001b[0;36m<module>\u001b[0;34m\u001b[0m\n\u001b[0;32m----> 1\u001b[0;31m \u001b[0;32mfrom\u001b[0m \u001b[0msingle_stage_ins\u001b[0m \u001b[0;32mimport\u001b[0m \u001b[0mSingleStageInsDetector\u001b[0m\u001b[0;34m\u001b[0m\u001b[0;34m\u001b[0m\u001b[0m\n\u001b[0m",
      "\u001b[0;32m~/git/Image_Segmentation/PART3/single_stage_ins.py\u001b[0m in \u001b[0;36m<module>\u001b[0;34m\u001b[0m\n\u001b[1;32m      1\u001b[0m \u001b[0;32mimport\u001b[0m \u001b[0mtorch\u001b[0m\u001b[0;34m.\u001b[0m\u001b[0mnn\u001b[0m \u001b[0;32mas\u001b[0m \u001b[0mnn\u001b[0m\u001b[0;34m\u001b[0m\u001b[0;34m\u001b[0m\u001b[0m\n\u001b[1;32m      2\u001b[0m \u001b[0;34m\u001b[0m\u001b[0m\n\u001b[0;32m----> 3\u001b[0;31m \u001b[0;32mfrom\u001b[0m \u001b[0mmmdet\u001b[0m\u001b[0;34m.\u001b[0m\u001b[0mcore\u001b[0m \u001b[0;32mimport\u001b[0m \u001b[0mbbox2result\u001b[0m\u001b[0;34m\u001b[0m\u001b[0;34m\u001b[0m\u001b[0m\n\u001b[0m\u001b[1;32m      4\u001b[0m \u001b[0;32mfrom\u001b[0m \u001b[0;34m.\u001b[0m\u001b[0;34m.\u001b[0m \u001b[0;32mimport\u001b[0m \u001b[0mbuilder\u001b[0m\u001b[0;34m\u001b[0m\u001b[0;34m\u001b[0m\u001b[0m\n\u001b[1;32m      5\u001b[0m \u001b[0;32mfrom\u001b[0m \u001b[0;34m.\u001b[0m\u001b[0;34m.\u001b[0m\u001b[0mregistry\u001b[0m \u001b[0;32mimport\u001b[0m \u001b[0mDETECTORS\u001b[0m\u001b[0;34m\u001b[0m\u001b[0;34m\u001b[0m\u001b[0m\n",
      "\u001b[0;32m/opt/conda/lib/python3.7/site-packages/mmdet/core/__init__.py\u001b[0m in \u001b[0;36m<module>\u001b[0;34m\u001b[0m\n\u001b[1;32m      1\u001b[0m \u001b[0;31m# Copyright (c) OpenMMLab. All rights reserved.\u001b[0m\u001b[0;34m\u001b[0m\u001b[0;34m\u001b[0m\u001b[0;34m\u001b[0m\u001b[0m\n\u001b[1;32m      2\u001b[0m \u001b[0;32mfrom\u001b[0m \u001b[0;34m.\u001b[0m\u001b[0manchor\u001b[0m \u001b[0;32mimport\u001b[0m \u001b[0;34m*\u001b[0m  \u001b[0;31m# noqa: F401, F403\u001b[0m\u001b[0;34m\u001b[0m\u001b[0;34m\u001b[0m\u001b[0m\n\u001b[0;32m----> 3\u001b[0;31m \u001b[0;32mfrom\u001b[0m \u001b[0;34m.\u001b[0m\u001b[0mbbox\u001b[0m \u001b[0;32mimport\u001b[0m \u001b[0;34m*\u001b[0m  \u001b[0;31m# noqa: F401, F403\u001b[0m\u001b[0;34m\u001b[0m\u001b[0;34m\u001b[0m\u001b[0m\n\u001b[0m\u001b[1;32m      4\u001b[0m \u001b[0;32mfrom\u001b[0m \u001b[0;34m.\u001b[0m\u001b[0mdata_structures\u001b[0m \u001b[0;32mimport\u001b[0m \u001b[0;34m*\u001b[0m  \u001b[0;31m# noqa: F401, F403\u001b[0m\u001b[0;34m\u001b[0m\u001b[0;34m\u001b[0m\u001b[0m\n\u001b[1;32m      5\u001b[0m \u001b[0;32mfrom\u001b[0m \u001b[0;34m.\u001b[0m\u001b[0mevaluation\u001b[0m \u001b[0;32mimport\u001b[0m \u001b[0;34m*\u001b[0m  \u001b[0;31m# noqa: F401, F403\u001b[0m\u001b[0;34m\u001b[0m\u001b[0;34m\u001b[0m\u001b[0m\n",
      "\u001b[0;32m/opt/conda/lib/python3.7/site-packages/mmdet/core/bbox/__init__.py\u001b[0m in \u001b[0;36m<module>\u001b[0;34m\u001b[0m\n\u001b[1;32m      6\u001b[0m                     PseudoBBoxCoder, TBLRBBoxCoder)\n\u001b[1;32m      7\u001b[0m \u001b[0;32mfrom\u001b[0m \u001b[0;34m.\u001b[0m\u001b[0miou_calculators\u001b[0m \u001b[0;32mimport\u001b[0m \u001b[0mBboxOverlaps2D\u001b[0m\u001b[0;34m,\u001b[0m \u001b[0mbbox_overlaps\u001b[0m\u001b[0;34m\u001b[0m\u001b[0;34m\u001b[0m\u001b[0m\n\u001b[0;32m----> 8\u001b[0;31m from .samplers import (BaseSampler, CombinedSampler,\n\u001b[0m\u001b[1;32m      9\u001b[0m                        \u001b[0mInstanceBalancedPosSampler\u001b[0m\u001b[0;34m,\u001b[0m \u001b[0mIoUBalancedNegSampler\u001b[0m\u001b[0;34m,\u001b[0m\u001b[0;34m\u001b[0m\u001b[0;34m\u001b[0m\u001b[0m\n\u001b[1;32m     10\u001b[0m                        \u001b[0mOHEMSampler\u001b[0m\u001b[0;34m,\u001b[0m \u001b[0mPseudoSampler\u001b[0m\u001b[0;34m,\u001b[0m \u001b[0mRandomSampler\u001b[0m\u001b[0;34m,\u001b[0m\u001b[0;34m\u001b[0m\u001b[0;34m\u001b[0m\u001b[0m\n",
      "\u001b[0;32m/opt/conda/lib/python3.7/site-packages/mmdet/core/bbox/samplers/__init__.py\u001b[0m in \u001b[0;36m<module>\u001b[0;34m\u001b[0m\n\u001b[1;32m      8\u001b[0m \u001b[0;32mfrom\u001b[0m \u001b[0;34m.\u001b[0m\u001b[0mrandom_sampler\u001b[0m \u001b[0;32mimport\u001b[0m \u001b[0mRandomSampler\u001b[0m\u001b[0;34m\u001b[0m\u001b[0;34m\u001b[0m\u001b[0m\n\u001b[1;32m      9\u001b[0m \u001b[0;32mfrom\u001b[0m \u001b[0;34m.\u001b[0m\u001b[0msampling_result\u001b[0m \u001b[0;32mimport\u001b[0m \u001b[0mSamplingResult\u001b[0m\u001b[0;34m\u001b[0m\u001b[0;34m\u001b[0m\u001b[0m\n\u001b[0;32m---> 10\u001b[0;31m \u001b[0;32mfrom\u001b[0m \u001b[0;34m.\u001b[0m\u001b[0mscore_hlr_sampler\u001b[0m \u001b[0;32mimport\u001b[0m \u001b[0mScoreHLRSampler\u001b[0m\u001b[0;34m\u001b[0m\u001b[0;34m\u001b[0m\u001b[0m\n\u001b[0m\u001b[1;32m     11\u001b[0m \u001b[0;34m\u001b[0m\u001b[0m\n\u001b[1;32m     12\u001b[0m __all__ = [\n",
      "\u001b[0;32m/opt/conda/lib/python3.7/site-packages/mmdet/core/bbox/samplers/score_hlr_sampler.py\u001b[0m in \u001b[0;36m<module>\u001b[0;34m\u001b[0m\n\u001b[1;32m      1\u001b[0m \u001b[0;31m# Copyright (c) OpenMMLab. All rights reserved.\u001b[0m\u001b[0;34m\u001b[0m\u001b[0;34m\u001b[0m\u001b[0;34m\u001b[0m\u001b[0m\n\u001b[1;32m      2\u001b[0m \u001b[0;32mimport\u001b[0m \u001b[0mtorch\u001b[0m\u001b[0;34m\u001b[0m\u001b[0;34m\u001b[0m\u001b[0m\n\u001b[0;32m----> 3\u001b[0;31m \u001b[0;32mfrom\u001b[0m \u001b[0mmmcv\u001b[0m\u001b[0;34m.\u001b[0m\u001b[0mops\u001b[0m \u001b[0;32mimport\u001b[0m \u001b[0mnms_match\u001b[0m\u001b[0;34m\u001b[0m\u001b[0;34m\u001b[0m\u001b[0m\n\u001b[0m\u001b[1;32m      4\u001b[0m \u001b[0;34m\u001b[0m\u001b[0m\n\u001b[1;32m      5\u001b[0m \u001b[0;32mfrom\u001b[0m \u001b[0;34m.\u001b[0m\u001b[0;34m.\u001b[0m\u001b[0mbuilder\u001b[0m \u001b[0;32mimport\u001b[0m \u001b[0mBBOX_SAMPLERS\u001b[0m\u001b[0;34m\u001b[0m\u001b[0;34m\u001b[0m\u001b[0m\n",
      "\u001b[0;32m/opt/conda/lib/python3.7/site-packages/mmcv/ops/__init__.py\u001b[0m in \u001b[0;36m<module>\u001b[0;34m\u001b[0m\n\u001b[1;32m      1\u001b[0m \u001b[0;31m# Copyright (c) OpenMMLab. All rights reserved.\u001b[0m\u001b[0;34m\u001b[0m\u001b[0;34m\u001b[0m\u001b[0;34m\u001b[0m\u001b[0m\n\u001b[0;32m----> 2\u001b[0;31m \u001b[0;32mfrom\u001b[0m \u001b[0;34m.\u001b[0m\u001b[0mactive_rotated_filter\u001b[0m \u001b[0;32mimport\u001b[0m \u001b[0mactive_rotated_filter\u001b[0m\u001b[0;34m\u001b[0m\u001b[0;34m\u001b[0m\u001b[0m\n\u001b[0m\u001b[1;32m      3\u001b[0m \u001b[0;32mfrom\u001b[0m \u001b[0;34m.\u001b[0m\u001b[0massign_score_withk\u001b[0m \u001b[0;32mimport\u001b[0m \u001b[0massign_score_withk\u001b[0m\u001b[0;34m\u001b[0m\u001b[0;34m\u001b[0m\u001b[0m\n\u001b[1;32m      4\u001b[0m \u001b[0;32mfrom\u001b[0m \u001b[0;34m.\u001b[0m\u001b[0mball_query\u001b[0m \u001b[0;32mimport\u001b[0m \u001b[0mball_query\u001b[0m\u001b[0;34m\u001b[0m\u001b[0;34m\u001b[0m\u001b[0m\n\u001b[1;32m      5\u001b[0m \u001b[0;32mfrom\u001b[0m \u001b[0;34m.\u001b[0m\u001b[0mbbox\u001b[0m \u001b[0;32mimport\u001b[0m \u001b[0mbbox_overlaps\u001b[0m\u001b[0;34m\u001b[0m\u001b[0;34m\u001b[0m\u001b[0m\n",
      "\u001b[0;32m/opt/conda/lib/python3.7/site-packages/mmcv/ops/active_rotated_filter.py\u001b[0m in \u001b[0;36m<module>\u001b[0;34m\u001b[0m\n\u001b[1;32m      8\u001b[0m ext_module = ext_loader.load_ext(\n\u001b[1;32m      9\u001b[0m     \u001b[0;34m'_ext'\u001b[0m\u001b[0;34m,\u001b[0m\u001b[0;34m\u001b[0m\u001b[0;34m\u001b[0m\u001b[0m\n\u001b[0;32m---> 10\u001b[0;31m     ['active_rotated_filter_forward', 'active_rotated_filter_backward'])\n\u001b[0m\u001b[1;32m     11\u001b[0m \u001b[0;34m\u001b[0m\u001b[0m\n\u001b[1;32m     12\u001b[0m \u001b[0;34m\u001b[0m\u001b[0m\n",
      "\u001b[0;32m/opt/conda/lib/python3.7/site-packages/mmcv/utils/ext_loader.py\u001b[0m in \u001b[0;36mload_ext\u001b[0;34m(name, funcs)\u001b[0m\n\u001b[1;32m     11\u001b[0m \u001b[0;34m\u001b[0m\u001b[0m\n\u001b[1;32m     12\u001b[0m     \u001b[0;32mdef\u001b[0m \u001b[0mload_ext\u001b[0m\u001b[0;34m(\u001b[0m\u001b[0mname\u001b[0m\u001b[0;34m,\u001b[0m \u001b[0mfuncs\u001b[0m\u001b[0;34m)\u001b[0m\u001b[0;34m:\u001b[0m\u001b[0;34m\u001b[0m\u001b[0;34m\u001b[0m\u001b[0m\n\u001b[0;32m---> 13\u001b[0;31m         \u001b[0mext\u001b[0m \u001b[0;34m=\u001b[0m \u001b[0mimportlib\u001b[0m\u001b[0;34m.\u001b[0m\u001b[0mimport_module\u001b[0m\u001b[0;34m(\u001b[0m\u001b[0;34m'mmcv.'\u001b[0m \u001b[0;34m+\u001b[0m \u001b[0mname\u001b[0m\u001b[0;34m)\u001b[0m\u001b[0;34m\u001b[0m\u001b[0;34m\u001b[0m\u001b[0m\n\u001b[0m\u001b[1;32m     14\u001b[0m         \u001b[0;32mfor\u001b[0m \u001b[0mfun\u001b[0m \u001b[0;32min\u001b[0m \u001b[0mfuncs\u001b[0m\u001b[0;34m:\u001b[0m\u001b[0;34m\u001b[0m\u001b[0;34m\u001b[0m\u001b[0m\n\u001b[1;32m     15\u001b[0m             \u001b[0;32massert\u001b[0m \u001b[0mhasattr\u001b[0m\u001b[0;34m(\u001b[0m\u001b[0mext\u001b[0m\u001b[0;34m,\u001b[0m \u001b[0mfun\u001b[0m\u001b[0;34m)\u001b[0m\u001b[0;34m,\u001b[0m \u001b[0;34mf'{fun} miss in module {name}'\u001b[0m\u001b[0;34m\u001b[0m\u001b[0;34m\u001b[0m\u001b[0m\n",
      "\u001b[0;32m/opt/conda/lib/python3.7/importlib/__init__.py\u001b[0m in \u001b[0;36mimport_module\u001b[0;34m(name, package)\u001b[0m\n\u001b[1;32m    125\u001b[0m                 \u001b[0;32mbreak\u001b[0m\u001b[0;34m\u001b[0m\u001b[0;34m\u001b[0m\u001b[0m\n\u001b[1;32m    126\u001b[0m             \u001b[0mlevel\u001b[0m \u001b[0;34m+=\u001b[0m \u001b[0;36m1\u001b[0m\u001b[0;34m\u001b[0m\u001b[0;34m\u001b[0m\u001b[0m\n\u001b[0;32m--> 127\u001b[0;31m     \u001b[0;32mreturn\u001b[0m \u001b[0m_bootstrap\u001b[0m\u001b[0;34m.\u001b[0m\u001b[0m_gcd_import\u001b[0m\u001b[0;34m(\u001b[0m\u001b[0mname\u001b[0m\u001b[0;34m[\u001b[0m\u001b[0mlevel\u001b[0m\u001b[0;34m:\u001b[0m\u001b[0;34m]\u001b[0m\u001b[0;34m,\u001b[0m \u001b[0mpackage\u001b[0m\u001b[0;34m,\u001b[0m \u001b[0mlevel\u001b[0m\u001b[0;34m)\u001b[0m\u001b[0;34m\u001b[0m\u001b[0;34m\u001b[0m\u001b[0m\n\u001b[0m\u001b[1;32m    128\u001b[0m \u001b[0;34m\u001b[0m\u001b[0m\n\u001b[1;32m    129\u001b[0m \u001b[0;34m\u001b[0m\u001b[0m\n",
      "\u001b[0;31mImportError\u001b[0m: /opt/conda/lib/python3.7/site-packages/mmcv/_ext.cpython-37m-x86_64-linux-gnu.so: undefined symbol: _ZNK2at10TensorBase8data_ptrIdEEPT_v"
     ]
    }
   ],
   "source": [
    "from single_stage_ins import SingleStageInsDetector"
   ]
  },
  {
   "cell_type": "code",
   "execution_count": null,
   "id": "e9cff2b6",
   "metadata": {},
   "outputs": [],
   "source": [
    "from .single_stage_ins import SingleStageInsDetector\n",
    "from ..registry import DETECTORS\n",
    "\n",
    "\n",
    "@DETECTORS.register_module\n",
    "class SOLOv2(SingleStageInsDetector):\n",
    "\n",
    "    def __init__(self,\n",
    "                 backbone,\n",
    "                 neck,\n",
    "                 bbox_head,\n",
    "                 mask_feat_head,\n",
    "                 train_cfg=None,\n",
    "                 test_cfg=None,\n",
    "                 pretrained=None):\n",
    "        super(SOLOv2, self).__init__(backbone, neck, bbox_head, mask_feat_head, train_cfg,\n",
    "                                   test_cfg, pretrained)\n"
   ]
  },
  {
   "cell_type": "code",
   "execution_count": null,
   "id": "a716453a",
   "metadata": {},
   "outputs": [],
   "source": []
  },
  {
   "cell_type": "code",
   "execution_count": null,
   "id": "94887690",
   "metadata": {},
   "outputs": [],
   "source": []
  },
  {
   "cell_type": "code",
   "execution_count": 1,
   "id": "22431aaa",
   "metadata": {},
   "outputs": [],
   "source": [
    "model = dict(\n",
    "    type='SOLO',\n",
    "    pretrained='torchvision://resnet50',\n",
    "    backbone=dict(\n",
    "        type='ResNet',\n",
    "        depth=50,\n",
    "        num_stages=4,\n",
    "        out_indices=(0, 1, 2, 3), # C2, C3, C4, C5\n",
    "        frozen_stages=1,\n",
    "        style='pytorch'),\n",
    "    neck=dict(\n",
    "        type='FPN',\n",
    "        in_channels=[256, 512, 1024, 2048],\n",
    "        out_channels=256,\n",
    "        start_level=0,\n",
    "        num_outs=5),\n",
    "    bbox_head=dict(\n",
    "        type='DecoupledSOLOLightHead',\n",
    "        num_classes=81,\n",
    "        in_channels=256,\n",
    "        stacked_convs=4,\n",
    "        seg_feat_channels=256,\n",
    "        strides=[8, 8, 16, 32, 32],\n",
    "        scale_ranges=((1, 64), (32, 128), (64, 256), (128, 512), (256, 2048)),\n",
    "        sigma=0.2,\n",
    "        num_grids=[40, 36, 24, 16, 12],\n",
    "        cate_down_pos=0,\n",
    "        loss_ins=dict(\n",
    "            type='DiceLoss',\n",
    "            use_sigmoid=True,\n",
    "            loss_weight=3.0),\n",
    "        loss_cate=dict(\n",
    "            type='FocalLoss',\n",
    "            use_sigmoid=True,\n",
    "            gamma=2.0,\n",
    "            alpha=0.25,\n",
    "            loss_weight=1.0),\n",
    "    ))"
   ]
  },
  {
   "cell_type": "code",
   "execution_count": 6,
   "id": "5203641a",
   "metadata": {},
   "outputs": [],
   "source": [
    "cfg = model"
   ]
  },
  {
   "cell_type": "code",
   "execution_count": 7,
   "id": "9d738b5b",
   "metadata": {},
   "outputs": [],
   "source": [
    "args = cfg.copy()\n",
    "# obj_type = args.pop('type')"
   ]
  },
  {
   "cell_type": "code",
   "execution_count": 10,
   "id": "cdd14d7f",
   "metadata": {},
   "outputs": [],
   "source": [
    "# obj_type"
   ]
  },
  {
   "cell_type": "code",
   "execution_count": 11,
   "id": "aaf04ce7",
   "metadata": {},
   "outputs": [
    {
     "data": {
      "text/plain": [
       "dict_keys(['type', 'pretrained', 'backbone', 'neck', 'bbox_head'])"
      ]
     },
     "execution_count": 11,
     "metadata": {},
     "output_type": "execute_result"
    }
   ],
   "source": [
    "args.keys()"
   ]
  },
  {
   "cell_type": "code",
   "execution_count": null,
   "id": "7711dadc",
   "metadata": {},
   "outputs": [],
   "source": []
  }
 ],
 "metadata": {
  "kernelspec": {
   "display_name": "Python 3 (ipykernel)",
   "language": "python",
   "name": "python3"
  },
  "language_info": {
   "codemirror_mode": {
    "name": "ipython",
    "version": 3
   },
   "file_extension": ".py",
   "mimetype": "text/x-python",
   "name": "python",
   "nbconvert_exporter": "python",
   "pygments_lexer": "ipython3",
   "version": "3.7.10"
  }
 },
 "nbformat": 4,
 "nbformat_minor": 5
}
