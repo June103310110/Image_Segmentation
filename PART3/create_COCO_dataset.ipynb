{
  "nbformat": 4,
  "nbformat_minor": 0,
  "metadata": {
    "colab": {
      "name": "create_dataset.ipynb",
      "provenance": [],
      "collapsed_sections": []
    },
    "kernelspec": {
      "name": "python3",
      "display_name": "Python 3"
    },
    "language_info": {
      "name": "python"
    }
  },
  "cells": [
    {
      "cell_type": "markdown",
      "source": [
        "> ### Rererence: 謦伊的閱讀筆記\n",
        "- https://medium.com/ching-i/solov2-%E8%A8%93%E7%B7%B4%E6%95%99%E5%AD%B8-90591960b5c7\n"
      ],
      "metadata": {
        "id": "HmAK4gXyc5V4"
      }
    },
    {
      "cell_type": "code",
      "metadata": {
        "colab": {
          "base_uri": "https://localhost:8080/"
        },
        "id": "8vTdgWUMkumO",
        "outputId": "bfd566fd-2992-48f7-8e27-cef88d986365"
      },
      "source": [
        "from google.colab import drive\n",
        "import os\n",
        "\n",
        "drive.mount('/content/drive')\n",
        "\n",
        "os.chdir('/content/drive/MyDrive')\n",
        "os.makedirs('./SOLOV2/data/', exist_ok=True)\n",
        "os.chdir('SOLOV2')"
      ],
      "execution_count": null,
      "outputs": [
        {
          "output_type": "stream",
          "name": "stdout",
          "text": [
            "Drive already mounted at /content/drive; to attempt to forcibly remount, call drive.mount(\"/content/drive\", force_remount=True).\n"
          ]
        }
      ]
    },
    {
      "cell_type": "code",
      "metadata": {
        "colab": {
          "base_uri": "https://localhost:8080/"
        },
        "id": "hahcHc1NkzQH",
        "outputId": "527ebe00-d88b-4472-83c7-6636f3de5113"
      },
      "source": [
        "!git clone https://github.com/wkentaro/labelme"
      ],
      "execution_count": null,
      "outputs": [
        {
          "output_type": "stream",
          "name": "stdout",
          "text": [
            "Cloning into 'labelme'...\n",
            "remote: Enumerating objects: 7404, done.\u001b[K\n",
            "remote: Counting objects: 100% (63/63), done.\u001b[K\n",
            "remote: Compressing objects: 100% (43/43), done.\u001b[K\n",
            "remote: Total 7404 (delta 27), reused 36 (delta 15), pack-reused 7341\u001b[K\n",
            "Receiving objects: 100% (7404/7404), 45.11 MiB | 14.02 MiB/s, done.\n",
            "Resolving deltas: 100% (4454/4454), done.\n",
            "Checking out files: 100% (249/249), done.\n"
          ]
        }
      ]
    },
    {
      "cell_type": "code",
      "metadata": {
        "colab": {
          "base_uri": "https://localhost:8080/"
        },
        "id": "NQ1nek0omoDk",
        "outputId": "a567b327-996b-4b2b-df99-b88776c8589d"
      },
      "source": [
        "!pip install labelme"
      ],
      "execution_count": null,
      "outputs": [
        {
          "output_type": "stream",
          "name": "stdout",
          "text": [
            "Requirement already satisfied: labelme in /usr/local/lib/python3.7/dist-packages (5.0.0)\n",
            "Requirement already satisfied: qtpy!=1.11.2 in /usr/local/lib/python3.7/dist-packages (from labelme) (2.0.1)\n",
            "Requirement already satisfied: numpy in /usr/local/lib/python3.7/dist-packages (from labelme) (1.21.5)\n",
            "Requirement already satisfied: matplotlib<3.3 in /usr/local/lib/python3.7/dist-packages (from labelme) (3.2.2)\n",
            "Requirement already satisfied: imgviz>=0.11 in /usr/local/lib/python3.7/dist-packages (from labelme) (1.4.1)\n",
            "Requirement already satisfied: Pillow>=2.8 in /usr/local/lib/python3.7/dist-packages (from labelme) (7.1.2)\n",
            "Requirement already satisfied: natsort>=7.1.0 in /usr/local/lib/python3.7/dist-packages (from labelme) (8.1.0)\n",
            "Requirement already satisfied: PyYAML in /usr/local/lib/python3.7/dist-packages (from labelme) (3.13)\n",
            "Requirement already satisfied: PyQt5!=5.15.3,!=5.15.4 in /usr/local/lib/python3.7/dist-packages (from labelme) (5.15.6)\n",
            "Requirement already satisfied: termcolor in /usr/local/lib/python3.7/dist-packages (from labelme) (1.1.0)\n",
            "Requirement already satisfied: kiwisolver>=1.0.1 in /usr/local/lib/python3.7/dist-packages (from matplotlib<3.3->labelme) (1.3.2)\n",
            "Requirement already satisfied: pyparsing!=2.0.4,!=2.1.2,!=2.1.6,>=2.0.1 in /usr/local/lib/python3.7/dist-packages (from matplotlib<3.3->labelme) (3.0.7)\n",
            "Requirement already satisfied: cycler>=0.10 in /usr/local/lib/python3.7/dist-packages (from matplotlib<3.3->labelme) (0.11.0)\n",
            "Requirement already satisfied: python-dateutil>=2.1 in /usr/local/lib/python3.7/dist-packages (from matplotlib<3.3->labelme) (2.8.2)\n",
            "Requirement already satisfied: PyQt5-sip<13,>=12.8 in /usr/local/lib/python3.7/dist-packages (from PyQt5!=5.15.3,!=5.15.4->labelme) (12.9.1)\n",
            "Requirement already satisfied: PyQt5-Qt5>=5.15.2 in /usr/local/lib/python3.7/dist-packages (from PyQt5!=5.15.3,!=5.15.4->labelme) (5.15.2)\n",
            "Requirement already satisfied: six>=1.5 in /usr/local/lib/python3.7/dist-packages (from python-dateutil>=2.1->matplotlib<3.3->labelme) (1.15.0)\n",
            "Requirement already satisfied: packaging in /usr/local/lib/python3.7/dist-packages (from qtpy!=1.11.2->labelme) (21.3)\n"
          ]
        }
      ]
    },
    {
      "cell_type": "code",
      "metadata": {
        "colab": {
          "base_uri": "https://localhost:8080/"
        },
        "id": "eAA8bv8mkzSo",
        "outputId": "8b8f284a-5798-493e-cd2e-0656896709be"
      },
      "source": [
        "%cd ./labelme/examples/instance_segmentation"
      ],
      "execution_count": null,
      "outputs": [
        {
          "output_type": "stream",
          "name": "stdout",
          "text": [
            "/content/drive/MyDrive/SOLOV2/labelme/examples/instance_segmentation\n"
          ]
        }
      ]
    },
    {
      "cell_type": "code",
      "source": [
        "# 將標註好的資料放到指定路徑\n",
        "# ex: 將 raccoon_dataset 放至 labelme/examples/instance_segmentation 路徑下\n",
        "\n",
        "import gdown\n",
        "\n",
        "url = 'https://drive.google.com/u/3/uc?id=1HSvwZHe7dIPk-BDUGEW-b3poxBThOroW&export=download' \n",
        "output = 'raccoon_dataset.zip'\n",
        "gdown.download(url, output) # 下載raccoon_dataset\n",
        "!unzip raccoon_dataset.zip"
      ],
      "metadata": {
        "colab": {
          "base_uri": "https://localhost:8080/"
        },
        "id": "NqhyFvtgeJE4",
        "outputId": "c95176ac-1b70-444e-f73b-7362c16b84b6"
      },
      "execution_count": null,
      "outputs": [
        {
          "output_type": "stream",
          "name": "stderr",
          "text": [
            "Downloading...\n",
            "From: https://drive.google.com/u/3/uc?id=1HSvwZHe7dIPk-BDUGEW-b3poxBThOroW&export=download\n",
            "To: /content/drive/MyDrive/SOLOV2/labelme/examples/instance_segmentation/raccoon_dataset.zip\n",
            "100%|██████████| 3.94M/3.94M [00:00<00:00, 172MB/s]\n"
          ]
        },
        {
          "output_type": "stream",
          "name": "stdout",
          "text": [
            "Archive:  raccoon_dataset.zip\n",
            " extracting: raccoon_dataset/label.txt  \n",
            "   creating: raccoon_dataset/train_data/\n",
            "  inflating: raccoon_dataset/train_data/1.jpg  \n",
            "  inflating: raccoon_dataset/train_data/1.json  \n",
            "  inflating: raccoon_dataset/train_data/10.jpg  \n",
            "  inflating: raccoon_dataset/train_data/10.json  \n",
            "  inflating: raccoon_dataset/train_data/11.jpg  \n",
            "  inflating: raccoon_dataset/train_data/11.json  \n",
            "  inflating: raccoon_dataset/train_data/12.jpg  \n",
            "  inflating: raccoon_dataset/train_data/12.json  \n",
            "  inflating: raccoon_dataset/train_data/13.jpg  \n",
            "  inflating: raccoon_dataset/train_data/13.json  \n",
            "  inflating: raccoon_dataset/train_data/14.jpg  \n",
            "  inflating: raccoon_dataset/train_data/14.json  \n",
            "  inflating: raccoon_dataset/train_data/15.jpg  \n",
            "  inflating: raccoon_dataset/train_data/15.json  \n",
            "  inflating: raccoon_dataset/train_data/16.jpg  \n",
            "  inflating: raccoon_dataset/train_data/16.json  \n",
            "  inflating: raccoon_dataset/train_data/17.jpg  \n",
            "  inflating: raccoon_dataset/train_data/17.json  \n",
            "  inflating: raccoon_dataset/train_data/18.jpg  \n",
            "  inflating: raccoon_dataset/train_data/18.json  \n",
            "  inflating: raccoon_dataset/train_data/19.jpg  \n",
            "  inflating: raccoon_dataset/train_data/19.json  \n",
            "  inflating: raccoon_dataset/train_data/2.jpg  \n",
            "  inflating: raccoon_dataset/train_data/2.json  \n",
            "  inflating: raccoon_dataset/train_data/20.jpg  \n",
            "  inflating: raccoon_dataset/train_data/20.json  \n",
            "  inflating: raccoon_dataset/train_data/21.jpg  \n",
            "  inflating: raccoon_dataset/train_data/21.json  \n",
            "  inflating: raccoon_dataset/train_data/22.jpg  \n",
            "  inflating: raccoon_dataset/train_data/22.json  \n",
            "  inflating: raccoon_dataset/train_data/23.jpg  \n",
            "  inflating: raccoon_dataset/train_data/23.json  \n",
            "  inflating: raccoon_dataset/train_data/24.jpg  \n",
            "  inflating: raccoon_dataset/train_data/24.json  \n",
            "  inflating: raccoon_dataset/train_data/25.jpg  \n",
            "  inflating: raccoon_dataset/train_data/25.json  \n",
            "  inflating: raccoon_dataset/train_data/26.jpg  \n",
            "  inflating: raccoon_dataset/train_data/26.json  \n",
            "  inflating: raccoon_dataset/train_data/27.jpg  \n",
            "  inflating: raccoon_dataset/train_data/27.json  \n",
            "  inflating: raccoon_dataset/train_data/28.jpg  \n",
            "  inflating: raccoon_dataset/train_data/28.json  \n",
            "  inflating: raccoon_dataset/train_data/29.jpg  \n",
            "  inflating: raccoon_dataset/train_data/29.json  \n",
            "  inflating: raccoon_dataset/train_data/3.jpg  \n",
            "  inflating: raccoon_dataset/train_data/3.json  \n",
            "  inflating: raccoon_dataset/train_data/30.jpg  \n",
            "  inflating: raccoon_dataset/train_data/30.json  \n",
            "  inflating: raccoon_dataset/train_data/31.jpg  \n",
            "  inflating: raccoon_dataset/train_data/31.json  \n",
            "  inflating: raccoon_dataset/train_data/32.jpg  \n",
            "  inflating: raccoon_dataset/train_data/32.json  \n",
            "  inflating: raccoon_dataset/train_data/33.jpg  \n",
            "  inflating: raccoon_dataset/train_data/33.json  \n",
            "  inflating: raccoon_dataset/train_data/34.jpg  \n",
            "  inflating: raccoon_dataset/train_data/34.json  \n",
            "  inflating: raccoon_dataset/train_data/35.jpg  \n",
            "  inflating: raccoon_dataset/train_data/35.json  \n",
            "  inflating: raccoon_dataset/train_data/36.jpg  \n",
            "  inflating: raccoon_dataset/train_data/36.json  \n",
            "  inflating: raccoon_dataset/train_data/37.jpg  \n",
            "  inflating: raccoon_dataset/train_data/37.json  \n",
            "  inflating: raccoon_dataset/train_data/38.jpg  \n",
            "  inflating: raccoon_dataset/train_data/38.json  \n",
            "  inflating: raccoon_dataset/train_data/39.jpg  \n",
            "  inflating: raccoon_dataset/train_data/39.json  \n",
            "  inflating: raccoon_dataset/train_data/4.jpg  \n",
            "  inflating: raccoon_dataset/train_data/4.json  \n",
            "  inflating: raccoon_dataset/train_data/40.jpg  \n",
            "  inflating: raccoon_dataset/train_data/40.json  \n",
            "  inflating: raccoon_dataset/train_data/5.jpg  \n",
            "  inflating: raccoon_dataset/train_data/5.json  \n",
            "  inflating: raccoon_dataset/train_data/6.jpg  \n",
            "  inflating: raccoon_dataset/train_data/6.json  \n",
            "  inflating: raccoon_dataset/train_data/7.jpg  \n",
            "  inflating: raccoon_dataset/train_data/7.json  \n",
            "  inflating: raccoon_dataset/train_data/8.jpg  \n",
            "  inflating: raccoon_dataset/train_data/8.json  \n",
            "  inflating: raccoon_dataset/train_data/9.jpg  \n",
            "  inflating: raccoon_dataset/train_data/9.json  \n",
            "   creating: raccoon_dataset/valid_data/\n",
            "  inflating: raccoon_dataset/valid_data/41.jpg  \n",
            "  inflating: raccoon_dataset/valid_data/41.json  \n",
            "  inflating: raccoon_dataset/valid_data/42.jpg  \n",
            "  inflating: raccoon_dataset/valid_data/42.json  \n",
            "  inflating: raccoon_dataset/valid_data/43.jpg  \n",
            "  inflating: raccoon_dataset/valid_data/43.json  \n",
            "  inflating: raccoon_dataset/valid_data/44.jpg  \n",
            "  inflating: raccoon_dataset/valid_data/44.json  \n",
            "  inflating: raccoon_dataset/valid_data/45.jpg  \n",
            "  inflating: raccoon_dataset/valid_data/45.json  \n",
            "  inflating: raccoon_dataset/valid_data/46.jpg  \n",
            "  inflating: raccoon_dataset/valid_data/46.json  \n",
            "  inflating: raccoon_dataset/valid_data/47.jpg  \n",
            "  inflating: raccoon_dataset/valid_data/47.json  \n",
            "  inflating: raccoon_dataset/valid_data/48.jpg  \n",
            "  inflating: raccoon_dataset/valid_data/48.json  \n",
            "  inflating: raccoon_dataset/valid_data/49.jpg  \n",
            "  inflating: raccoon_dataset/valid_data/49.json  \n",
            "  inflating: raccoon_dataset/valid_data/50.jpg  \n",
            "  inflating: raccoon_dataset/valid_data/50.json  \n"
          ]
        }
      ]
    },
    {
      "cell_type": "code",
      "metadata": {
        "id": "J8HZLJKMnXht"
      },
      "source": [
        "import os\n",
        "os.makedirs('./my_dataset/', exist_ok=True)"
      ],
      "execution_count": null,
      "outputs": []
    },
    {
      "cell_type": "code",
      "metadata": {
        "id": "Ml7JjuDNk7pp",
        "colab": {
          "base_uri": "https://localhost:8080/"
        },
        "outputId": "2e4e6073-714e-4cc2-efae-e925887ae4a2"
      },
      "source": [
        "# 轉換 train data\n",
        "! python labelme2coco.py raccoon_dataset/train_data my_dataset/train --labels raccoon_dataset/label.txt"
      ],
      "execution_count": null,
      "outputs": [
        {
          "output_type": "stream",
          "name": "stdout",
          "text": [
            "Creating dataset: my_dataset/train\n",
            "Generating dataset from: raccoon_dataset/train_data/1.json\n",
            "[\u001b[1m\u001b[33mWARNING\u001b[0m] \u001b[36mlabel_file\u001b[0m:\u001b[36mload\u001b[0m:\u001b[36m102\u001b[0m - \u001b[1m\u001b[33mThis JSON file (raccoon_dataset/train_data/1.json) may be incompatible with current labelme. version in file: 4.5.13, current version: 5.0.0\u001b[0m\n",
            "Generating dataset from: raccoon_dataset/train_data/10.json\n",
            "[\u001b[1m\u001b[33mWARNING\u001b[0m] \u001b[36mlabel_file\u001b[0m:\u001b[36mload\u001b[0m:\u001b[36m102\u001b[0m - \u001b[1m\u001b[33mThis JSON file (raccoon_dataset/train_data/10.json) may be incompatible with current labelme. version in file: 4.5.13, current version: 5.0.0\u001b[0m\n",
            "Generating dataset from: raccoon_dataset/train_data/11.json\n",
            "[\u001b[1m\u001b[33mWARNING\u001b[0m] \u001b[36mlabel_file\u001b[0m:\u001b[36mload\u001b[0m:\u001b[36m102\u001b[0m - \u001b[1m\u001b[33mThis JSON file (raccoon_dataset/train_data/11.json) may be incompatible with current labelme. version in file: 4.5.13, current version: 5.0.0\u001b[0m\n",
            "Generating dataset from: raccoon_dataset/train_data/12.json\n",
            "[\u001b[1m\u001b[33mWARNING\u001b[0m] \u001b[36mlabel_file\u001b[0m:\u001b[36mload\u001b[0m:\u001b[36m102\u001b[0m - \u001b[1m\u001b[33mThis JSON file (raccoon_dataset/train_data/12.json) may be incompatible with current labelme. version in file: 4.5.13, current version: 5.0.0\u001b[0m\n",
            "Generating dataset from: raccoon_dataset/train_data/13.json\n",
            "[\u001b[1m\u001b[33mWARNING\u001b[0m] \u001b[36mlabel_file\u001b[0m:\u001b[36mload\u001b[0m:\u001b[36m102\u001b[0m - \u001b[1m\u001b[33mThis JSON file (raccoon_dataset/train_data/13.json) may be incompatible with current labelme. version in file: 4.5.13, current version: 5.0.0\u001b[0m\n",
            "Generating dataset from: raccoon_dataset/train_data/14.json\n",
            "[\u001b[1m\u001b[33mWARNING\u001b[0m] \u001b[36mlabel_file\u001b[0m:\u001b[36mload\u001b[0m:\u001b[36m102\u001b[0m - \u001b[1m\u001b[33mThis JSON file (raccoon_dataset/train_data/14.json) may be incompatible with current labelme. version in file: 4.5.13, current version: 5.0.0\u001b[0m\n",
            "Generating dataset from: raccoon_dataset/train_data/15.json\n",
            "[\u001b[1m\u001b[33mWARNING\u001b[0m] \u001b[36mlabel_file\u001b[0m:\u001b[36mload\u001b[0m:\u001b[36m102\u001b[0m - \u001b[1m\u001b[33mThis JSON file (raccoon_dataset/train_data/15.json) may be incompatible with current labelme. version in file: 4.5.13, current version: 5.0.0\u001b[0m\n",
            "Generating dataset from: raccoon_dataset/train_data/16.json\n",
            "[\u001b[1m\u001b[33mWARNING\u001b[0m] \u001b[36mlabel_file\u001b[0m:\u001b[36mload\u001b[0m:\u001b[36m102\u001b[0m - \u001b[1m\u001b[33mThis JSON file (raccoon_dataset/train_data/16.json) may be incompatible with current labelme. version in file: 4.5.13, current version: 5.0.0\u001b[0m\n",
            "Generating dataset from: raccoon_dataset/train_data/17.json\n",
            "[\u001b[1m\u001b[33mWARNING\u001b[0m] \u001b[36mlabel_file\u001b[0m:\u001b[36mload\u001b[0m:\u001b[36m102\u001b[0m - \u001b[1m\u001b[33mThis JSON file (raccoon_dataset/train_data/17.json) may be incompatible with current labelme. version in file: 4.5.13, current version: 5.0.0\u001b[0m\n",
            "Generating dataset from: raccoon_dataset/train_data/18.json\n",
            "[\u001b[1m\u001b[33mWARNING\u001b[0m] \u001b[36mlabel_file\u001b[0m:\u001b[36mload\u001b[0m:\u001b[36m102\u001b[0m - \u001b[1m\u001b[33mThis JSON file (raccoon_dataset/train_data/18.json) may be incompatible with current labelme. version in file: 4.5.13, current version: 5.0.0\u001b[0m\n",
            "Generating dataset from: raccoon_dataset/train_data/19.json\n",
            "[\u001b[1m\u001b[33mWARNING\u001b[0m] \u001b[36mlabel_file\u001b[0m:\u001b[36mload\u001b[0m:\u001b[36m102\u001b[0m - \u001b[1m\u001b[33mThis JSON file (raccoon_dataset/train_data/19.json) may be incompatible with current labelme. version in file: 4.5.13, current version: 5.0.0\u001b[0m\n",
            "Generating dataset from: raccoon_dataset/train_data/2.json\n",
            "[\u001b[1m\u001b[33mWARNING\u001b[0m] \u001b[36mlabel_file\u001b[0m:\u001b[36mload\u001b[0m:\u001b[36m102\u001b[0m - \u001b[1m\u001b[33mThis JSON file (raccoon_dataset/train_data/2.json) may be incompatible with current labelme. version in file: 4.5.13, current version: 5.0.0\u001b[0m\n",
            "Generating dataset from: raccoon_dataset/train_data/20.json\n",
            "[\u001b[1m\u001b[33mWARNING\u001b[0m] \u001b[36mlabel_file\u001b[0m:\u001b[36mload\u001b[0m:\u001b[36m102\u001b[0m - \u001b[1m\u001b[33mThis JSON file (raccoon_dataset/train_data/20.json) may be incompatible with current labelme. version in file: 4.5.13, current version: 5.0.0\u001b[0m\n",
            "Generating dataset from: raccoon_dataset/train_data/21.json\n",
            "[\u001b[1m\u001b[33mWARNING\u001b[0m] \u001b[36mlabel_file\u001b[0m:\u001b[36mload\u001b[0m:\u001b[36m102\u001b[0m - \u001b[1m\u001b[33mThis JSON file (raccoon_dataset/train_data/21.json) may be incompatible with current labelme. version in file: 4.5.13, current version: 5.0.0\u001b[0m\n",
            "Generating dataset from: raccoon_dataset/train_data/22.json\n",
            "[\u001b[1m\u001b[33mWARNING\u001b[0m] \u001b[36mlabel_file\u001b[0m:\u001b[36mload\u001b[0m:\u001b[36m102\u001b[0m - \u001b[1m\u001b[33mThis JSON file (raccoon_dataset/train_data/22.json) may be incompatible with current labelme. version in file: 4.5.13, current version: 5.0.0\u001b[0m\n",
            "Generating dataset from: raccoon_dataset/train_data/23.json\n",
            "[\u001b[1m\u001b[33mWARNING\u001b[0m] \u001b[36mlabel_file\u001b[0m:\u001b[36mload\u001b[0m:\u001b[36m102\u001b[0m - \u001b[1m\u001b[33mThis JSON file (raccoon_dataset/train_data/23.json) may be incompatible with current labelme. version in file: 4.5.13, current version: 5.0.0\u001b[0m\n",
            "Generating dataset from: raccoon_dataset/train_data/24.json\n",
            "[\u001b[1m\u001b[33mWARNING\u001b[0m] \u001b[36mlabel_file\u001b[0m:\u001b[36mload\u001b[0m:\u001b[36m102\u001b[0m - \u001b[1m\u001b[33mThis JSON file (raccoon_dataset/train_data/24.json) may be incompatible with current labelme. version in file: 4.5.13, current version: 5.0.0\u001b[0m\n",
            "Generating dataset from: raccoon_dataset/train_data/25.json\n",
            "[\u001b[1m\u001b[33mWARNING\u001b[0m] \u001b[36mlabel_file\u001b[0m:\u001b[36mload\u001b[0m:\u001b[36m102\u001b[0m - \u001b[1m\u001b[33mThis JSON file (raccoon_dataset/train_data/25.json) may be incompatible with current labelme. version in file: 4.5.13, current version: 5.0.0\u001b[0m\n",
            "Generating dataset from: raccoon_dataset/train_data/26.json\n",
            "[\u001b[1m\u001b[33mWARNING\u001b[0m] \u001b[36mlabel_file\u001b[0m:\u001b[36mload\u001b[0m:\u001b[36m102\u001b[0m - \u001b[1m\u001b[33mThis JSON file (raccoon_dataset/train_data/26.json) may be incompatible with current labelme. version in file: 4.5.13, current version: 5.0.0\u001b[0m\n",
            "Generating dataset from: raccoon_dataset/train_data/27.json\n",
            "[\u001b[1m\u001b[33mWARNING\u001b[0m] \u001b[36mlabel_file\u001b[0m:\u001b[36mload\u001b[0m:\u001b[36m102\u001b[0m - \u001b[1m\u001b[33mThis JSON file (raccoon_dataset/train_data/27.json) may be incompatible with current labelme. version in file: 4.5.13, current version: 5.0.0\u001b[0m\n",
            "Generating dataset from: raccoon_dataset/train_data/28.json\n",
            "[\u001b[1m\u001b[33mWARNING\u001b[0m] \u001b[36mlabel_file\u001b[0m:\u001b[36mload\u001b[0m:\u001b[36m102\u001b[0m - \u001b[1m\u001b[33mThis JSON file (raccoon_dataset/train_data/28.json) may be incompatible with current labelme. version in file: 4.5.13, current version: 5.0.0\u001b[0m\n",
            "Generating dataset from: raccoon_dataset/train_data/29.json\n",
            "[\u001b[1m\u001b[33mWARNING\u001b[0m] \u001b[36mlabel_file\u001b[0m:\u001b[36mload\u001b[0m:\u001b[36m102\u001b[0m - \u001b[1m\u001b[33mThis JSON file (raccoon_dataset/train_data/29.json) may be incompatible with current labelme. version in file: 4.5.13, current version: 5.0.0\u001b[0m\n",
            "Generating dataset from: raccoon_dataset/train_data/3.json\n",
            "[\u001b[1m\u001b[33mWARNING\u001b[0m] \u001b[36mlabel_file\u001b[0m:\u001b[36mload\u001b[0m:\u001b[36m102\u001b[0m - \u001b[1m\u001b[33mThis JSON file (raccoon_dataset/train_data/3.json) may be incompatible with current labelme. version in file: 4.5.13, current version: 5.0.0\u001b[0m\n",
            "Generating dataset from: raccoon_dataset/train_data/30.json\n",
            "[\u001b[1m\u001b[33mWARNING\u001b[0m] \u001b[36mlabel_file\u001b[0m:\u001b[36mload\u001b[0m:\u001b[36m102\u001b[0m - \u001b[1m\u001b[33mThis JSON file (raccoon_dataset/train_data/30.json) may be incompatible with current labelme. version in file: 4.5.13, current version: 5.0.0\u001b[0m\n",
            "Generating dataset from: raccoon_dataset/train_data/31.json\n",
            "[\u001b[1m\u001b[33mWARNING\u001b[0m] \u001b[36mlabel_file\u001b[0m:\u001b[36mload\u001b[0m:\u001b[36m102\u001b[0m - \u001b[1m\u001b[33mThis JSON file (raccoon_dataset/train_data/31.json) may be incompatible with current labelme. version in file: 4.5.13, current version: 5.0.0\u001b[0m\n",
            "Generating dataset from: raccoon_dataset/train_data/32.json\n",
            "[\u001b[1m\u001b[33mWARNING\u001b[0m] \u001b[36mlabel_file\u001b[0m:\u001b[36mload\u001b[0m:\u001b[36m102\u001b[0m - \u001b[1m\u001b[33mThis JSON file (raccoon_dataset/train_data/32.json) may be incompatible with current labelme. version in file: 4.5.13, current version: 5.0.0\u001b[0m\n",
            "Generating dataset from: raccoon_dataset/train_data/33.json\n",
            "[\u001b[1m\u001b[33mWARNING\u001b[0m] \u001b[36mlabel_file\u001b[0m:\u001b[36mload\u001b[0m:\u001b[36m102\u001b[0m - \u001b[1m\u001b[33mThis JSON file (raccoon_dataset/train_data/33.json) may be incompatible with current labelme. version in file: 4.5.13, current version: 5.0.0\u001b[0m\n",
            "Generating dataset from: raccoon_dataset/train_data/34.json\n",
            "[\u001b[1m\u001b[33mWARNING\u001b[0m] \u001b[36mlabel_file\u001b[0m:\u001b[36mload\u001b[0m:\u001b[36m102\u001b[0m - \u001b[1m\u001b[33mThis JSON file (raccoon_dataset/train_data/34.json) may be incompatible with current labelme. version in file: 4.5.13, current version: 5.0.0\u001b[0m\n",
            "Generating dataset from: raccoon_dataset/train_data/35.json\n",
            "[\u001b[1m\u001b[33mWARNING\u001b[0m] \u001b[36mlabel_file\u001b[0m:\u001b[36mload\u001b[0m:\u001b[36m102\u001b[0m - \u001b[1m\u001b[33mThis JSON file (raccoon_dataset/train_data/35.json) may be incompatible with current labelme. version in file: 4.5.13, current version: 5.0.0\u001b[0m\n",
            "Generating dataset from: raccoon_dataset/train_data/36.json\n",
            "[\u001b[1m\u001b[33mWARNING\u001b[0m] \u001b[36mlabel_file\u001b[0m:\u001b[36mload\u001b[0m:\u001b[36m102\u001b[0m - \u001b[1m\u001b[33mThis JSON file (raccoon_dataset/train_data/36.json) may be incompatible with current labelme. version in file: 4.5.13, current version: 5.0.0\u001b[0m\n",
            "Generating dataset from: raccoon_dataset/train_data/37.json\n",
            "[\u001b[1m\u001b[33mWARNING\u001b[0m] \u001b[36mlabel_file\u001b[0m:\u001b[36mload\u001b[0m:\u001b[36m102\u001b[0m - \u001b[1m\u001b[33mThis JSON file (raccoon_dataset/train_data/37.json) may be incompatible with current labelme. version in file: 4.5.13, current version: 5.0.0\u001b[0m\n",
            "Generating dataset from: raccoon_dataset/train_data/38.json\n",
            "[\u001b[1m\u001b[33mWARNING\u001b[0m] \u001b[36mlabel_file\u001b[0m:\u001b[36mload\u001b[0m:\u001b[36m102\u001b[0m - \u001b[1m\u001b[33mThis JSON file (raccoon_dataset/train_data/38.json) may be incompatible with current labelme. version in file: 4.5.13, current version: 5.0.0\u001b[0m\n",
            "Generating dataset from: raccoon_dataset/train_data/39.json\n",
            "[\u001b[1m\u001b[33mWARNING\u001b[0m] \u001b[36mlabel_file\u001b[0m:\u001b[36mload\u001b[0m:\u001b[36m102\u001b[0m - \u001b[1m\u001b[33mThis JSON file (raccoon_dataset/train_data/39.json) may be incompatible with current labelme. version in file: 4.5.13, current version: 5.0.0\u001b[0m\n",
            "Generating dataset from: raccoon_dataset/train_data/4.json\n",
            "[\u001b[1m\u001b[33mWARNING\u001b[0m] \u001b[36mlabel_file\u001b[0m:\u001b[36mload\u001b[0m:\u001b[36m102\u001b[0m - \u001b[1m\u001b[33mThis JSON file (raccoon_dataset/train_data/4.json) may be incompatible with current labelme. version in file: 4.5.13, current version: 5.0.0\u001b[0m\n",
            "Generating dataset from: raccoon_dataset/train_data/40.json\n",
            "[\u001b[1m\u001b[33mWARNING\u001b[0m] \u001b[36mlabel_file\u001b[0m:\u001b[36mload\u001b[0m:\u001b[36m102\u001b[0m - \u001b[1m\u001b[33mThis JSON file (raccoon_dataset/train_data/40.json) may be incompatible with current labelme. version in file: 4.5.13, current version: 5.0.0\u001b[0m\n",
            "Generating dataset from: raccoon_dataset/train_data/5.json\n",
            "[\u001b[1m\u001b[33mWARNING\u001b[0m] \u001b[36mlabel_file\u001b[0m:\u001b[36mload\u001b[0m:\u001b[36m102\u001b[0m - \u001b[1m\u001b[33mThis JSON file (raccoon_dataset/train_data/5.json) may be incompatible with current labelme. version in file: 4.5.13, current version: 5.0.0\u001b[0m\n",
            "Generating dataset from: raccoon_dataset/train_data/6.json\n",
            "[\u001b[1m\u001b[33mWARNING\u001b[0m] \u001b[36mlabel_file\u001b[0m:\u001b[36mload\u001b[0m:\u001b[36m102\u001b[0m - \u001b[1m\u001b[33mThis JSON file (raccoon_dataset/train_data/6.json) may be incompatible with current labelme. version in file: 4.5.13, current version: 5.0.0\u001b[0m\n",
            "Generating dataset from: raccoon_dataset/train_data/7.json\n",
            "[\u001b[1m\u001b[33mWARNING\u001b[0m] \u001b[36mlabel_file\u001b[0m:\u001b[36mload\u001b[0m:\u001b[36m102\u001b[0m - \u001b[1m\u001b[33mThis JSON file (raccoon_dataset/train_data/7.json) may be incompatible with current labelme. version in file: 4.5.13, current version: 5.0.0\u001b[0m\n",
            "Generating dataset from: raccoon_dataset/train_data/8.json\n",
            "[\u001b[1m\u001b[33mWARNING\u001b[0m] \u001b[36mlabel_file\u001b[0m:\u001b[36mload\u001b[0m:\u001b[36m102\u001b[0m - \u001b[1m\u001b[33mThis JSON file (raccoon_dataset/train_data/8.json) may be incompatible with current labelme. version in file: 4.5.13, current version: 5.0.0\u001b[0m\n",
            "Generating dataset from: raccoon_dataset/train_data/9.json\n",
            "[\u001b[1m\u001b[33mWARNING\u001b[0m] \u001b[36mlabel_file\u001b[0m:\u001b[36mload\u001b[0m:\u001b[36m102\u001b[0m - \u001b[1m\u001b[33mThis JSON file (raccoon_dataset/train_data/9.json) may be incompatible with current labelme. version in file: 4.5.13, current version: 5.0.0\u001b[0m\n"
          ]
        }
      ]
    },
    {
      "cell_type": "code",
      "metadata": {
        "id": "xO_gEpWHmGLC",
        "colab": {
          "base_uri": "https://localhost:8080/"
        },
        "outputId": "d100eaf6-6136-4d08-d304-5728d35f454c"
      },
      "source": [
        "# 轉換 valid data\n",
        "! python labelme2coco.py raccoon_dataset/valid_data my_dataset/valid --labels raccoon_dataset/label.txt"
      ],
      "execution_count": null,
      "outputs": [
        {
          "output_type": "stream",
          "name": "stdout",
          "text": [
            "Creating dataset: my_dataset/valid\n",
            "Generating dataset from: raccoon_dataset/valid_data/41.json\n",
            "[\u001b[1m\u001b[33mWARNING\u001b[0m] \u001b[36mlabel_file\u001b[0m:\u001b[36mload\u001b[0m:\u001b[36m102\u001b[0m - \u001b[1m\u001b[33mThis JSON file (raccoon_dataset/valid_data/41.json) may be incompatible with current labelme. version in file: 4.5.13, current version: 5.0.0\u001b[0m\n",
            "Generating dataset from: raccoon_dataset/valid_data/42.json\n",
            "[\u001b[1m\u001b[33mWARNING\u001b[0m] \u001b[36mlabel_file\u001b[0m:\u001b[36mload\u001b[0m:\u001b[36m102\u001b[0m - \u001b[1m\u001b[33mThis JSON file (raccoon_dataset/valid_data/42.json) may be incompatible with current labelme. version in file: 4.5.13, current version: 5.0.0\u001b[0m\n",
            "Generating dataset from: raccoon_dataset/valid_data/43.json\n",
            "[\u001b[1m\u001b[33mWARNING\u001b[0m] \u001b[36mlabel_file\u001b[0m:\u001b[36mload\u001b[0m:\u001b[36m102\u001b[0m - \u001b[1m\u001b[33mThis JSON file (raccoon_dataset/valid_data/43.json) may be incompatible with current labelme. version in file: 4.5.13, current version: 5.0.0\u001b[0m\n",
            "Generating dataset from: raccoon_dataset/valid_data/44.json\n",
            "[\u001b[1m\u001b[33mWARNING\u001b[0m] \u001b[36mlabel_file\u001b[0m:\u001b[36mload\u001b[0m:\u001b[36m102\u001b[0m - \u001b[1m\u001b[33mThis JSON file (raccoon_dataset/valid_data/44.json) may be incompatible with current labelme. version in file: 4.5.13, current version: 5.0.0\u001b[0m\n",
            "Generating dataset from: raccoon_dataset/valid_data/45.json\n",
            "[\u001b[1m\u001b[33mWARNING\u001b[0m] \u001b[36mlabel_file\u001b[0m:\u001b[36mload\u001b[0m:\u001b[36m102\u001b[0m - \u001b[1m\u001b[33mThis JSON file (raccoon_dataset/valid_data/45.json) may be incompatible with current labelme. version in file: 4.5.13, current version: 5.0.0\u001b[0m\n",
            "Generating dataset from: raccoon_dataset/valid_data/46.json\n",
            "[\u001b[1m\u001b[33mWARNING\u001b[0m] \u001b[36mlabel_file\u001b[0m:\u001b[36mload\u001b[0m:\u001b[36m102\u001b[0m - \u001b[1m\u001b[33mThis JSON file (raccoon_dataset/valid_data/46.json) may be incompatible with current labelme. version in file: 4.5.13, current version: 5.0.0\u001b[0m\n",
            "Generating dataset from: raccoon_dataset/valid_data/47.json\n",
            "[\u001b[1m\u001b[33mWARNING\u001b[0m] \u001b[36mlabel_file\u001b[0m:\u001b[36mload\u001b[0m:\u001b[36m102\u001b[0m - \u001b[1m\u001b[33mThis JSON file (raccoon_dataset/valid_data/47.json) may be incompatible with current labelme. version in file: 4.5.13, current version: 5.0.0\u001b[0m\n",
            "Generating dataset from: raccoon_dataset/valid_data/48.json\n",
            "[\u001b[1m\u001b[33mWARNING\u001b[0m] \u001b[36mlabel_file\u001b[0m:\u001b[36mload\u001b[0m:\u001b[36m102\u001b[0m - \u001b[1m\u001b[33mThis JSON file (raccoon_dataset/valid_data/48.json) may be incompatible with current labelme. version in file: 4.5.13, current version: 5.0.0\u001b[0m\n",
            "Generating dataset from: raccoon_dataset/valid_data/49.json\n",
            "[\u001b[1m\u001b[33mWARNING\u001b[0m] \u001b[36mlabel_file\u001b[0m:\u001b[36mload\u001b[0m:\u001b[36m102\u001b[0m - \u001b[1m\u001b[33mThis JSON file (raccoon_dataset/valid_data/49.json) may be incompatible with current labelme. version in file: 4.5.13, current version: 5.0.0\u001b[0m\n",
            "Generating dataset from: raccoon_dataset/valid_data/50.json\n",
            "[\u001b[1m\u001b[33mWARNING\u001b[0m] \u001b[36mlabel_file\u001b[0m:\u001b[36mload\u001b[0m:\u001b[36m102\u001b[0m - \u001b[1m\u001b[33mThis JSON file (raccoon_dataset/valid_data/50.json) may be incompatible with current labelme. version in file: 4.5.13, current version: 5.0.0\u001b[0m\n"
          ]
        }
      ]
    },
    {
      "cell_type": "code",
      "source": [
        "!zip -r /content/drive/MyDrive/SOLOV2/data/coco_raccoon_dataset ./my_dataset"
      ],
      "metadata": {
        "colab": {
          "base_uri": "https://localhost:8080/"
        },
        "id": "MP4j_LssftCD",
        "outputId": "6d652046-4429-4dab-fb41-e3fae52429d8"
      },
      "execution_count": null,
      "outputs": [
        {
          "output_type": "stream",
          "name": "stdout",
          "text": [
            "  adding: my_dataset/ (stored 0%)\n",
            "  adding: my_dataset/train/ (stored 0%)\n",
            "  adding: my_dataset/train/JPEGImages/ (stored 0%)\n",
            "  adding: my_dataset/train/JPEGImages/1.jpg (deflated 0%)\n",
            "  adding: my_dataset/train/JPEGImages/10.jpg (deflated 3%)\n",
            "  adding: my_dataset/train/JPEGImages/11.jpg (deflated 6%)\n",
            "  adding: my_dataset/train/JPEGImages/12.jpg (deflated 2%)\n",
            "  adding: my_dataset/train/JPEGImages/13.jpg (deflated 5%)\n",
            "  adding: my_dataset/train/JPEGImages/14.jpg (deflated 0%)\n",
            "  adding: my_dataset/train/JPEGImages/15.jpg (deflated 3%)\n",
            "  adding: my_dataset/train/JPEGImages/16.jpg (deflated 3%)\n",
            "  adding: my_dataset/train/JPEGImages/17.jpg (deflated 3%)\n",
            "  adding: my_dataset/train/JPEGImages/18.jpg (deflated 0%)\n",
            "  adding: my_dataset/train/JPEGImages/19.jpg (deflated 2%)\n",
            "  adding: my_dataset/train/JPEGImages/2.jpg (deflated 0%)\n",
            "  adding: my_dataset/train/JPEGImages/20.jpg (deflated 1%)\n",
            "  adding: my_dataset/train/JPEGImages/21.jpg (deflated 0%)\n",
            "  adding: my_dataset/train/JPEGImages/22.jpg (deflated 1%)\n",
            "  adding: my_dataset/train/JPEGImages/23.jpg (deflated 1%)\n",
            "  adding: my_dataset/train/JPEGImages/24.jpg (deflated 2%)\n",
            "  adding: my_dataset/train/JPEGImages/25.jpg (deflated 2%)\n",
            "  adding: my_dataset/train/JPEGImages/26.jpg (deflated 3%)\n",
            "  adding: my_dataset/train/JPEGImages/27.jpg (deflated 2%)\n",
            "  adding: my_dataset/train/JPEGImages/28.jpg (deflated 3%)\n",
            "  adding: my_dataset/train/JPEGImages/29.jpg (deflated 2%)\n",
            "  adding: my_dataset/train/JPEGImages/3.jpg (deflated 1%)\n",
            "  adding: my_dataset/train/JPEGImages/30.jpg (deflated 2%)\n",
            "  adding: my_dataset/train/JPEGImages/31.jpg (deflated 0%)\n",
            "  adding: my_dataset/train/JPEGImages/32.jpg (deflated 2%)\n",
            "  adding: my_dataset/train/JPEGImages/33.jpg (deflated 0%)\n",
            "  adding: my_dataset/train/JPEGImages/34.jpg (deflated 3%)\n",
            "  adding: my_dataset/train/JPEGImages/35.jpg (deflated 0%)\n",
            "  adding: my_dataset/train/JPEGImages/36.jpg (deflated 1%)\n",
            "  adding: my_dataset/train/JPEGImages/37.jpg (deflated 1%)\n",
            "  adding: my_dataset/train/JPEGImages/38.jpg (deflated 2%)\n",
            "  adding: my_dataset/train/JPEGImages/39.jpg (deflated 3%)\n",
            "  adding: my_dataset/train/JPEGImages/4.jpg (deflated 0%)\n",
            "  adding: my_dataset/train/JPEGImages/40.jpg (deflated 0%)\n",
            "  adding: my_dataset/train/JPEGImages/5.jpg (deflated 0%)\n",
            "  adding: my_dataset/train/JPEGImages/6.jpg (deflated 0%)\n",
            "  adding: my_dataset/train/JPEGImages/7.jpg (deflated 1%)\n",
            "  adding: my_dataset/train/JPEGImages/8.jpg (deflated 6%)\n",
            "  adding: my_dataset/train/JPEGImages/9.jpg (deflated 1%)\n",
            "  adding: my_dataset/train/Visualization/ (stored 0%)\n",
            "  adding: my_dataset/train/Visualization/1.jpg (deflated 0%)\n",
            "  adding: my_dataset/train/Visualization/10.jpg (deflated 3%)\n",
            "  adding: my_dataset/train/Visualization/11.jpg (deflated 12%)\n",
            "  adding: my_dataset/train/Visualization/12.jpg (deflated 1%)\n",
            "  adding: my_dataset/train/Visualization/13.jpg (deflated 3%)\n",
            "  adding: my_dataset/train/Visualization/14.jpg (deflated 0%)\n",
            "  adding: my_dataset/train/Visualization/15.jpg (deflated 2%)\n",
            "  adding: my_dataset/train/Visualization/16.jpg (deflated 2%)\n",
            "  adding: my_dataset/train/Visualization/17.jpg (deflated 2%)\n",
            "  adding: my_dataset/train/Visualization/18.jpg (deflated 0%)\n",
            "  adding: my_dataset/train/Visualization/19.jpg (deflated 1%)\n",
            "  adding: my_dataset/train/Visualization/2.jpg (deflated 0%)\n",
            "  adding: my_dataset/train/Visualization/20.jpg (deflated 1%)\n",
            "  adding: my_dataset/train/Visualization/21.jpg (deflated 1%)\n",
            "  adding: my_dataset/train/Visualization/22.jpg (deflated 1%)\n",
            "  adding: my_dataset/train/Visualization/23.jpg (deflated 1%)\n",
            "  adding: my_dataset/train/Visualization/24.jpg (deflated 1%)\n",
            "  adding: my_dataset/train/Visualization/25.jpg (deflated 2%)\n",
            "  adding: my_dataset/train/Visualization/26.jpg (deflated 2%)\n",
            "  adding: my_dataset/train/Visualization/27.jpg (deflated 2%)\n",
            "  adding: my_dataset/train/Visualization/28.jpg (deflated 2%)\n",
            "  adding: my_dataset/train/Visualization/29.jpg (deflated 1%)\n",
            "  adding: my_dataset/train/Visualization/3.jpg (deflated 1%)\n",
            "  adding: my_dataset/train/Visualization/30.jpg (deflated 1%)\n",
            "  adding: my_dataset/train/Visualization/31.jpg (deflated 1%)\n",
            "  adding: my_dataset/train/Visualization/32.jpg (deflated 1%)\n",
            "  adding: my_dataset/train/Visualization/33.jpg (deflated 1%)\n",
            "  adding: my_dataset/train/Visualization/34.jpg (deflated 2%)\n",
            "  adding: my_dataset/train/Visualization/35.jpg (deflated 0%)\n",
            "  adding: my_dataset/train/Visualization/36.jpg (deflated 1%)\n",
            "  adding: my_dataset/train/Visualization/37.jpg (deflated 0%)\n",
            "  adding: my_dataset/train/Visualization/38.jpg (deflated 1%)\n",
            "  adding: my_dataset/train/Visualization/39.jpg (deflated 3%)\n",
            "  adding: my_dataset/train/Visualization/4.jpg (deflated 1%)\n",
            "  adding: my_dataset/train/Visualization/40.jpg (deflated 0%)\n",
            "  adding: my_dataset/train/Visualization/5.jpg (deflated 0%)\n",
            "  adding: my_dataset/train/Visualization/6.jpg (deflated 3%)\n",
            "  adding: my_dataset/train/Visualization/7.jpg (deflated 1%)\n",
            "  adding: my_dataset/train/Visualization/8.jpg (deflated 3%)\n",
            "  adding: my_dataset/train/Visualization/9.jpg (deflated 2%)\n",
            "  adding: my_dataset/train/annotations.json (deflated 73%)\n",
            "  adding: my_dataset/valid/ (stored 0%)\n",
            "  adding: my_dataset/valid/JPEGImages/ (stored 0%)\n",
            "  adding: my_dataset/valid/JPEGImages/41.jpg (deflated 0%)\n",
            "  adding: my_dataset/valid/JPEGImages/42.jpg (deflated 0%)\n",
            "  adding: my_dataset/valid/JPEGImages/43.jpg (deflated 0%)\n",
            "  adding: my_dataset/valid/JPEGImages/44.jpg (deflated 1%)\n",
            "  adding: my_dataset/valid/JPEGImages/45.jpg (deflated 0%)\n",
            "  adding: my_dataset/valid/JPEGImages/46.jpg (deflated 3%)\n",
            "  adding: my_dataset/valid/JPEGImages/47.jpg (deflated 0%)\n",
            "  adding: my_dataset/valid/JPEGImages/48.jpg (deflated 0%)\n",
            "  adding: my_dataset/valid/JPEGImages/49.jpg (deflated 4%)\n",
            "  adding: my_dataset/valid/JPEGImages/50.jpg (deflated 3%)\n",
            "  adding: my_dataset/valid/Visualization/ (stored 0%)\n",
            "  adding: my_dataset/valid/Visualization/41.jpg (deflated 0%)\n",
            "  adding: my_dataset/valid/Visualization/42.jpg (deflated 1%)\n",
            "  adding: my_dataset/valid/Visualization/43.jpg (deflated 1%)\n",
            "  adding: my_dataset/valid/Visualization/44.jpg (deflated 1%)\n",
            "  adding: my_dataset/valid/Visualization/45.jpg (deflated 0%)\n",
            "  adding: my_dataset/valid/Visualization/46.jpg (deflated 2%)\n",
            "  adding: my_dataset/valid/Visualization/47.jpg (deflated 0%)\n",
            "  adding: my_dataset/valid/Visualization/48.jpg (deflated 0%)\n",
            "  adding: my_dataset/valid/Visualization/49.jpg (deflated 3%)\n",
            "  adding: my_dataset/valid/Visualization/50.jpg (deflated 2%)\n",
            "  adding: my_dataset/valid/annotations.json (deflated 70%)\n"
          ]
        }
      ]
    },
    {
      "cell_type": "code",
      "source": [
        "# example output dataset \n",
        "# https://drive.google.com/u/3/uc?id=1ojhX7aoeRyjN1CRisIYjJ01gA17pJYl0&export=download"
      ],
      "metadata": {
        "id": "q0pRSgbif7H0"
      },
      "execution_count": null,
      "outputs": []
    },
    {
      "cell_type": "markdown",
      "source": [
        "#### 完成coco格式的dataset的建立後，資料集會被以zip壓縮並放置在google雲端硬碟中`SOLOV2/data/`的資料夾下\n",
        "你可以透過下方連結學習如何使用`gdown`套件，他可以從google雲端硬碟下載檔案。\n",
        "- https://clay-atlas.com/blog/2020/03/13/python-chinese-note-package-gdown-download-google-drive/"
      ],
      "metadata": {
        "id": "bZ8gT1YSZnFx"
      }
    }
  ]
}