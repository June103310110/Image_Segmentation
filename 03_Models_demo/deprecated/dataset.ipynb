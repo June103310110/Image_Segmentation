{
 "cells": [
  {
   "cell_type": "code",
   "execution_count": 27,
   "id": "1c3bb000",
   "metadata": {},
   "outputs": [],
   "source": [
    "BATCH_SIZE = 16\n",
    "NUM_LABELS = 1\n",
    "WIDTH = 128\n",
    "HEIGHT = 128"
   ]
  },
  {
   "cell_type": "code",
   "execution_count": 28,
   "id": "f63e5f5c",
   "metadata": {},
   "outputs": [],
   "source": [
    "import os\n",
    "import cv2\n",
    "import numpy as np\n",
    "import torch # 1.9\n",
    "import torch.nn as nn\n",
    "from torch.utils.data import Dataset\n",
    "import matplotlib.pyplot as plt\n",
    "from sklearn.model_selection import train_test_split\n",
    "import albumentations as A"
   ]
  },
  {
   "cell_type": "code",
   "execution_count": 29,
   "id": "e311f171",
   "metadata": {},
   "outputs": [],
   "source": [
    "# os.system('python demo_set.py')"
   ]
  },
  {
   "cell_type": "code",
   "execution_count": 30,
   "id": "039eb335",
   "metadata": {},
   "outputs": [
    {
     "name": "stdout",
     "output_type": "stream",
     "text": [
      "23\n"
     ]
    }
   ],
   "source": [
    "item = 'capsule'\n",
    "path = os.getcwd()\n",
    "img_dir = f'{path}/data/capsule/test/scratch/'\n",
    "print(len(os.listdir(img_dir)))\n",
    "anno_dir = f'{path}/data/capsule/ground_truth/scratch/'\n",
    "\n",
    "defective_number = [i.split('.')[0] for i in os.listdir(img_dir)]"
   ]
  },
  {
   "cell_type": "code",
   "execution_count": 31,
   "id": "54d44219",
   "metadata": {},
   "outputs": [],
   "source": [
    "def getAllDataPath(img_dir, anno_dir, test_split_size=None):\n",
    "    images = []\n",
    "    labels = []\n",
    "    for root, dirs, files in os.walk(os.path.abspath(img_dir)):\n",
    "        for file in sorted(files):\n",
    "            assert file.__contains__('.png'), 'not png'\n",
    "            images.append(os.path.join(root, file))\n",
    "    for root, dirs, files in os.walk(os.path.abspath(anno_dir)):\n",
    "        for file in sorted(files):\n",
    "            assert file.__contains__('.png'), 'not png'\n",
    "            labels.append(os.path.join(root, file))\n",
    "    \n",
    "    data_list = list(zip(images, labels))\n",
    "    if test_split_size:\n",
    "        assert type(test_split_size)==float, 'set float to split test set size'\n",
    "        train, test = train_test_split(data_list,\n",
    "                         test_size = test_split_size)\n",
    "        return {'train':train, 'test':test}\n"
   ]
  },
  {
   "cell_type": "code",
   "execution_count": 47,
   "id": "6ce645e2",
   "metadata": {},
   "outputs": [],
   "source": [
    "#  https://pytorch.org/tutorials/beginner/basics/data_tutorial.html\n",
    "\n",
    "class CustomImageDataset(Dataset):\n",
    "    def __init__(self, imgs_anno_path_list, transform=None):\n",
    "        self.imgs_anno_path_list = imgs_anno_path_list\n",
    "        assert isinstance(self.imgs_anno_path_list, list), 'Need Input a list'\n",
    "        self.transform = transform\n",
    "        \n",
    "    def __len__(self):\n",
    "        return len(self.imgs_anno_path_list)\n",
    "\n",
    "    def __getitem__(self, idx):\n",
    "        data = self.imgs_anno_path_list[idx]\n",
    "        img_path = data[0]\n",
    "        anno_path = data[1]\n",
    "        \n",
    "        # image\n",
    "        image = cv2.imread(img_path)\n",
    "        image = cv2.cvtColor(image, cv2.COLOR_BGR2RGB) # (1000, 1000, 3)\n",
    "#       \n",
    "        # mask\n",
    "        mask = cv2.imread(anno_path,  cv2.IMREAD_GRAYSCALE) # (1000, 1000) \n",
    "        \n",
    "        if self.transform:\n",
    "            transformed = self.transform(image=image, mask=mask)\n",
    "            image = transformed['image']\n",
    "            mask = transformed['mask']\n",
    "        \n",
    "        image = torch.Tensor(image)\n",
    "        image = image.permute(2,0,1)\n",
    "        \n",
    "        mask = torch.Tensor(mask) \n",
    "        mask = mask.unsqueeze(0)\n",
    "        mask = mask.float()/255.\n",
    "\n",
    "        return image, mask\n",
    "    "
   ]
  },
  {
   "cell_type": "code",
   "execution_count": 55,
   "id": "efaad165",
   "metadata": {},
   "outputs": [],
   "source": [
    "# https://albumentations.ai/docs/getting_started/mask_augmentation/\n",
    "if '__main__' == __name__:\n",
    "    transform = A.Compose([\n",
    "        A.CenterCrop(300, 900, p=0.5),\n",
    "        A.HorizontalFlip(p=0.5),\n",
    "        A.RandomBrightnessContrast(brightness_limit=[-0.05, 0.05], p=0.2),\n",
    "        A.Rotate((-30, 30), interpolation=0),  \n",
    "\n",
    "        A.ToFloat(always_apply=True),\n",
    "        A.Resize(WIDTH, HEIGHT),\n",
    "    ])\n",
    "\n",
    "    target_transform = A.Compose([\n",
    "        A.ToFloat(always_apply=True),\n",
    "        A.Resize(WIDTH, HEIGHT),\n",
    "    ])"
   ]
  },
  {
   "cell_type": "code",
   "execution_count": 56,
   "id": "c4eeab09",
   "metadata": {},
   "outputs": [],
   "source": [
    "if '__main__' == __name__:\n",
    "    data = getAllDataPath(img_dir, anno_dir, test_split_size=0.2)\n",
    "    data.keys()"
   ]
  },
  {
   "cell_type": "code",
   "execution_count": 57,
   "id": "5504ff8c",
   "metadata": {},
   "outputs": [],
   "source": [
    "if '__main__' == __name__:\n",
    "    # 在這邊會強制對所有不滿BATCH_SIZE的訓練資料做數量上的匹配(單純把路徑複製貼上直到滿足16筆資料)，接著透過CustomImageDataset的transform對16筆資料做資料擴增\n",
    "    if len(data['train']) < 16: \n",
    "        lis = data['train']\n",
    "        lis = [lis[i%len(lis)] for i in range(BATCH_SIZE)]\n",
    "        data['train'] = lis\n",
    "\n",
    "    dataset_train = CustomImageDataset(data['train'], transform=transform)\n",
    "    dataloader_train = torch.utils.data.DataLoader(dataset_train, batch_size=BATCH_SIZE, drop_last=True,\n",
    "                                                   shuffle=True, pin_memory=True,\n",
    "                                                  )\n",
    "\n",
    "    dataset_test = CustomImageDataset(data['test'], transform=target_transform) # **如果要正式使用要記得把這裡換成X_test\n",
    "    dataloader_test = torch.utils.data.DataLoader(dataset_test, batch_size=BATCH_SIZE, drop_last=False,\n",
    "                                                  shuffle=False, pin_memory=True)\n"
   ]
  },
  {
   "cell_type": "code",
   "execution_count": 58,
   "id": "6d3d58ed",
   "metadata": {},
   "outputs": [
    {
     "name": "stderr",
     "output_type": "stream",
     "text": [
      "[NbConvertApp] Converting notebook dataset.ipynb to python\n",
      "[NbConvertApp] Writing 4235 bytes to dataset.py\n"
     ]
    }
   ],
   "source": [
    "import os\n",
    "if '__main__' == __name__:\n",
    "    try:\n",
    "        if get_ipython().__class__.__name__=='ZMQInteractiveShell':\n",
    "            os.system('jupyter nbconvert dataset.ipynb --to python')\n",
    "    except NameError:\n",
    "        pass"
   ]
  },
  {
   "cell_type": "code",
   "execution_count": null,
   "id": "fd55c3c3",
   "metadata": {},
   "outputs": [],
   "source": []
  }
 ],
 "metadata": {
  "kernelspec": {
   "display_name": "Python 3 (ipykernel)",
   "language": "python",
   "name": "python3"
  },
  "language_info": {
   "codemirror_mode": {
    "name": "ipython",
    "version": 3
   },
   "file_extension": ".py",
   "mimetype": "text/x-python",
   "name": "python",
   "nbconvert_exporter": "python",
   "pygments_lexer": "ipython3",
   "version": "3.7.10"
  }
 },
 "nbformat": 4,
 "nbformat_minor": 5
}
