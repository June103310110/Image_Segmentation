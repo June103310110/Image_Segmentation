{
 "cells": [
  {
   "cell_type": "markdown",
   "id": "4efcabfd",
   "metadata": {
    "colab_type": "text",
    "id": "view-in-github"
   },
   "source": [
    "<a href=\"https://colab.research.google.com/github/June103310110/Image_Segmentation/blob/main/PART2/create_train_ResUnet.ipynb\" target=\"_parent\"><img src=\"https://colab.research.google.com/assets/colab-badge.svg\" alt=\"Open In Colab\"/></a>"
   ]
  },
  {
   "attachments": {
    "01fbfc20-6a5e-4c43-ad71-851679a622fb.png": {
     "image/png": "[encoded data removed]"
    }
   },
   "cell_type": "markdown",
   "id": "6013972c",
   "metadata": {
    "id": "58c809ac"
   },
   "source": [
    "# Residual Unet\n",
    "source: https://arxiv.org/abs/1711.10684\n",
    "\n",
    "- 把convolution block從兩個卷積換成包含Batch Normalization和Skip Connections的Residual convolution Block。\n",
    "- 下採樣的機制取消pooling，而是在Residual convolution Block的第一個卷積層採用stride=2的參數，實現1/2的下採樣。\n",
    "- 取消Unet的Crop機制。(卷積的padding設定為same)\n",
    "\n",
    "![image.png](attachment:01fbfc20-6a5e-4c43-ad71-851679a622fb.png)\n"
   ]
  },
  {
   "cell_type": "code",
   "execution_count": 1,
   "id": "1be3aba9",
   "metadata": {
    "id": "f60bd557"
   },
   "outputs": [],
   "source": [
    "import torch # 1.9\n",
    "import torchvision\n",
    "import torch.nn as nn\n",
    "from torch.nn import functional as F\n",
    "import numpy as np\n",
    "import cv2\n",
    "import os"
   ]
  },
  {
   "cell_type": "code",
   "execution_count": 2,
   "id": "7e179741",
   "metadata": {
    "id": "732de5f6"
   },
   "outputs": [],
   "source": [
    "import warnings\n",
    "warnings.filterwarnings(\"ignore\")"
   ]
  },
  {
   "cell_type": "code",
   "execution_count": 3,
   "id": "16846fbc",
   "metadata": {
    "id": "5eb648dc"
   },
   "outputs": [],
   "source": [
    "device = torch.device('cuda' if torch.cuda.is_available() else 'cpu')\n",
    "device = 'cpu' # for debug建議使用cpu作為torch的運行背景\n",
    "# device"
   ]
  },
  {
   "cell_type": "code",
   "execution_count": 12,
   "id": "39b1c9fd",
   "metadata": {
    "id": "3b4a1178"
   },
   "outputs": [],
   "source": [
    "# # 原始的simple Unet\n",
    "# class SimpleConvBlock(nn.Module):\n",
    "#     def __init__(self, in_ch, out_ch, stride=1, padding=1):\n",
    "#         super().__init__()\n",
    "\n",
    "        \n",
    "#         self.conv1 = nn.Conv2d(in_ch, out_ch, kernel_size, padding=pad)\n",
    "#         self.relu  = nn.ReLU()\n",
    "#         self.conv2 = nn.Conv2d(out_ch, out_ch, kernel_size, padding=pad)\n",
    "\n",
    "#     def forward(self, x):\n",
    "#         return self.relu(self.conv2(self.relu(self.conv1(x))))"
   ]
  },
  {
   "cell_type": "markdown",
   "id": "920bdfbe",
   "metadata": {
    "id": "ktp8Sb46sjrV"
   },
   "source": [
    "#### 修改版本\n",
    "- 參考1: Residual Unet [source](https://arxiv.org/abs/1711.10684)\n",
    "- 建議，如果Batchsize不大，可以使用Instance Normalization。讓輸出的各個feature-map更robust。"
   ]
  },
  {
   "cell_type": "code",
   "execution_count": 13,
   "id": "3d11112b",
   "metadata": {
    "id": "xngMDrmxejMC"
   },
   "outputs": [],
   "source": [
    "# 參考1: Residual Unet\n",
    "class ResidualConvBlock(nn.Module):\n",
    "    def __init__(self, in_ch, out_ch, stride=2, padding='same'):\n",
    "        super().__init__()\n",
    "        pad_size = lambda kernel_size:(kernel_size-1)//2\n",
    "        kernel_size = 3\n",
    "        pad = pad_size(kernel_size) if padding=='same' else padding   \n",
    "        \n",
    "        self.conv_block = nn.Sequential(\n",
    "          nn.BatchNorm2d(in_ch),\n",
    "          nn.ReLU(),\n",
    "          nn.Conv2d(in_ch, out_ch, kernel_size=3, stride=stride, padding=pad),\n",
    "          nn.BatchNorm2d(out_ch),\n",
    "          nn.ReLU(),\n",
    "          nn.Conv2d(out_ch, out_ch, kernel_size=3, padding=pad),\n",
    "          )\n",
    "        self.conv_skip = nn.Sequential(\n",
    "          nn.Conv2d(in_ch, out_ch, kernel_size=3, stride=stride, padding=pad),\n",
    "        )\n",
    "\n",
    "\n",
    "    def forward(self, x):\n",
    "\n",
    "        return self.conv_block(x) + self.conv_skip(x)"
   ]
  },
  {
   "cell_type": "code",
   "execution_count": 14,
   "id": "944a6ec1",
   "metadata": {},
   "outputs": [],
   "source": [
    "class Up(nn.Module):\n",
    "    def __init__(self, in_ch, out_ch, bilinear=True, padding='same'):\n",
    "        super().__init__()\n",
    "        if bilinear:\n",
    "            # normal convolutions to reduce the number of channels\n",
    "            self.up = nn.Sequential(nn.Upsample(scale_factor = 2, mode = 'bilinear', align_corners = True),\n",
    "                                    nn.Conv2d(in_ch, (in_ch // 2), 3, padding=1, bias=True),\n",
    "                                    nn.BatchNorm2d(in_ch // 2),\n",
    "                                    nn.ReLU(),)\n",
    "        else:\n",
    "            self.up = nn.Sequential(nn.ConvTranspose2d(in_ch, (in_ch // 2), kernel_size = 2, stride = 2),\n",
    "                                    nn.BatchNorm2d(in_ch // 2),\n",
    "                                    nn.ReLU(),)\n",
    "\n",
    "        pad = 1 if (padding==True or padding=='same') else 0\n",
    "        self.ResidualConvBlock = ResidualConvBlock(in_ch, out_ch, 2, padding=pad)\n",
    "\n",
    "    def forward(self, x, enc_ftrs):\n",
    "        x = self.up(x)\n",
    "        enc_ftrs = self.crop(enc_ftrs, x)\n",
    "        x = torch.cat([x, enc_ftrs], dim=1)\n",
    "        x = self.ResidualConvBlock(x)\n",
    "        return x\n",
    "    \n",
    "    def crop(self, enc_ftrs, x):\n",
    "        _, _, H, W = x.shape\n",
    "        enc_ftrs   = torchvision.transforms.CenterCrop([H, W])(enc_ftrs)\n",
    "        return enc_ftrs"
   ]
  },
  {
   "cell_type": "code",
   "execution_count": 15,
   "id": "cb64d217",
   "metadata": {},
   "outputs": [],
   "source": [
    "class ResUnet(nn.Module):\n",
    "    def __init__(self, out_sz, in_ch, out_ch, bilinear=True, activation=None):\n",
    "#     def __init__(self, num_classes=1, channel=3, filters=[64, 128, 256, 512], activation=nn.Sigmoid()):\n",
    "        super(ResUnet, self).__init__()\n",
    "        if isinstance(out_sz,(int)): self.out_sz = (out_sz, out_sz)\n",
    "        if isinstance(out_sz,(tuple,list)): self.out_sz = tuple(out_sz)\n",
    "        \n",
    "        chs = (64, 128, 256, 512, 1024)\n",
    "        \n",
    "        self.head = nn.Conv2d(chs[0], out_ch, 1)\n",
    "        self.activation = activation\n",
    "        self.out_sz = out_sz\n",
    "        \n",
    "        '''\n",
    "        Unet with nn.ModuleList\n",
    "        '''\n",
    "        self.input_layer = nn.Sequential(\n",
    "            nn.Conv2d(in_ch, chs[0], kernel_size=3, padding=1),\n",
    "            nn.BatchNorm2d(chs[0]),\n",
    "            nn.ReLU(),\n",
    "            nn.Conv2d(chs[0], chs[0], kernel_size=3, padding=1),\n",
    "        )\n",
    "        self.input_skip = nn.Sequential(\n",
    "            nn.Conv2d(in_ch, chs[0], kernel_size=3, padding=1)\n",
    "        )\n",
    "        self.down_list = nn.ModuleList([ResidualConvBlock(chs[i], chs[i+1], 2, padding='same') for i in range(len(chs)-1)]) \n",
    "        chs = chs[::-1]\n",
    "        self.up_list = nn.ModuleList([Up(chs[i], chs[i+1], 2, padding='same') for i in range(len(chs)-1)]) \n",
    "\n",
    "\n",
    "    def forward(self, x):\n",
    "        x = self.input_layer(x) + self.input_skip(x)\n",
    "        \n",
    "        enc_ftrs = [x]\n",
    "        for idx in range(len(self.down_list)):\n",
    "            outputs = self.down_list[idx](enc_ftrs[idx])\n",
    "            enc_ftrs.append(outputs)\n",
    "        enc_ftrs = enc_ftrs[::-1]\n",
    "        \n",
    "        tmp_ftr = enc_ftrs[0] \n",
    "        for idx in range(len(self.up_list)):\n",
    "            tmp_ftr = self.up_list[idx](tmp_ftr, enc_ftrs[idx+1])\n",
    "        \n",
    "        logits = self.head(tmp_ftr)\n",
    "        \n",
    "        # interpolate \n",
    "        _, _, H, W = logits.shape\n",
    "        if (H,W)==self.out_sz: pass\n",
    "        else:\n",
    "            logits = F.interpolate(logits, self.out_sz)\n",
    "        \n",
    "        # add activation (not necessary)\n",
    "        if self.activation:\n",
    "            logits = self.activation(logits)\n",
    "        \n",
    "        return logits"
   ]
  },
  {
   "cell_type": "code",
   "execution_count": 16,
   "id": "b1a5daf4",
   "metadata": {
    "colab": {
     "base_uri": "https://localhost:8080/"
    },
    "id": "ou7TsU57HjIY",
    "outputId": "447a1ee3-d147-4362-cc02-851878030fe6"
   },
   "outputs": [
    {
     "name": "stdout",
     "output_type": "stream",
     "text": [
      "torch.Size([1, 1, 512, 512])\n"
     ]
    }
   ],
   "source": [
    "if __name__ == '__main__':\n",
    "    HEIGHT, WIDTH,  = (512, 512)\n",
    "    net = ResUnet(HEIGHT, 3, 1, bilinear=True, activation=None)\n",
    "    \n",
    "    x    = torch.randn(1, 3, WIDTH, HEIGHT)#.to(device)\n",
    "    y_pred = net(x)\n",
    "    print(y_pred.shape)\n",
    "    \n",
    "\n"
   ]
  },
  {
   "cell_type": "code",
   "execution_count": 17,
   "id": "7a68e6df",
   "metadata": {},
   "outputs": [
    {
     "name": "stderr",
     "output_type": "stream",
     "text": [
      "[NbConvertApp] Converting notebook ResUnet.ipynb to python\n",
      "[NbConvertApp] Writing 6262 bytes to ResUnet.py\n"
     ]
    }
   ],
   "source": [
    "import os\n",
    "if __name__ == '__main__':\n",
    "    if get_ipython().__class__.__name__ =='ZMQInteractiveShell':\n",
    "        os.system('jupyter nbconvert ResUnet.ipynb --to python')\n"
   ]
  },
  {
   "cell_type": "code",
   "execution_count": null,
   "id": "659ec266",
   "metadata": {},
   "outputs": [],
   "source": []
  }
 ],
 "metadata": {
  "accelerator": "GPU",
  "colab": {
   "collapsed_sections": [],
   "include_colab_link": true,
   "name": "create_train_ResUnet.ipynb",
   "provenance": []
  },
  "kernelspec": {
   "display_name": "Python 3 (ipykernel)",
   "language": "python",
   "name": "python3"
  },
  "language_info": {
   "codemirror_mode": {
    "name": "ipython",
    "version": 3
   },
   "file_extension": ".py",
   "mimetype": "text/x-python",
   "name": "python",
   "nbconvert_exporter": "python",
   "pygments_lexer": "ipython3",
   "version": "3.7.10"
  }
 },
 "nbformat": 4,
 "nbformat_minor": 5
}
