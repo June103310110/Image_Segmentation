{
 "cells": [
  {
   "cell_type": "code",
   "execution_count": 1,
   "id": "aaf5672d",
   "metadata": {},
   "outputs": [],
   "source": [
    "import numpy as np # linear algebra\n",
    "import pandas as pd # data processing, CSV file I/O (e.g. pd.read_csv)\n",
    "from pydicom import dcmread\n",
    "import os\n",
    "import scipy.ndimage as ndimage\n",
    "import matplotlib.pyplot as plt\n",
    "import re\n",
    "from glob import glob\n",
    "from wad import Dict\n",
    "import cv2"
   ]
  },
  {
   "cell_type": "code",
   "execution_count": 2,
   "id": "7e915b59",
   "metadata": {},
   "outputs": [],
   "source": [
    "DATA_ROOT=\"../datas/2_Domain_Adaptation_dataset/\"\n",
    "subjects=sorted(glob(DATA_ROOT+f\"CT/*/\",recursive=True))"
   ]
  },
  {
   "cell_type": "code",
   "execution_count": 3,
   "id": "587a26e3",
   "metadata": {},
   "outputs": [],
   "source": [
    "import os\n",
    "from os.path import join"
   ]
  },
  {
   "cell_type": "code",
   "execution_count": 69,
   "id": "85f1f836",
   "metadata": {},
   "outputs": [],
   "source": [
    "def filt(tgt,str_list):\n",
    "    return sorted([*filter(lambda x: tgt in x, str_list)])\n",
    "mx=0\n",
    "for sub in subjects:\n",
    "    # get files\n",
    "    src_dcm=sorted(glob(sub+f\"**/*.dcm\",recursive=True))\n",
    "    src_png=sorted(glob(sub+f\"**/*.png\",recursive=True))\n",
    "    \n",
    "    # filter files, generate new file name\n",
    "    src_f=Dict(img=filt(\"DICOM_anon\",src_dcm),msk=filt(\"Ground\",src_png))\n",
    "    tmp=[m.split(\"/\") for m in src_f.msk]\n",
    "    new_dir=join(*tmp[0][:-2],\"NewGT\")\n",
    "    os.makedirs(new_dir,exist_ok=True)\n",
    "    new_fname=[join(new_dir,t[-1]) for t in tmp] ###\n",
    "    # Image reading\n",
    "    slices = [dcmread(d) for d in src_f.img]\n",
    "    image=np.stack([s.pixel_array.astype(\"float\") for s in slices])\n",
    "    \n",
    "    slope = float(slices[0].RescaleSlope)\n",
    "    if slope != 1:\n",
    "        image = (slope * image)\n",
    "    if image.max()>mx:\n",
    "        mx=image.max()\n",
    "    image[image>5000]=0.\n",
    "    image=image/(image[:,0,0].mean()+1e-8)\n",
    "    image=image/(image.max()-image.min()) ###\n",
    "    image=np.exp(image)/np.exp(1)\n",
    "    \n",
    "    # Mask   \n",
    "    masks = np.stack([(cv2.imread(m)[...,0]==255).astype(\"uint8\") for m in src_f.msk]) ###\n",
    "    for name,img,msk in zip(new_fname,image,masks):\n",
    "        # Thresholding the image\n",
    "        _, thresh = cv2.threshold((img*255).astype(\"uint8\"),117, 255, 0)\n",
    "        # Find Trunk Contours, and sort with contour length\n",
    "        contours_, hierarchy = cv2.findContours(thresh, cv2.RETR_EXTERNAL, cv2.CHAIN_APPROX_SIMPLE)\n",
    "        contours=np.squeeze(sorted(contours_, key=len,reverse=True)[0])\n",
    "        # Fill contour with 1\n",
    "        filled_contour=cv2.fillPoly(np.zeros_like(img,dtype=\"uint8\"), pts =[contours], color=1)\n",
    "        i=0\n",
    "        while filled_contour.sum()<np.prod(img.shape)/4:\n",
    "            i+=1\n",
    "            if i>2:\n",
    "                print(name)\n",
    "                break\n",
    "            contours=np.squeeze(sorted(contours_, key=len,reverse=True)[i])\n",
    "            filled_contour=cv2.fillPoly(np.zeros_like(img,dtype=\"uint8\"), pts =[contours], color=1)\n",
    "        # Find difference of trunk and liver\n",
    "        trunk=np.logical_xor(msk,filled_contour)\n",
    "        lung=msk>0\n",
    "        msk[trunk]=32\n",
    "        msk[lung]=63\n",
    "        cv2.imwrite(name,msk)"
   ]
  },
  {
   "cell_type": "code",
   "execution_count": 61,
   "id": "492b1373",
   "metadata": {},
   "outputs": [],
   "source": [
    "sub=\"../datas/2_Domain_Adaptation_dataset/CT/16/\"\n",
    "\n",
    "src_dcm=sorted(glob(sub+f\"**/*.dcm\",recursive=True))\n",
    "src_png=sorted(glob(sub+f\"**/*.png\",recursive=True))\n",
    "\n",
    "# filter files, generate new file name\n",
    "src_f=Dict(img=filt(\"DICOM_anon\",src_dcm),msk=filt(\"Ground\",src_png))\n",
    "tmp=[m.split(\"/\") for m in src_f.msk]\n",
    "new_dir=join(*tmp[0][:-2],\"NewGT\")\n",
    "os.makedirs(new_dir,exist_ok=True)\n",
    "new_fname=[join(new_dir,t[-1]) for t in tmp] ###\n",
    "# Image reading\n",
    "slices = [dcmread(d) for d in src_f.img]\n",
    "image=np.stack([s.pixel_array.astype(\"float\") for s in slices])\n",
    "\n",
    "slope = float(slices[0].RescaleSlope)\n",
    "if slope != 1:\n",
    "    image = (slope * image)\n",
    "image[image>5000]=0.\n",
    "\n",
    "image=image/(image[:,0,0].mean()+1e-8)\n",
    "image=image/(image.max()-image.min()) ###\n",
    "image=np.exp(image)/np.exp(1)\n",
    "# Mask   \n",
    "masks = np.stack([(cv2.imread(m)[...,0]==255) for m in src_f.msk]) ###\n",
    "# for name,img,msk in zip(new_fname,image,masks):\n",
    "#     # Thresholding the image\n",
    "#     _, thresh = cv2.threshold((img*255).astype(\"uint8\"), 140, 200, 0)\n",
    "#     # Find Trunk Contours, and sort with contour length\n",
    "#     contours, hierarchy = cv2.findContours(thresh, cv2.RETR_EXTERNAL, cv2.CHAIN_APPROX_SIMPLE)\n",
    "#     contours=np.squeeze(sorted(contours, key=len,reverse=True)[0])\n",
    "#     # Fill contour with 1\n",
    "#     filled_contour=cv2.fillPoly(np.zeros_like(img,dtype=\"uint8\"), pts =[contours], color=1)\n",
    "\n",
    "#     # Find difference of trunk and liver\n",
    "#     trunk=np.logical_xor(msk,filled_contour)\n",
    "    \n",
    "#     lung=msk>0\n",
    "#     msk[trunk]=32\n",
    "#     msk[lung]=63\n",
    "#     cv2.imwrite(name,msk)"
   ]
  },
  {
   "cell_type": "code",
   "execution_count": 62,
   "id": "34163502",
   "metadata": {},
   "outputs": [
    {
     "data": {
      "text/plain": [
       "1.0"
      ]
     },
     "execution_count": 62,
     "metadata": {},
     "output_type": "execute_result"
    }
   ],
   "source": [
    "image.max()"
   ]
  },
  {
   "cell_type": "code",
   "execution_count": 65,
   "id": "a246e9e9",
   "metadata": {},
   "outputs": [
    {
     "data": {
      "text/plain": [
       "True"
      ]
     },
     "execution_count": 65,
     "metadata": {},
     "output_type": "execute_result"
    }
   ],
   "source": [
    "i=81\n",
    "name,img,msk=new_fname[i],image[i],masks[i]\n",
    "# Thresholding the image\n",
    "_, thresh = cv2.threshold((img*255).astype(\"uint8\"), 117, 200, 0)\n",
    "# Find Trunk Contours, and sort with contour length\n",
    "contours_, hierarchy = cv2.findContours(thresh, cv2.RETR_EXTERNAL, cv2.CHAIN_APPROX_SIMPLE)\n",
    "contours=np.squeeze(np.concatenate(sorted(contours_, key=len,reverse=True)[:1]))\n",
    "# Fill contour with 1\n",
    "filled_contour=cv2.fillPoly(np.zeros_like(img,dtype=\"uint8\"), pts =[contours], color=1)\n",
    "i=0\n",
    "while filled_contour.sum()<np.prod(img.shape)/4:\n",
    "    i+=1\n",
    "    if i>2:\n",
    "        print(name)\n",
    "        break\n",
    "    contours=np.squeeze(sorted(contours_, key=len,reverse=True)[i])\n",
    "    filled_contour=cv2.fillPoly(np.zeros_like(img,dtype=\"uint8\"), pts =[contours], color=1)\n",
    "\n",
    "# Find difference of trunk and liver\n",
    "trunk=np.logical_xor(msk,filled_contour)\n",
    "lung=msk>0\n",
    "msk[trunk]=32\n",
    "msk[lung]=63\n",
    "cv2.imwrite(name,msk)"
   ]
  },
  {
   "cell_type": "code",
   "execution_count": 66,
   "id": "c661a246",
   "metadata": {},
   "outputs": [
    {
     "data": {
      "text/plain": [
       "<matplotlib.image.AxesImage at 0x7fd3cb71dd10>"
      ]
     },
     "execution_count": 66,
     "metadata": {},
     "output_type": "execute_result"
    },
    {
     "data": {
      "image/png": "[encoded data removed]",
      "text/plain": [
       "<Figure size 432x288 with 2 Axes>"
      ]
     },
     "metadata": {
      "needs_background": "light"
     },
     "output_type": "display_data"
    }
   ],
   "source": [
    "plt.subplot(1,2,1)\n",
    "plt.imshow(img,\"gray\")\n",
    "plt.subplot(1,2,2)\n",
    "plt.imshow(msk,\"gray\")"
   ]
  },
  {
   "cell_type": "code",
   "execution_count": 67,
   "id": "2c01ff34",
   "metadata": {},
   "outputs": [],
   "source": [
    "contours=np.squeeze(sorted(contours_, key=len,reverse=True)[1])\n",
    "# Fill contour with 1\n",
    "filled_contour=cv2.fillPoly(np.zeros_like(img,dtype=\"uint8\"), pts =[contours], color=1)\n"
   ]
  },
  {
   "cell_type": "code",
   "execution_count": 68,
   "id": "78b0abf6",
   "metadata": {},
   "outputs": [
    {
     "data": {
      "text/plain": [
       "<matplotlib.image.AxesImage at 0x7fd3cc1c0e50>"
      ]
     },
     "execution_count": 68,
     "metadata": {},
     "output_type": "execute_result"
    },
    {
     "data": {
      "image/png": "[encoded data removed]",
      "text/plain": [
       "<Figure size 432x288 with 1 Axes>"
      ]
     },
     "metadata": {
      "needs_background": "light"
     },
     "output_type": "display_data"
    }
   ],
   "source": [
    "plt.imshow(filled_contour,\"gray\")"
   ]
  },
  {
   "cell_type": "code",
   "execution_count": null,
   "id": "99a4c8f6",
   "metadata": {},
   "outputs": [],
   "source": []
  }
 ],
 "metadata": {
  "kernelspec": {
   "display_name": "Python 3 (ipykernel)",
   "language": "python",
   "name": "python3"
  },
  "language_info": {
   "codemirror_mode": {
    "name": "ipython",
    "version": 3
   },
   "file_extension": ".py",
   "mimetype": "text/x-python",
   "name": "python",
   "nbconvert_exporter": "python",
   "pygments_lexer": "ipython3",
   "version": "3.7.10"
  }
 },
 "nbformat": 4,
 "nbformat_minor": 5
}
