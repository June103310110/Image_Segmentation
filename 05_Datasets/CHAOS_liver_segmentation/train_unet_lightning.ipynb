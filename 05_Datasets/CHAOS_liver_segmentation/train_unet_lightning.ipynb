{
 "cells": [
  {
   "cell_type": "code",
   "execution_count": 1,
   "id": "45ea37b5",
   "metadata": {},
   "outputs": [],
   "source": [
    "import os\n",
    "import cv2\n",
    "import numpy as np\n",
    "import torch # 1.9\n",
    "import torch.nn as nn\n",
    "import torch.optim as optim\n",
    "from torch.utils.data import Dataset\n",
    "from torch.nn import functional as F\n",
    "import matplotlib.pyplot as plt\n",
    "from sklearn.model_selection import train_test_split\n",
    "import albumentations as A"
   ]
  },
  {
   "cell_type": "code",
   "execution_count": 2,
   "id": "d8791b7d",
   "metadata": {},
   "outputs": [],
   "source": [
    "from dataset import getAllDataPath, CustomImageDataset, show_image\n",
    "from unet import UNet\n",
    "from ResUnet import ResUnet\n",
    "from AttentionUnet import AttUnet\n",
    "from loss import DiceLoss, FocalLoss"
   ]
  },
  {
   "cell_type": "code",
   "execution_count": 3,
   "id": "faf4f74c",
   "metadata": {},
   "outputs": [],
   "source": [
    "BATCH_SIZE = 8\n",
    "WIDTH = 256\n",
    "HEIGHT = 256\n",
    "device = 'cuda:0'"
   ]
  },
  {
   "cell_type": "code",
   "execution_count": 4,
   "id": "b9c526f8",
   "metadata": {},
   "outputs": [],
   "source": [
    "# https://albumentations.ai/docs/getting_started/mask_augmentation/\n",
    "\n",
    "transform = A.Compose([\n",
    "#     A.HorizontalFlip(p=0.5),\n",
    "#     A.RandomBrightnessContrast(brightness_limit=[-0.05, 0.05], p=0.2),\n",
    "#     A.Rotate((-30, 30), interpolation=0), \n",
    "#     A.RandomContrast(limit=0.2, p=1), \n",
    "\n",
    "    A.Resize(WIDTH, HEIGHT),\n",
    "])\n",
    "\n",
    "target_transform = A.Compose([                       \n",
    "    A.Resize(WIDTH, HEIGHT),\n",
    "])"
   ]
  },
  {
   "cell_type": "code",
   "execution_count": 5,
   "id": "f5b21d3c",
   "metadata": {},
   "outputs": [
    {
     "name": "stdout",
     "output_type": "stream",
     "text": [
      "CT_data train (2299, 2)\n",
      "CT_data test (575, 2)\n",
      "MRI_data train (123, 2)\n",
      "MRI_data test (31, 2)\n",
      "MRI_imgOnly_data train (309,)\n"
     ]
    }
   ],
   "source": [
    "root = './data/CHAOS_AIAdatasets/2_Domain_Adaptation_dataset/CT/'\n",
    "CT_data = getAllDataPath(root, test_split_size=0.2)\n",
    "root = './data/CHAOS_AIAdatasets/2_Domain_Adaptation_dataset/MRI/MRI_Label/'\n",
    "MRI_data = getAllDataPath(root, test_split_size=0.2)\n",
    "root = './data/CHAOS_AIAdatasets/2_Domain_Adaptation_dataset/MRI/MRI_nonLabel/'\n",
    "MRI_imgOnly_data = getAllDataPath(root, imgOnly=True)\n",
    "\n",
    "for data in ['CT_data', 'MRI_data', 'MRI_imgOnly_data']:\n",
    "    i = eval(data)\n",
    "    for k in i.keys():\n",
    "        print(data,k, np.shape(i[k]))\n",
    "\n",
    "\n",
    "dataset_train = CustomImageDataset(MRI_data['train'], transform=transform, pseudo_label=False)\n",
    "dataloader_train = torch.utils.data.DataLoader(dataset_train, batch_size=BATCH_SIZE, shuffle=True, drop_last=True)\n",
    "\n",
    "dataset_test = CustomImageDataset(MRI_data['test'], transform=target_transform, pseudo_label=False) # **如果要正式使用要記得把這裡換成X_test\n",
    "dataloader_test = torch.utils.data.DataLoader(dataset_test, batch_size=BATCH_SIZE, shuffle=False)\n",
    "\n",
    "# CT_dataset_train = CustomImageDataset(CT_data['train'], transform=transform, pseudo_label=True)\n",
    "# CT_dataloader_train = torch.utils.data.DataLoader(CT_dataset_train, batch_size=BATCH_SIZE, shuffle=True, drop_last=True)\n",
    "\n",
    "# CT_dataset_test = CustomImageDataset(CT_data['test'], transform=target_transform)\n",
    "# CT_dataloader_test = torch.utils.data.DataLoader(CT_dataset_test, batch_size=BATCH_SIZE, shuffle=False)"
   ]
  },
  {
   "cell_type": "code",
   "execution_count": 6,
   "id": "8a317809",
   "metadata": {},
   "outputs": [
    {
     "name": "stdout",
     "output_type": "stream",
     "text": [
      "torch.Size([1, 256, 256]) torch.Size([1, 256, 256])\n",
      "(array([45667, 10436,  4899,  2220,  1024,   571,   454,   178,    56,\n",
      "          31]), array([0.        , 0.09990968, 0.19981936, 0.29972905, 0.3996387 ,\n",
      "       0.4995484 , 0.5994581 , 0.69936776, 0.7992774 , 0.89918715,\n",
      "       0.9990968 ], dtype=float32)) tensor([0.])\n"
     ]
    },
    {
     "data": {
      "image/png": "[encoded data removed]",
      "text/plain": [
       "<Figure size 720x216 with 2 Axes>"
      ]
     },
     "metadata": {
      "needs_background": "light"
     },
     "output_type": "display_data"
    }
   ],
   "source": [
    "'''\n",
    "Abs: test transform on dataloader_train.\n",
    "---\n",
    "take first image in every batch.\n",
    "'''\n",
    "for data in dataloader_train:\n",
    "    for x, y in zip(*data): \n",
    "        print(x.shape, y.shape)\n",
    "        print(np.histogram(x.numpy()), y.unique())\n",
    "    \n",
    "        show_image(x.squeeze(0).numpy(), y.squeeze(0).numpy())\n",
    "        break\n",
    "    break"
   ]
  },
  {
   "cell_type": "code",
   "execution_count": 7,
   "id": "31e005f5",
   "metadata": {},
   "outputs": [],
   "source": [
    "import pytorch_lightning as pl\n",
    "from pytorch_lightning.callbacks import ModelCheckpoint\n",
    "from torchvision.ops import sigmoid_focal_loss\n",
    "\n",
    "class unetModel(pl.LightningModule):\n",
    "    def __init__(self, model):\n",
    "        super().__init__()\n",
    "        self.encoder = model\n",
    "#         self.decoder = decoder\n",
    "\n",
    "    def training_step(self, batch, batch_idx):\n",
    "        # training_step defines the train loop.\n",
    "        x, y = batch\n",
    "        outputs = self.encoder(x)\n",
    "\n",
    "        loss = sigmoid_focal_loss(outputs, y, reduction='sum')\n",
    "        self.log('train_loss', loss)\n",
    "        return loss\n",
    "\n",
    "    def configure_optimizers(self):\n",
    "        optimizer = torch.optim.Adam(self.parameters(), lr=1e-3)\n",
    "        return optimizer\n",
    "    \n",
    "    def forward(self, x):\n",
    "        return self.encoder(x)"
   ]
  },
  {
   "cell_type": "code",
   "execution_count": 8,
   "id": "d323daeb",
   "metadata": {},
   "outputs": [],
   "source": [
    "'''\n",
    "title: create model\n",
    "---\n",
    "補充:\n",
    "- 要在建立optimizer之前就把model的參數移到gpu裡面(也就是在把參數託管給optim以前)\n",
    "ref: \n",
    "- https://pytorch.org/docs/stable/optim.html \n",
    "- Road Extraction by Deep Residual U-Net, 2017\n",
    "- U-Net: Convolutional Networks for Biomedical Image Segmentation, 2015\n",
    "- Attention U-Net: Learning Where to Look for the Pancreas, 2018\n",
    "'''\n",
    " \n",
    "# model = UNet\n",
    "model = ResUnet # suggest: only use it for single channel outputs, Sigmoid activation, Dice loss or focal loss\n",
    "# model = AttUnet # better ResUnet \n",
    "model = model((WIDTH, HEIGHT), in_ch=1, out_ch=1, activation=None).to(device)\n",
    "\n",
    "optimizer = optim.Adam(model.parameters(), lr = 1e-1)"
   ]
  },
  {
   "cell_type": "code",
   "execution_count": 18,
   "id": "ad80d873",
   "metadata": {},
   "outputs": [
    {
     "name": "stdout",
     "output_type": "stream",
     "text": [
      "strategy=ddp or dp is not compatible with an interactive environmen(ex: Jupyter Notebook)\n"
     ]
    }
   ],
   "source": [
    "'''\n",
    "torch-lightning\n",
    "'''\n",
    "save_root = './data/save_weights/'\n",
    "model = unetModel(model)\n",
    "\n",
    "# train model\n",
    "try:\n",
    "    checkpoint_callback = ModelCheckpoint(monitor='train_loss',\n",
    "                dirpath=save_root,\n",
    "                filename='{epoch}_{val_loss:.2f}_model',\n",
    "                save_top_k = 3,\n",
    "                mode = 'min',\n",
    "                save_weights_only = True,\n",
    "                )\n",
    "    \n",
    "    trainer = pl.Trainer(devices=2, accelerator=\"gpu\", strategy='ddp', callbacks=[checkpoint_callback], max_epochs=150)\n",
    "    trainer.fit(model=model, train_dataloaders=dataloader_train)\n",
    "except:\n",
    "    print('strategy=ddp or dp is not compatible with an interactive environmen(ex: Jupyter Notebook)')"
   ]
  },
  {
   "cell_type": "markdown",
   "id": "88749d8b",
   "metadata": {},
   "source": [
    "## testing"
   ]
  },
  {
   "cell_type": "code",
   "execution_count": 27,
   "id": "c7fe25ed",
   "metadata": {},
   "outputs": [],
   "source": [
    "# 'from normal pytorch'\n",
    "# # model = ResUnet\n",
    "# # model = model(HEIGHT, in_ch=1, out_ch=3, activation=None).to(device)\n",
    "# # save_root = './data/save_weights/'\n",
    "# # filepath = f'{save_root}E299_model.bin'\n",
    "# # model.load_state_dict(torch.load(filepath)) \n",
    "\n",
    "# 'pytorch-lightning'\n",
    "# model = ResUnet\n",
    "# model = model((WIDTH, HEIGHT), in_ch=1, out_ch=1, activation=None).to(device)\n",
    "# model = unetModel(model)\n",
    "# checkpoint = torch.load(save_root+'epoch=99_train_loss=775.5070_model.ckpt')\n",
    "# model.load_state_dict(checkpoint['state_dict'])\n"
   ]
  },
  {
   "cell_type": "code",
   "execution_count": 28,
   "id": "5a18e4c6",
   "metadata": {},
   "outputs": [],
   "source": [
    "# '''\n",
    "# abs: testing model\n",
    "# ---\n",
    "# '''\n",
    "\n",
    "# for i, data in enumerate(dataloader_test, 1):\n",
    "#     image, mask = data\n",
    "#     print(len(image), image.shape, mask.shape)\n",
    "#     with torch.no_grad():\n",
    "#         image = image.to(device)\n",
    "#         mask = mask.to(device)\n",
    "#         outputs = model(image)\n",
    "\n",
    "#     'single channel outputs'\n",
    "#     threshold = 0\n",
    "#     outputs[outputs>=threshold] = 1.\n",
    "#     outputs[outputs!=1] = 0.\n",
    "\n",
    "#     'multi channel outputs'\n",
    "# #     outputs = F.softmax(outputs)\n",
    "# #     outputs = torch.argmax(outputs, dim=1) # with pseudo label\n",
    "# #     outputs = (torch.argmax(outputs, dim=1)==2).int() # only liver segmentation\n",
    "    \n",
    "#     loss = DiceLoss()(outputs, mask)\n",
    "#     print(loss)\n",
    "#     img_process = lambda image:image.squeeze(1).cpu().numpy()\n",
    "#     mask_process = lambda mask:mask.squeeze(1).cpu().numpy()\n",
    "\n",
    "#     for x, m, outputs in zip(img_process(image), mask_process(mask), mask_process(outputs)):\n",
    "#         show_image(x, m, outputs)\n",
    "# #         break\n",
    "            \n",
    "#     del outputs, image, mask"
   ]
  },
  {
   "cell_type": "code",
   "execution_count": 1,
   "id": "44c46ee3",
   "metadata": {},
   "outputs": [
    {
     "name": "stderr",
     "output_type": "stream",
     "text": [
      "[NbConvertApp] Converting notebook train_unet_lightning.ipynb to python\n",
      "[NbConvertApp] Writing 6692 bytes to train_unet_lightning.py\n"
     ]
    }
   ],
   "source": [
    "import os\n",
    "from IPython import get_ipython \n",
    "try:\n",
    "    if get_ipython().__class__.__name__=='ZMQInteractiveShell':\n",
    "        os.system('jupyter nbconvert train_unet_lightning.ipynb --to python')\n",
    "except NameError:\n",
    "    pass"
   ]
  },
  {
   "cell_type": "code",
   "execution_count": null,
   "id": "1a34284c",
   "metadata": {},
   "outputs": [],
   "source": []
  }
 ],
 "metadata": {
  "kernelspec": {
   "display_name": "Python 3 (ipykernel)",
   "language": "python",
   "name": "python3"
  },
  "language_info": {
   "codemirror_mode": {
    "name": "ipython",
    "version": 3
   },
   "file_extension": ".py",
   "mimetype": "text/x-python",
   "name": "python",
   "nbconvert_exporter": "python",
   "pygments_lexer": "ipython3",
   "version": "3.7.10"
  }
 },
 "nbformat": 4,
 "nbformat_minor": 5
}
